{
 "cells": [
  {
   "cell_type": "markdown",
   "id": "ca448c5b",
   "metadata": {
    "id": "ca448c5b",
    "tags": []
   },
   "source": [
    "# **Credit Card Fraud Detection Model**\n",
    "\n",
    "<img src=\"https://encrypted-tbn0.gstatic.com/images?q=tbn:ANd9GcS-e8zkY607O1csNcQvxRGBF_QyCmQM9aKm0Q&usqp=CAU\"  width=\"1000\" height=\"400\" />"
   ]
  },
  {
   "cell_type": "markdown",
   "id": "NcyAfc_o6Zan",
   "metadata": {
    "id": "NcyAfc_o6Zan"
   },
   "source": [
    "## **Table of Content**\n",
    "* [Project Overview](#Project-Overview)\n",
    "* [Project Objective](#Project-Overview)\n",
    "* [Importing Packages](#Importing-the-neccesary-packages)\n",
    "* [Importing Data](#Data-importation)\n",
    "* [Preprocessing](#Preprocessing)\n",
    "* [Exploratory Data Analysis](#Exploratory-data-analysis)\n",
    "* [Data preprocessing](#Data-preprocessing-for-modelling)\n",
    "    * [Data Slicing into X and y ](#Seperating-target-variable-and-predictors)\n",
    "    * [Data splitting](#Splitting-the-data-into-train_set-and-test_set)\n",
    "    * [Checking for balance](#Checking-whether-the-target-variable-is-balanced-or-not)\n",
    "    * [Correcting Imbalance](#Correcting-imbalance-data)\n",
    "* [Building Models](#Building-of-Model)\n",
    "    * [KNN](#1.-K-Nearest-Neighbors)\n",
    "    * [Logistic Regression](#2.-Logistic-regression)\n",
    "    * [SVM](#3.-Support-Vector-Machine)\n",
    "    * [Decision Tree](#4.-Decision-Tree)\n",
    "    * [Random Forest](#5.-Random-Forest)\n",
    "    * [Bagging](#6.-Bagging-(Boostrap-Aggregation))\n",
    "    * [AdaBoost](#7.-AdaBoost)\n",
    "    * [Gradient Boost](#8.-Gradient-boost)\n",
    "    * [Voting Classifier](#9.-Voting-Classifier)\n",
    "    * [XGBoost](#10.-XGBOOST)\n",
    "    * [CatBoost](#11.-CATBOOST)\n",
    "* [Model Selection](#Model-Selection)\n",
    "    * [Performance Measures](#Creating-a-DataFrame-with-Performance-measures)\n",
    "    * [ROC Curve](#ROC_Curve)\n",
    "    * [Best Model](#Best-Model)\n",
    "* [Feature Importance](#Feature-Importance)\n"
   ]
  },
  {
   "cell_type": "markdown",
   "id": "0pTDu0sleefj",
   "metadata": {
    "id": "0pTDu0sleefj"
   },
   "source": [
    "## **Project Overview**\n",
    "Credit card fraud involves the illegal use of someone else's credentials to make fraudulent credit card transactions. The person whose credit card is mishandled usually ends up with unpaid debt and may be unable to obtain new credit due to a poor credit score (at least until matters are sorted out), which makes early detection of fraudulent transactions by credit card companies crucial."
   ]
  },
  {
   "cell_type": "markdown",
   "id": "-5LDzF5B6SAg",
   "metadata": {
    "id": "-5LDzF5B6SAg",
    "tags": []
   },
   "source": [
    "## **Project Objectives**\n",
    "This project is to build a **Machine Learning Model** to assist banks and/or credit union to predict if a transaction is fraudulent or legitimate.\n",
    "\n"
   ]
  },
  {
   "cell_type": "markdown",
   "id": "50NovSsZ7BA-",
   "metadata": {
    "id": "50NovSsZ7BA-"
   },
   "source": [
    "## **Importing the neccesary packages**"
   ]
  },
  {
   "cell_type": "code",
   "execution_count": 1,
   "id": "11f16504",
   "metadata": {
    "id": "11f16504"
   },
   "outputs": [],
   "source": [
    "import pandas as pd\n",
    "import numpy as np\n",
    "import matplotlib.pyplot as plt\n",
    "import seaborn as sns\n",
    "%matplotlib inline\n",
    "\n",
    "#Plotly\n",
    "import plotly.express as px \n",
    "import plotly.graph_objects as go\n",
    "\n",
    "import sklearn\n",
    "\n",
    "#date library\n",
    "import datetime\n",
    "\n",
    "import warnings\n",
    "warnings.filterwarnings('ignore')"
   ]
  },
  {
   "cell_type": "code",
   "execution_count": 2,
   "id": "mSwQD3CEhp_Q",
   "metadata": {
    "colab": {
     "base_uri": "https://localhost:8080/"
    },
    "id": "mSwQD3CEhp_Q",
    "outputId": "0ada6b02-d0eb-48f3-fc67-56c7122af306"
   },
   "outputs": [],
   "source": [
    "#!pip install catboost"
   ]
  },
  {
   "cell_type": "code",
   "execution_count": 3,
   "id": "76e142f4-45b4-45d5-9a9a-6314e6ea8a3b",
   "metadata": {},
   "outputs": [],
   "source": [
    "#!pip install xgboost"
   ]
  },
  {
   "cell_type": "code",
   "execution_count": 4,
   "id": "92a6ca9d-54dc-4df9-a40c-243460344e82",
   "metadata": {},
   "outputs": [],
   "source": [
    "#!pip install imblearn"
   ]
  },
  {
   "cell_type": "markdown",
   "id": "db55531d",
   "metadata": {
    "id": "db55531d"
   },
   "source": [
    "## **Importing the needed classes for building models,validation, and metrics**"
   ]
  },
  {
   "cell_type": "code",
   "execution_count": 5,
   "id": "d54d6a89",
   "metadata": {
    "id": "d54d6a89"
   },
   "outputs": [],
   "source": [
    "#model selection libraries\n",
    "from sklearn.model_selection import train_test_split\n",
    "from sklearn.model_selection import cross_val_score\n",
    "from sklearn.model_selection import GridSearchCV\n",
    "\n",
    "#classifiers\n",
    "from sklearn.linear_model import LogisticRegression\n",
    "from sklearn.tree import DecisionTreeClassifier\n",
    "from sklearn.neighbors import KNeighborsClassifier \n",
    "from sklearn.svm import SVC \n",
    "from sklearn.svm import LinearSVC\n",
    "\n",
    "#ensemble libraries\n",
    "from sklearn.ensemble import VotingClassifier\n",
    "from sklearn.ensemble import BaggingClassifier\n",
    "from sklearn.ensemble import RandomForestClassifier\n",
    "from sklearn.ensemble import GradientBoostingClassifier\n",
    "from sklearn.ensemble import AdaBoostClassifier\n",
    "\n",
    "#XGBoost\n",
    "from xgboost import XGBClassifier\n",
    "\n",
    "#Catboost\n",
    "from catboost import CatBoostClassifier\n",
    "\n",
    "\n",
    "#preprocessing libraries\n",
    "from sklearn.preprocessing import MinMaxScaler\n",
    "from sklearn.preprocessing import StandardScaler\n",
    "from sklearn.preprocessing import RobustScaler\n",
    "\n",
    "#pipipelines\n",
    "from sklearn.pipeline import Pipeline\n",
    "from sklearn.pipeline import make_pipeline\n",
    "\n",
    "#metrics\n",
    "from sklearn.metrics import confusion_matrix\n",
    "from sklearn.metrics import roc_auc_score\n",
    "from sklearn.metrics import roc_curve\n",
    "from sklearn.metrics import accuracy_score\n",
    "from sklearn.metrics import f1_score\n",
    "from sklearn.metrics import precision_score\n",
    "from sklearn.metrics import recall_score\n",
    "from sklearn.metrics import classification_report\n",
    "\n",
    "#imblearn\n",
    "from imblearn.over_sampling import RandomOverSampler\n",
    "from imblearn.over_sampling import SMOTE\n",
    "from imblearn.over_sampling import ADASYN\n",
    "from imblearn.pipeline import Pipeline\n",
    "from collections import Counter"
   ]
  },
  {
   "cell_type": "markdown",
   "id": "6bd8f297",
   "metadata": {
    "id": "6bd8f297"
   },
   "source": [
    "## **Data-importation**"
   ]
  },
  {
   "cell_type": "code",
   "execution_count": 6,
   "id": "qWxKrq0beJzy",
   "metadata": {
    "colab": {
     "base_uri": "https://localhost:8080/",
     "height": 299
    },
    "id": "qWxKrq0beJzy",
    "outputId": "d60b9047-15c9-4748-d79f-dd7597c8011a"
   },
   "outputs": [
    {
     "data": {
      "text/html": [
       "<div>\n",
       "<style scoped>\n",
       "    .dataframe tbody tr th:only-of-type {\n",
       "        vertical-align: middle;\n",
       "    }\n",
       "\n",
       "    .dataframe tbody tr th {\n",
       "        vertical-align: top;\n",
       "    }\n",
       "\n",
       "    .dataframe thead th {\n",
       "        text-align: right;\n",
       "    }\n",
       "</style>\n",
       "<table border=\"1\" class=\"dataframe\">\n",
       "  <thead>\n",
       "    <tr style=\"text-align: right;\">\n",
       "      <th></th>\n",
       "      <th>Time</th>\n",
       "      <th>V1</th>\n",
       "      <th>V2</th>\n",
       "      <th>V3</th>\n",
       "      <th>V4</th>\n",
       "      <th>V5</th>\n",
       "      <th>V6</th>\n",
       "      <th>V7</th>\n",
       "      <th>V8</th>\n",
       "      <th>V9</th>\n",
       "      <th>...</th>\n",
       "      <th>V21</th>\n",
       "      <th>V22</th>\n",
       "      <th>V23</th>\n",
       "      <th>V24</th>\n",
       "      <th>V25</th>\n",
       "      <th>V26</th>\n",
       "      <th>V27</th>\n",
       "      <th>V28</th>\n",
       "      <th>Amount</th>\n",
       "      <th>Class</th>\n",
       "    </tr>\n",
       "  </thead>\n",
       "  <tbody>\n",
       "    <tr>\n",
       "      <th>0</th>\n",
       "      <td>0.0</td>\n",
       "      <td>-1.359807</td>\n",
       "      <td>-0.072781</td>\n",
       "      <td>2.536347</td>\n",
       "      <td>1.378155</td>\n",
       "      <td>-0.338321</td>\n",
       "      <td>0.462388</td>\n",
       "      <td>0.239599</td>\n",
       "      <td>0.098698</td>\n",
       "      <td>0.363787</td>\n",
       "      <td>...</td>\n",
       "      <td>-0.018307</td>\n",
       "      <td>0.277838</td>\n",
       "      <td>-0.110474</td>\n",
       "      <td>0.066928</td>\n",
       "      <td>0.128539</td>\n",
       "      <td>-0.189115</td>\n",
       "      <td>0.133558</td>\n",
       "      <td>-0.021053</td>\n",
       "      <td>149.62</td>\n",
       "      <td>0</td>\n",
       "    </tr>\n",
       "    <tr>\n",
       "      <th>1</th>\n",
       "      <td>0.0</td>\n",
       "      <td>1.191857</td>\n",
       "      <td>0.266151</td>\n",
       "      <td>0.166480</td>\n",
       "      <td>0.448154</td>\n",
       "      <td>0.060018</td>\n",
       "      <td>-0.082361</td>\n",
       "      <td>-0.078803</td>\n",
       "      <td>0.085102</td>\n",
       "      <td>-0.255425</td>\n",
       "      <td>...</td>\n",
       "      <td>-0.225775</td>\n",
       "      <td>-0.638672</td>\n",
       "      <td>0.101288</td>\n",
       "      <td>-0.339846</td>\n",
       "      <td>0.167170</td>\n",
       "      <td>0.125895</td>\n",
       "      <td>-0.008983</td>\n",
       "      <td>0.014724</td>\n",
       "      <td>2.69</td>\n",
       "      <td>0</td>\n",
       "    </tr>\n",
       "    <tr>\n",
       "      <th>2</th>\n",
       "      <td>1.0</td>\n",
       "      <td>-1.358354</td>\n",
       "      <td>-1.340163</td>\n",
       "      <td>1.773209</td>\n",
       "      <td>0.379780</td>\n",
       "      <td>-0.503198</td>\n",
       "      <td>1.800499</td>\n",
       "      <td>0.791461</td>\n",
       "      <td>0.247676</td>\n",
       "      <td>-1.514654</td>\n",
       "      <td>...</td>\n",
       "      <td>0.247998</td>\n",
       "      <td>0.771679</td>\n",
       "      <td>0.909412</td>\n",
       "      <td>-0.689281</td>\n",
       "      <td>-0.327642</td>\n",
       "      <td>-0.139097</td>\n",
       "      <td>-0.055353</td>\n",
       "      <td>-0.059752</td>\n",
       "      <td>378.66</td>\n",
       "      <td>0</td>\n",
       "    </tr>\n",
       "    <tr>\n",
       "      <th>3</th>\n",
       "      <td>1.0</td>\n",
       "      <td>-0.966272</td>\n",
       "      <td>-0.185226</td>\n",
       "      <td>1.792993</td>\n",
       "      <td>-0.863291</td>\n",
       "      <td>-0.010309</td>\n",
       "      <td>1.247203</td>\n",
       "      <td>0.237609</td>\n",
       "      <td>0.377436</td>\n",
       "      <td>-1.387024</td>\n",
       "      <td>...</td>\n",
       "      <td>-0.108300</td>\n",
       "      <td>0.005274</td>\n",
       "      <td>-0.190321</td>\n",
       "      <td>-1.175575</td>\n",
       "      <td>0.647376</td>\n",
       "      <td>-0.221929</td>\n",
       "      <td>0.062723</td>\n",
       "      <td>0.061458</td>\n",
       "      <td>123.50</td>\n",
       "      <td>0</td>\n",
       "    </tr>\n",
       "    <tr>\n",
       "      <th>4</th>\n",
       "      <td>2.0</td>\n",
       "      <td>-1.158233</td>\n",
       "      <td>0.877737</td>\n",
       "      <td>1.548718</td>\n",
       "      <td>0.403034</td>\n",
       "      <td>-0.407193</td>\n",
       "      <td>0.095921</td>\n",
       "      <td>0.592941</td>\n",
       "      <td>-0.270533</td>\n",
       "      <td>0.817739</td>\n",
       "      <td>...</td>\n",
       "      <td>-0.009431</td>\n",
       "      <td>0.798278</td>\n",
       "      <td>-0.137458</td>\n",
       "      <td>0.141267</td>\n",
       "      <td>-0.206010</td>\n",
       "      <td>0.502292</td>\n",
       "      <td>0.219422</td>\n",
       "      <td>0.215153</td>\n",
       "      <td>69.99</td>\n",
       "      <td>0</td>\n",
       "    </tr>\n",
       "  </tbody>\n",
       "</table>\n",
       "<p>5 rows × 31 columns</p>\n",
       "</div>"
      ],
      "text/plain": [
       "   Time        V1        V2        V3        V4        V5        V6        V7  \\\n",
       "0   0.0 -1.359807 -0.072781  2.536347  1.378155 -0.338321  0.462388  0.239599   \n",
       "1   0.0  1.191857  0.266151  0.166480  0.448154  0.060018 -0.082361 -0.078803   \n",
       "2   1.0 -1.358354 -1.340163  1.773209  0.379780 -0.503198  1.800499  0.791461   \n",
       "3   1.0 -0.966272 -0.185226  1.792993 -0.863291 -0.010309  1.247203  0.237609   \n",
       "4   2.0 -1.158233  0.877737  1.548718  0.403034 -0.407193  0.095921  0.592941   \n",
       "\n",
       "         V8        V9  ...       V21       V22       V23       V24       V25  \\\n",
       "0  0.098698  0.363787  ... -0.018307  0.277838 -0.110474  0.066928  0.128539   \n",
       "1  0.085102 -0.255425  ... -0.225775 -0.638672  0.101288 -0.339846  0.167170   \n",
       "2  0.247676 -1.514654  ...  0.247998  0.771679  0.909412 -0.689281 -0.327642   \n",
       "3  0.377436 -1.387024  ... -0.108300  0.005274 -0.190321 -1.175575  0.647376   \n",
       "4 -0.270533  0.817739  ... -0.009431  0.798278 -0.137458  0.141267 -0.206010   \n",
       "\n",
       "        V26       V27       V28  Amount  Class  \n",
       "0 -0.189115  0.133558 -0.021053  149.62      0  \n",
       "1  0.125895 -0.008983  0.014724    2.69      0  \n",
       "2 -0.139097 -0.055353 -0.059752  378.66      0  \n",
       "3 -0.221929  0.062723  0.061458  123.50      0  \n",
       "4  0.502292  0.219422  0.215153   69.99      0  \n",
       "\n",
       "[5 rows x 31 columns]"
      ]
     },
     "execution_count": 6,
     "metadata": {},
     "output_type": "execute_result"
    }
   ],
   "source": [
    "#loading the data and checking the head\n",
    "data = pd.read_csv('creditcard.csv')\n",
    "data.head()"
   ]
  },
  {
   "cell_type": "markdown",
   "id": "ZBCvtIIXy6b6",
   "metadata": {
    "id": "ZBCvtIIXy6b6"
   },
   "source": [
    "For Data protation, personal information (PI) in this dataset V1, V2,... V28 have been transformed with PCA, however, we may guess that these features might be originally credit card number, expiry date, CVV, cardholder name, transaction location, transaction date-time, etc.\n",
    "\n",
    "The only features which have not been transformed with PCA are 'Time' and 'Amount'. Feature 'Time' contains the seconds elapsed between each transaction and the first transaction in the dataset. The feature 'Amount' is the transaction Amount, this feature can be used for example-dependant cost-sensitive learning.\n",
    "\n",
    "Feature 'Class' is the response variable and it takes value 1 in case of fraud and 0 otherwise."
   ]
  },
  {
   "cell_type": "code",
   "execution_count": 7,
   "id": "cc398055",
   "metadata": {
    "colab": {
     "base_uri": "https://localhost:8080/"
    },
    "id": "cc398055",
    "outputId": "fe127b96-0cf2-4b95-e3d7-28fe39eabc9c",
    "scrolled": true
   },
   "outputs": [
    {
     "name": "stdout",
     "output_type": "stream",
     "text": [
      "The dataset has 284807 rows and 31 columns.\n"
     ]
    }
   ],
   "source": [
    "#checking the number of rows and columns\n",
    "\n",
    "print(\"The dataset has {} rows and {} columns.\".format(data.shape[0],data.shape[1]))"
   ]
  },
  {
   "cell_type": "markdown",
   "id": "66b3fa7b",
   "metadata": {
    "id": "66b3fa7b"
   },
   "source": [
    "## **Preprocessing**"
   ]
  },
  {
   "cell_type": "markdown",
   "id": "5tJgIcUq7qeB",
   "metadata": {
    "id": "5tJgIcUq7qeB"
   },
   "source": [
    "### Checking for missing values"
   ]
  },
  {
   "cell_type": "code",
   "execution_count": 8,
   "id": "ef75c8d8",
   "metadata": {
    "colab": {
     "base_uri": "https://localhost:8080/"
    },
    "id": "ef75c8d8",
    "outputId": "3d758986-eacb-48fd-82ac-6c3bee3f6efa"
   },
   "outputs": [
    {
     "data": {
      "text/plain": [
       "Time      0\n",
       "V1        0\n",
       "V2        0\n",
       "V3        0\n",
       "V4        0\n",
       "V5        0\n",
       "V6        0\n",
       "V7        0\n",
       "V8        0\n",
       "V9        0\n",
       "V10       0\n",
       "V11       0\n",
       "V12       0\n",
       "V13       0\n",
       "V14       0\n",
       "V15       0\n",
       "V16       0\n",
       "V17       0\n",
       "V18       0\n",
       "V19       0\n",
       "V20       0\n",
       "V21       0\n",
       "V22       0\n",
       "V23       0\n",
       "V24       0\n",
       "V25       0\n",
       "V26       0\n",
       "V27       0\n",
       "V28       0\n",
       "Amount    0\n",
       "Class     0\n",
       "dtype: int64"
      ]
     },
     "execution_count": 8,
     "metadata": {},
     "output_type": "execute_result"
    }
   ],
   "source": [
    "data.isnull().sum()"
   ]
  },
  {
   "cell_type": "markdown",
   "id": "a79f9b3d",
   "metadata": {
    "id": "a79f9b3d"
   },
   "source": [
    "**Observation**\n",
    "\n",
    "There were no missing values in our data"
   ]
  },
  {
   "cell_type": "markdown",
   "id": "2d27558c",
   "metadata": {
    "id": "2d27558c"
   },
   "source": [
    "### Checking the data types of the different columns"
   ]
  },
  {
   "cell_type": "code",
   "execution_count": 9,
   "id": "c03e3142",
   "metadata": {
    "colab": {
     "base_uri": "https://localhost:8080/"
    },
    "id": "c03e3142",
    "outputId": "8041bd98-06e0-4f8a-ae51-ee4caff0cccc"
   },
   "outputs": [
    {
     "name": "stdout",
     "output_type": "stream",
     "text": [
      "<class 'pandas.core.frame.DataFrame'>\n",
      "RangeIndex: 284807 entries, 0 to 284806\n",
      "Data columns (total 31 columns):\n",
      " #   Column  Non-Null Count   Dtype  \n",
      "---  ------  --------------   -----  \n",
      " 0   Time    284807 non-null  float64\n",
      " 1   V1      284807 non-null  float64\n",
      " 2   V2      284807 non-null  float64\n",
      " 3   V3      284807 non-null  float64\n",
      " 4   V4      284807 non-null  float64\n",
      " 5   V5      284807 non-null  float64\n",
      " 6   V6      284807 non-null  float64\n",
      " 7   V7      284807 non-null  float64\n",
      " 8   V8      284807 non-null  float64\n",
      " 9   V9      284807 non-null  float64\n",
      " 10  V10     284807 non-null  float64\n",
      " 11  V11     284807 non-null  float64\n",
      " 12  V12     284807 non-null  float64\n",
      " 13  V13     284807 non-null  float64\n",
      " 14  V14     284807 non-null  float64\n",
      " 15  V15     284807 non-null  float64\n",
      " 16  V16     284807 non-null  float64\n",
      " 17  V17     284807 non-null  float64\n",
      " 18  V18     284807 non-null  float64\n",
      " 19  V19     284807 non-null  float64\n",
      " 20  V20     284807 non-null  float64\n",
      " 21  V21     284807 non-null  float64\n",
      " 22  V22     284807 non-null  float64\n",
      " 23  V23     284807 non-null  float64\n",
      " 24  V24     284807 non-null  float64\n",
      " 25  V25     284807 non-null  float64\n",
      " 26  V26     284807 non-null  float64\n",
      " 27  V27     284807 non-null  float64\n",
      " 28  V28     284807 non-null  float64\n",
      " 29  Amount  284807 non-null  float64\n",
      " 30  Class   284807 non-null  int64  \n",
      "dtypes: float64(30), int64(1)\n",
      "memory usage: 67.4 MB\n"
     ]
    }
   ],
   "source": [
    "data.info()"
   ]
  },
  {
   "cell_type": "markdown",
   "id": "addd248e",
   "metadata": {
    "id": "addd248e"
   },
   "source": [
    "### Checking for duplicates"
   ]
  },
  {
   "cell_type": "code",
   "execution_count": 10,
   "id": "69b95a7b",
   "metadata": {
    "colab": {
     "base_uri": "https://localhost:8080/",
     "height": 488
    },
    "id": "69b95a7b",
    "outputId": "8b3604aa-af35-4415-d889-c6bc983be3f1"
   },
   "outputs": [
    {
     "data": {
      "text/html": [
       "<div>\n",
       "<style scoped>\n",
       "    .dataframe tbody tr th:only-of-type {\n",
       "        vertical-align: middle;\n",
       "    }\n",
       "\n",
       "    .dataframe tbody tr th {\n",
       "        vertical-align: top;\n",
       "    }\n",
       "\n",
       "    .dataframe thead th {\n",
       "        text-align: right;\n",
       "    }\n",
       "</style>\n",
       "<table border=\"1\" class=\"dataframe\">\n",
       "  <thead>\n",
       "    <tr style=\"text-align: right;\">\n",
       "      <th></th>\n",
       "      <th>Time</th>\n",
       "      <th>V1</th>\n",
       "      <th>V2</th>\n",
       "      <th>V3</th>\n",
       "      <th>V4</th>\n",
       "      <th>V5</th>\n",
       "      <th>V6</th>\n",
       "      <th>V7</th>\n",
       "      <th>V8</th>\n",
       "      <th>V9</th>\n",
       "      <th>...</th>\n",
       "      <th>V21</th>\n",
       "      <th>V22</th>\n",
       "      <th>V23</th>\n",
       "      <th>V24</th>\n",
       "      <th>V25</th>\n",
       "      <th>V26</th>\n",
       "      <th>V27</th>\n",
       "      <th>V28</th>\n",
       "      <th>Amount</th>\n",
       "      <th>Class</th>\n",
       "    </tr>\n",
       "  </thead>\n",
       "  <tbody>\n",
       "    <tr>\n",
       "      <th>33</th>\n",
       "      <td>26.0</td>\n",
       "      <td>-0.529912</td>\n",
       "      <td>0.873892</td>\n",
       "      <td>1.347247</td>\n",
       "      <td>0.145457</td>\n",
       "      <td>0.414209</td>\n",
       "      <td>0.100223</td>\n",
       "      <td>0.711206</td>\n",
       "      <td>0.176066</td>\n",
       "      <td>-0.286717</td>\n",
       "      <td>...</td>\n",
       "      <td>0.046949</td>\n",
       "      <td>0.208105</td>\n",
       "      <td>-0.185548</td>\n",
       "      <td>0.001031</td>\n",
       "      <td>0.098816</td>\n",
       "      <td>-0.552904</td>\n",
       "      <td>-0.073288</td>\n",
       "      <td>0.023307</td>\n",
       "      <td>6.14</td>\n",
       "      <td>0</td>\n",
       "    </tr>\n",
       "    <tr>\n",
       "      <th>35</th>\n",
       "      <td>26.0</td>\n",
       "      <td>-0.535388</td>\n",
       "      <td>0.865268</td>\n",
       "      <td>1.351076</td>\n",
       "      <td>0.147575</td>\n",
       "      <td>0.433680</td>\n",
       "      <td>0.086983</td>\n",
       "      <td>0.693039</td>\n",
       "      <td>0.179742</td>\n",
       "      <td>-0.285642</td>\n",
       "      <td>...</td>\n",
       "      <td>0.049526</td>\n",
       "      <td>0.206537</td>\n",
       "      <td>-0.187108</td>\n",
       "      <td>0.000753</td>\n",
       "      <td>0.098117</td>\n",
       "      <td>-0.553471</td>\n",
       "      <td>-0.078306</td>\n",
       "      <td>0.025427</td>\n",
       "      <td>1.77</td>\n",
       "      <td>0</td>\n",
       "    </tr>\n",
       "    <tr>\n",
       "      <th>113</th>\n",
       "      <td>74.0</td>\n",
       "      <td>1.038370</td>\n",
       "      <td>0.127486</td>\n",
       "      <td>0.184456</td>\n",
       "      <td>1.109950</td>\n",
       "      <td>0.441699</td>\n",
       "      <td>0.945283</td>\n",
       "      <td>-0.036715</td>\n",
       "      <td>0.350995</td>\n",
       "      <td>0.118950</td>\n",
       "      <td>...</td>\n",
       "      <td>0.102520</td>\n",
       "      <td>0.605089</td>\n",
       "      <td>0.023092</td>\n",
       "      <td>-0.626463</td>\n",
       "      <td>0.479120</td>\n",
       "      <td>-0.166937</td>\n",
       "      <td>0.081247</td>\n",
       "      <td>0.001192</td>\n",
       "      <td>1.18</td>\n",
       "      <td>0</td>\n",
       "    </tr>\n",
       "    <tr>\n",
       "      <th>114</th>\n",
       "      <td>74.0</td>\n",
       "      <td>1.038370</td>\n",
       "      <td>0.127486</td>\n",
       "      <td>0.184456</td>\n",
       "      <td>1.109950</td>\n",
       "      <td>0.441699</td>\n",
       "      <td>0.945283</td>\n",
       "      <td>-0.036715</td>\n",
       "      <td>0.350995</td>\n",
       "      <td>0.118950</td>\n",
       "      <td>...</td>\n",
       "      <td>0.102520</td>\n",
       "      <td>0.605089</td>\n",
       "      <td>0.023092</td>\n",
       "      <td>-0.626463</td>\n",
       "      <td>0.479120</td>\n",
       "      <td>-0.166937</td>\n",
       "      <td>0.081247</td>\n",
       "      <td>0.001192</td>\n",
       "      <td>1.18</td>\n",
       "      <td>0</td>\n",
       "    </tr>\n",
       "    <tr>\n",
       "      <th>115</th>\n",
       "      <td>74.0</td>\n",
       "      <td>1.038370</td>\n",
       "      <td>0.127486</td>\n",
       "      <td>0.184456</td>\n",
       "      <td>1.109950</td>\n",
       "      <td>0.441699</td>\n",
       "      <td>0.945283</td>\n",
       "      <td>-0.036715</td>\n",
       "      <td>0.350995</td>\n",
       "      <td>0.118950</td>\n",
       "      <td>...</td>\n",
       "      <td>0.102520</td>\n",
       "      <td>0.605089</td>\n",
       "      <td>0.023092</td>\n",
       "      <td>-0.626463</td>\n",
       "      <td>0.479120</td>\n",
       "      <td>-0.166937</td>\n",
       "      <td>0.081247</td>\n",
       "      <td>0.001192</td>\n",
       "      <td>1.18</td>\n",
       "      <td>0</td>\n",
       "    </tr>\n",
       "    <tr>\n",
       "      <th>...</th>\n",
       "      <td>...</td>\n",
       "      <td>...</td>\n",
       "      <td>...</td>\n",
       "      <td>...</td>\n",
       "      <td>...</td>\n",
       "      <td>...</td>\n",
       "      <td>...</td>\n",
       "      <td>...</td>\n",
       "      <td>...</td>\n",
       "      <td>...</td>\n",
       "      <td>...</td>\n",
       "      <td>...</td>\n",
       "      <td>...</td>\n",
       "      <td>...</td>\n",
       "      <td>...</td>\n",
       "      <td>...</td>\n",
       "      <td>...</td>\n",
       "      <td>...</td>\n",
       "      <td>...</td>\n",
       "      <td>...</td>\n",
       "      <td>...</td>\n",
       "    </tr>\n",
       "    <tr>\n",
       "      <th>282987</th>\n",
       "      <td>171288.0</td>\n",
       "      <td>1.912550</td>\n",
       "      <td>-0.455240</td>\n",
       "      <td>-1.750654</td>\n",
       "      <td>0.454324</td>\n",
       "      <td>2.089130</td>\n",
       "      <td>4.160019</td>\n",
       "      <td>-0.881302</td>\n",
       "      <td>1.081750</td>\n",
       "      <td>1.022928</td>\n",
       "      <td>...</td>\n",
       "      <td>-0.524067</td>\n",
       "      <td>-1.337510</td>\n",
       "      <td>0.473943</td>\n",
       "      <td>0.616683</td>\n",
       "      <td>-0.283548</td>\n",
       "      <td>-1.084843</td>\n",
       "      <td>0.073133</td>\n",
       "      <td>-0.036020</td>\n",
       "      <td>11.99</td>\n",
       "      <td>0</td>\n",
       "    </tr>\n",
       "    <tr>\n",
       "      <th>283483</th>\n",
       "      <td>171627.0</td>\n",
       "      <td>-1.464380</td>\n",
       "      <td>1.368119</td>\n",
       "      <td>0.815992</td>\n",
       "      <td>-0.601282</td>\n",
       "      <td>-0.689115</td>\n",
       "      <td>-0.487154</td>\n",
       "      <td>-0.303778</td>\n",
       "      <td>0.884953</td>\n",
       "      <td>0.054065</td>\n",
       "      <td>...</td>\n",
       "      <td>0.287217</td>\n",
       "      <td>0.947825</td>\n",
       "      <td>-0.218773</td>\n",
       "      <td>0.082926</td>\n",
       "      <td>0.044127</td>\n",
       "      <td>0.639270</td>\n",
       "      <td>0.213565</td>\n",
       "      <td>0.119251</td>\n",
       "      <td>6.82</td>\n",
       "      <td>0</td>\n",
       "    </tr>\n",
       "    <tr>\n",
       "      <th>283485</th>\n",
       "      <td>171627.0</td>\n",
       "      <td>-1.457978</td>\n",
       "      <td>1.378203</td>\n",
       "      <td>0.811515</td>\n",
       "      <td>-0.603760</td>\n",
       "      <td>-0.711883</td>\n",
       "      <td>-0.471672</td>\n",
       "      <td>-0.282535</td>\n",
       "      <td>0.880654</td>\n",
       "      <td>0.052808</td>\n",
       "      <td>...</td>\n",
       "      <td>0.284205</td>\n",
       "      <td>0.949659</td>\n",
       "      <td>-0.216949</td>\n",
       "      <td>0.083250</td>\n",
       "      <td>0.044944</td>\n",
       "      <td>0.639933</td>\n",
       "      <td>0.219432</td>\n",
       "      <td>0.116772</td>\n",
       "      <td>11.93</td>\n",
       "      <td>0</td>\n",
       "    </tr>\n",
       "    <tr>\n",
       "      <th>284191</th>\n",
       "      <td>172233.0</td>\n",
       "      <td>-2.667936</td>\n",
       "      <td>3.160505</td>\n",
       "      <td>-3.355984</td>\n",
       "      <td>1.007845</td>\n",
       "      <td>-0.377397</td>\n",
       "      <td>-0.109730</td>\n",
       "      <td>-0.667233</td>\n",
       "      <td>2.309700</td>\n",
       "      <td>-1.639306</td>\n",
       "      <td>...</td>\n",
       "      <td>0.391483</td>\n",
       "      <td>0.266536</td>\n",
       "      <td>-0.079853</td>\n",
       "      <td>-0.096395</td>\n",
       "      <td>0.086719</td>\n",
       "      <td>-0.451128</td>\n",
       "      <td>-1.183743</td>\n",
       "      <td>-0.222200</td>\n",
       "      <td>55.66</td>\n",
       "      <td>0</td>\n",
       "    </tr>\n",
       "    <tr>\n",
       "      <th>284193</th>\n",
       "      <td>172233.0</td>\n",
       "      <td>-2.691642</td>\n",
       "      <td>3.123168</td>\n",
       "      <td>-3.339407</td>\n",
       "      <td>1.017018</td>\n",
       "      <td>-0.293095</td>\n",
       "      <td>-0.167054</td>\n",
       "      <td>-0.745886</td>\n",
       "      <td>2.325616</td>\n",
       "      <td>-1.634651</td>\n",
       "      <td>...</td>\n",
       "      <td>0.402639</td>\n",
       "      <td>0.259746</td>\n",
       "      <td>-0.086606</td>\n",
       "      <td>-0.097597</td>\n",
       "      <td>0.083693</td>\n",
       "      <td>-0.453584</td>\n",
       "      <td>-1.205466</td>\n",
       "      <td>-0.213020</td>\n",
       "      <td>36.74</td>\n",
       "      <td>0</td>\n",
       "    </tr>\n",
       "  </tbody>\n",
       "</table>\n",
       "<p>1081 rows × 31 columns</p>\n",
       "</div>"
      ],
      "text/plain": [
       "            Time        V1        V2        V3        V4        V5        V6  \\\n",
       "33          26.0 -0.529912  0.873892  1.347247  0.145457  0.414209  0.100223   \n",
       "35          26.0 -0.535388  0.865268  1.351076  0.147575  0.433680  0.086983   \n",
       "113         74.0  1.038370  0.127486  0.184456  1.109950  0.441699  0.945283   \n",
       "114         74.0  1.038370  0.127486  0.184456  1.109950  0.441699  0.945283   \n",
       "115         74.0  1.038370  0.127486  0.184456  1.109950  0.441699  0.945283   \n",
       "...          ...       ...       ...       ...       ...       ...       ...   \n",
       "282987  171288.0  1.912550 -0.455240 -1.750654  0.454324  2.089130  4.160019   \n",
       "283483  171627.0 -1.464380  1.368119  0.815992 -0.601282 -0.689115 -0.487154   \n",
       "283485  171627.0 -1.457978  1.378203  0.811515 -0.603760 -0.711883 -0.471672   \n",
       "284191  172233.0 -2.667936  3.160505 -3.355984  1.007845 -0.377397 -0.109730   \n",
       "284193  172233.0 -2.691642  3.123168 -3.339407  1.017018 -0.293095 -0.167054   \n",
       "\n",
       "              V7        V8        V9  ...       V21       V22       V23  \\\n",
       "33      0.711206  0.176066 -0.286717  ...  0.046949  0.208105 -0.185548   \n",
       "35      0.693039  0.179742 -0.285642  ...  0.049526  0.206537 -0.187108   \n",
       "113    -0.036715  0.350995  0.118950  ...  0.102520  0.605089  0.023092   \n",
       "114    -0.036715  0.350995  0.118950  ...  0.102520  0.605089  0.023092   \n",
       "115    -0.036715  0.350995  0.118950  ...  0.102520  0.605089  0.023092   \n",
       "...          ...       ...       ...  ...       ...       ...       ...   \n",
       "282987 -0.881302  1.081750  1.022928  ... -0.524067 -1.337510  0.473943   \n",
       "283483 -0.303778  0.884953  0.054065  ...  0.287217  0.947825 -0.218773   \n",
       "283485 -0.282535  0.880654  0.052808  ...  0.284205  0.949659 -0.216949   \n",
       "284191 -0.667233  2.309700 -1.639306  ...  0.391483  0.266536 -0.079853   \n",
       "284193 -0.745886  2.325616 -1.634651  ...  0.402639  0.259746 -0.086606   \n",
       "\n",
       "             V24       V25       V26       V27       V28  Amount  Class  \n",
       "33      0.001031  0.098816 -0.552904 -0.073288  0.023307    6.14      0  \n",
       "35      0.000753  0.098117 -0.553471 -0.078306  0.025427    1.77      0  \n",
       "113    -0.626463  0.479120 -0.166937  0.081247  0.001192    1.18      0  \n",
       "114    -0.626463  0.479120 -0.166937  0.081247  0.001192    1.18      0  \n",
       "115    -0.626463  0.479120 -0.166937  0.081247  0.001192    1.18      0  \n",
       "...          ...       ...       ...       ...       ...     ...    ...  \n",
       "282987  0.616683 -0.283548 -1.084843  0.073133 -0.036020   11.99      0  \n",
       "283483  0.082926  0.044127  0.639270  0.213565  0.119251    6.82      0  \n",
       "283485  0.083250  0.044944  0.639933  0.219432  0.116772   11.93      0  \n",
       "284191 -0.096395  0.086719 -0.451128 -1.183743 -0.222200   55.66      0  \n",
       "284193 -0.097597  0.083693 -0.453584 -1.205466 -0.213020   36.74      0  \n",
       "\n",
       "[1081 rows x 31 columns]"
      ]
     },
     "execution_count": 10,
     "metadata": {},
     "output_type": "execute_result"
    }
   ],
   "source": [
    "data[data.duplicated()]"
   ]
  },
  {
   "cell_type": "code",
   "execution_count": 12,
   "id": "88634ae4",
   "metadata": {
    "colab": {
     "base_uri": "https://localhost:8080/"
    },
    "id": "88634ae4",
    "outputId": "2d79113d-15b3-4d71-b707-13df9976bbc8",
    "scrolled": true
   },
   "outputs": [
    {
     "name": "stdout",
     "output_type": "stream",
     "text": [
      "The dataset contains 1081 duplicates, and we need to drop it\n"
     ]
    }
   ],
   "source": [
    "print(\"The dataset contains {} duplicates, and we need to drop it\".format(data.duplicated().sum()))"
   ]
  },
  {
   "cell_type": "code",
   "execution_count": 13,
   "id": "f08122b7",
   "metadata": {
    "colab": {
     "base_uri": "https://localhost:8080/"
    },
    "id": "f08122b7",
    "outputId": "3f8ea620-f42e-4623-d68f-373ddb8a7430"
   },
   "outputs": [
    {
     "name": "stdout",
     "output_type": "stream",
     "text": [
      "The dataset after removing duplicates now has 283726 rows and 31 columns\n"
     ]
    }
   ],
   "source": [
    "#dropping duplicated rows\n",
    "data.drop_duplicates(inplace=True)\n",
    "print(\"The dataset after removing duplicates now has {} rows and {} columns\".format(data.shape[0],data.shape[1]))"
   ]
  },
  {
   "cell_type": "code",
   "execution_count": 14,
   "id": "01d232c7-c550-40f1-99ad-85e55c085c80",
   "metadata": {},
   "outputs": [
    {
     "data": {
      "text/plain": [
       "0"
      ]
     },
     "execution_count": 14,
     "metadata": {},
     "output_type": "execute_result"
    }
   ],
   "source": [
    "data.duplicated().sum()"
   ]
  },
  {
   "cell_type": "markdown",
   "id": "vU1ETQOW5L2J",
   "metadata": {
    "id": "vU1ETQOW5L2J"
   },
   "source": [
    "[Back to the Top](#Project-Overview)"
   ]
  },
  {
   "cell_type": "markdown",
   "id": "c1985c02",
   "metadata": {
    "id": "c1985c02"
   },
   "source": [
    "## **Exploratory-data-analysis**"
   ]
  },
  {
   "cell_type": "markdown",
   "id": "9a1a045e",
   "metadata": {
    "id": "9a1a045e"
   },
   "source": [
    "### **Samplling Data**\n",
    "We have a very large dataset (283726 x 31) hence the need to sample fraction of the dataset to aid in efficiency of running the codes."
   ]
  },
  {
   "cell_type": "code",
   "execution_count": 15,
   "id": "cubCHCfckGDH",
   "metadata": {
    "colab": {
     "base_uri": "https://localhost:8080/"
    },
    "id": "cubCHCfckGDH",
    "outputId": "4de7b810-c036-46c4-cfba-fdf300a4892b"
   },
   "outputs": [
    {
     "name": "stdout",
     "output_type": "stream",
     "text": [
      "The sampled data has 14186 rows and 31 columns. Random State was set to help reproductivity.\n"
     ]
    }
   ],
   "source": [
    "#Sampling 5% of our the data randomly \n",
    "sample_df = data.sample(frac= 0.05, random_state = 42)\n",
    "sample_df.shape\n",
    "print(\"The sampled data has {} rows and {} columns. Random State was set to help reproductivity.\".format(sample_df.shape[0],sample_df.shape[1]))"
   ]
  },
  {
   "cell_type": "markdown",
   "id": "8Set8rp0NnPx",
   "metadata": {
    "id": "8Set8rp0NnPx"
   },
   "source": [
    "#### **Distribution of Sample data against Original data**"
   ]
  },
  {
   "cell_type": "code",
   "execution_count": 19,
   "id": "tGAiAC9DoAUg",
   "metadata": {
    "colab": {
     "base_uri": "https://localhost:8080/"
    },
    "id": "tGAiAC9DoAUg",
    "outputId": "e904d2a4-5f25-48a2-e389-69ad05658a28"
   },
   "outputs": [
    {
     "name": "stdout",
     "output_type": "stream",
     "text": [
      "0    14161\n",
      "1       25\n",
      "Name: Class, dtype: int64\n",
      "\n",
      "\n",
      "0    0.998238\n",
      "1    0.001762\n",
      "Name: Class, dtype: float64\n"
     ]
    }
   ],
   "source": [
    "#checking the distribution of the class from the sample data against the actual data\n",
    "print(sample_df[\"Class\"].value_counts())\n",
    "print('\\n')\n",
    "print(sample_df[\"Class\"].value_counts(normalize=True)) #normlize returns the relative frequencies of the class"
   ]
  },
  {
   "cell_type": "code",
   "execution_count": 20,
   "id": "a1zYRN5-p9XD",
   "metadata": {
    "colab": {
     "base_uri": "https://localhost:8080/"
    },
    "id": "a1zYRN5-p9XD",
    "outputId": "9f7315a2-fbc0-4248-86a3-e79697a6695d"
   },
   "outputs": [
    {
     "name": "stdout",
     "output_type": "stream",
     "text": [
      "0    283253\n",
      "1       473\n",
      "Name: Class, dtype: int64\n",
      "\n",
      "\n",
      "0    0.998333\n",
      "1    0.001667\n",
      "Name: Class, dtype: float64\n"
     ]
    }
   ],
   "source": [
    "print(data[\"Class\"].value_counts())\n",
    "print('\\n')\n",
    "print(data[\"Class\"].value_counts(normalize=True))"
   ]
  },
  {
   "cell_type": "code",
   "execution_count": 21,
   "id": "avlxPAjKrJ2d",
   "metadata": {
    "colab": {
     "base_uri": "https://localhost:8080/",
     "height": 281
    },
    "id": "avlxPAjKrJ2d",
    "outputId": "1b47bf98-eba0-4579-e83a-50282e415169"
   },
   "outputs": [
    {
     "data": {
      "image/png": "[encoded data removed]",
      "text/plain": [
       "<Figure size 576x288 with 2 Axes>"
      ]
     },
     "metadata": {
      "needs_background": "light"
     },
     "output_type": "display_data"
    }
   ],
   "source": [
    "#visulizing both cases\n",
    "plt.figure(figsize=(8,4))\n",
    "#original Data\n",
    "plt.subplot(1,2,1)\n",
    "data[\"Class\"].value_counts(normalize=True).plot(kind='bar',rot=0)\n",
    "plt.title(\"Original Class Distribution\")\n",
    "\n",
    "#sampled Data\n",
    "plt.subplot(1,2,2)\n",
    "sample_df[\"Class\"].value_counts(normalize=True).plot(kind='bar',rot=0)\n",
    "plt.title(\"Sampled Class Distribution\")\n",
    "\n",
    "plt.show()"
   ]
  },
  {
   "cell_type": "markdown",
   "id": "Rir1k6Q9qgMb",
   "metadata": {
    "id": "Rir1k6Q9qgMb"
   },
   "source": [
    "This dataset has 473 frauds out of 283,253 transactions. The dataset is **highly unbalanced**, the positive class (frauds) account for 0.167% of all transactions.The sampled dataset on the other hand, had 25 frauds out of 14,161 transactions. \n",
    "\n",
    "Most of the transactions are non-fraud. If we use this dataframe as the base for our predictive models and analysis, our algorithms will probably overfit since it will \"assume\" that most transactions are not a fraud. But we don't want our model to assume, we want our model to detect patterns that give signs of fraud!"
   ]
  },
  {
   "cell_type": "markdown",
   "id": "M0_SJCMwLFMR",
   "metadata": {
    "id": "M0_SJCMwLFMR"
   },
   "source": [
    "### **Univariate Analysis**"
   ]
  },
  {
   "cell_type": "markdown",
   "id": "Re3yg9STjOdg",
   "metadata": {
    "id": "Re3yg9STjOdg"
   },
   "source": [
    "#### **1. Spliting our data into Fraud and Not Fraud**"
   ]
  },
  {
   "cell_type": "code",
   "execution_count": 24,
   "id": "imxQ4GifjbjN",
   "metadata": {
    "colab": {
     "base_uri": "https://localhost:8080/"
    },
    "id": "imxQ4GifjbjN",
    "outputId": "ff363388-6da1-4a1d-c748-713da202fef5"
   },
   "outputs": [
    {
     "name": "stdout",
     "output_type": "stream",
     "text": [
      "Observation\n",
      "The fraud dataset has 25 rows and 31 columns while the legitimate transactions has 14161 rows and 31 columns.\n"
     ]
    }
   ],
   "source": [
    "is_fraud = sample_df[sample_df['Class']==1]\n",
    "no_fraud = sample_df[sample_df['Class']==0]\n",
    "print(\"Observation\\nThe fraud dataset has {} rows and {} columns while the legitimate transactions has {} rows and {} columns.\".format(is_fraud.shape[0],is_fraud.shape[1],no_fraud.shape[0],no_fraud.shape[1]))"
   ]
  },
  {
   "cell_type": "markdown",
   "id": "gKYHABkPTQ0T",
   "metadata": {
    "id": "gKYHABkPTQ0T"
   },
   "source": [
    "#### **2. Checking the proportion of fraudulent activities**"
   ]
  },
  {
   "cell_type": "code",
   "execution_count": 34,
   "id": "XeU1m-VROVgf",
   "metadata": {
    "colab": {
     "base_uri": "https://localhost:8080/",
     "height": 373
    },
    "id": "XeU1m-VROVgf",
    "outputId": "8b1f7505-bbed-4ffc-e4d4-b376ffd607ff"
   },
   "outputs": [
    {
     "data": {
      "image/png": "[encoded data removed]",
      "text/plain": [
       "<Figure size 720x432 with 1 Axes>"
      ]
     },
     "metadata": {},
     "output_type": "display_data"
    }
   ],
   "source": [
    "plt.figure(figsize=(10,6))\n",
    "labels=['Not Fraud' , 'Frauds']\n",
    "explode = [0,0]\n",
    "color=['royalblue' , 'red']\n",
    "sizes=sample_df.Class.value_counts().values\n",
    "\n",
    "plt.pie(sizes,explode,labels,autopct=\"%1.1f%%\", colors = color)\n",
    "plt.title('Propoertion of Fraud Dectected')\n",
    "plt.show()"
   ]
  },
  {
   "cell_type": "markdown",
   "id": "uF5_NtgiQ9XZ",
   "metadata": {
    "id": "uF5_NtgiQ9XZ"
   },
   "source": [
    "**Observation**\n",
    "\n",
    "It is observed that 99.8% of the transaction  is legitimate (No Fraud) and 0.2% transactions is fraudulent. There is still the need to reduce the amount of fraudulent activity desipte the fact that it is less than 1%. "
   ]
  },
  {
   "cell_type": "markdown",
   "id": "ve1MdLhCSyCP",
   "metadata": {
    "id": "ve1MdLhCSyCP"
   },
   "source": [
    "#### **3. Amount distribution**"
   ]
  },
  {
   "cell_type": "code",
   "execution_count": 26,
   "id": "LLhifJrSTz6C",
   "metadata": {
    "colab": {
     "base_uri": "https://localhost:8080/",
     "height": 295
    },
    "id": "LLhifJrSTz6C",
    "outputId": "9bd7705f-cb7a-4a28-c70a-a9c61fea081c"
   },
   "outputs": [
    {
     "data": {
      "image/png": "[encoded data removed]",
      "text/plain": [
       "<Figure size 432x288 with 1 Axes>"
      ]
     },
     "metadata": {
      "needs_background": "light"
     },
     "output_type": "display_data"
    }
   ],
   "source": [
    "#Using boxplot to check the distribution of the amount coulmn(Overall Dataset). \n",
    "sns.boxplot(x=sample_df[\"Amount\"])\n",
    "plt.title('Distribution of Amount')\n",
    "plt.show()"
   ]
  },
  {
   "cell_type": "markdown",
   "id": "TJxr5tpod6Rn",
   "metadata": {
    "id": "TJxr5tpod6Rn"
   },
   "source": [
    "**Observation**\n",
    "\n",
    "It is observed that the data contains outliers. The highest amount is over 7000. "
   ]
  },
  {
   "cell_type": "code",
   "execution_count": 27,
   "id": "TTA7hRpSihAs",
   "metadata": {
    "colab": {
     "base_uri": "https://localhost:8080/"
    },
    "id": "TTA7hRpSihAs",
    "outputId": "d8e9b80d-48b6-4fac-998d-dcb0fae4757f"
   },
   "outputs": [
    {
     "data": {
      "text/plain": [
       "count      25.000000\n",
       "mean      221.875600\n",
       "std       421.664106\n",
       "min         0.010000\n",
       "25%         1.000000\n",
       "50%        19.730000\n",
       "75%       130.440000\n",
       "max      1504.930000\n",
       "Name: Amount, dtype: float64"
      ]
     },
     "execution_count": 27,
     "metadata": {},
     "output_type": "execute_result"
    }
   ],
   "source": [
    "#Checking the descriptive statistics for Fraudulent cases\n",
    "is_fraud[\"Amount\"].describe()"
   ]
  },
  {
   "cell_type": "code",
   "execution_count": 28,
   "id": "RsSB8B22yu0G",
   "metadata": {
    "colab": {
     "base_uri": "https://localhost:8080/"
    },
    "id": "RsSB8B22yu0G",
    "outputId": "3a84061a-17b9-45d8-af4e-77b68efe5ce6"
   },
   "outputs": [
    {
     "data": {
      "text/plain": [
       "count    14161.000000\n",
       "mean        86.400479\n",
       "std        220.963812\n",
       "min          0.000000\n",
       "25%          5.930000\n",
       "50%         22.540000\n",
       "75%         77.980000\n",
       "max       7862.390000\n",
       "Name: Amount, dtype: float64"
      ]
     },
     "execution_count": 28,
     "metadata": {},
     "output_type": "execute_result"
    }
   ],
   "source": [
    "#Checking the descriptive statistics for Non-Fraudulent cases\n",
    "no_fraud[\"Amount\"].describe()"
   ]
  },
  {
   "cell_type": "code",
   "execution_count": 29,
   "id": "c2yNjzaTz3YB",
   "metadata": {
    "colab": {
     "base_uri": "https://localhost:8080/",
     "height": 308
    },
    "id": "c2yNjzaTz3YB",
    "outputId": "206427e3-486a-4eda-bd80-e47ee6c72849"
   },
   "outputs": [
    {
     "data": {
      "image/png": "[encoded data removed]",
      "text/plain": [
       "<Figure size 432x288 with 2 Axes>"
      ]
     },
     "metadata": {
      "needs_background": "light"
     },
     "output_type": "display_data"
    }
   ],
   "source": [
    "#Plotting the distribution for both\n",
    "f,(ax1,ax2)=plt.subplots(2,1,sharex=True)\n",
    "f.suptitle('Amount per transaction by class')\n",
    "bins =10\n",
    "ax1.hist(is_fraud.Amount , bins=bins)\n",
    "ax1.set_title('Fraud')\n",
    "\n",
    "ax2.hist(no_fraud.Amount,bins=bins)\n",
    "ax2.set_title('Not Fraud')\n",
    "\n",
    "plt.xlabel('amount in $')\n",
    "plt.ylabel('Frequency')\n",
    "\n",
    "plt.xlim(0,20000)\n",
    "plt.yscale('log')\n",
    "plt.show()"
   ]
  },
  {
   "cell_type": "markdown",
   "id": "Y4TaanVelr33",
   "metadata": {
    "id": "Y4TaanVelr33"
   },
   "source": [
    "**Observation**\n",
    "\n",
    "It is observed that the highest amount in our data which is USD 7862.39 is not a Fraudulent transaction. Because the highest fraudulent transaction was USD 1504.93. Hence amount alone wouldnt be enough to detect a fruadulent activity. "
   ]
  },
  {
   "cell_type": "code",
   "execution_count": 35,
   "id": "4bbb09cd-0f5f-419a-b2d8-be52d200c393",
   "metadata": {},
   "outputs": [
    {
     "data": {
      "image/png": "[encoded data removed]",
      "text/plain": [
       "<Figure size 576x432 with 1 Axes>"
      ]
     },
     "metadata": {
      "needs_background": "light"
     },
     "output_type": "display_data"
    }
   ],
   "source": [
    "plt.figure(figsize=(8,6))\n",
    "sns.stripplot(x='Class', y='Amount',data = sample_df,palette= [\"#0000FF\",\"#FF0000\"])\n",
    "plt.title('Amount Distribution for Fraud and Genuine transactions')\n",
    "plt.show()"
   ]
  },
  {
   "cell_type": "markdown",
   "id": "844b98dc-9c44-47ea-9451-2b14292f74a4",
   "metadata": {},
   "source": [
    "Most of the genuine transaction amounts fall between 0 and about 2000. We have some outliers for really big transactions and it may actually make sense to drop those outliers in our analysis if they are just a few points that are very extreme. Also, we should be conscious that these outliers should not be the fraudulent transaction."
   ]
  },
  {
   "cell_type": "markdown",
   "id": "3DdH-Lpx_tuH",
   "metadata": {
    "id": "3DdH-Lpx_tuH"
   },
   "source": [
    "#### **4. Time distribution**"
   ]
  },
  {
   "cell_type": "code",
   "execution_count": 36,
   "id": "4QcGrt3B_3xy",
   "metadata": {
    "colab": {
     "base_uri": "https://localhost:8080/",
     "height": 385
    },
    "id": "4QcGrt3B_3xy",
    "outputId": "d01c4eb7-50bd-4485-f297-fe6b0afbffe2"
   },
   "outputs": [
    {
     "data": {
      "image/png": "[encoded data removed]",
      "text/plain": [
       "<Figure size 360x360 with 1 Axes>"
      ]
     },
     "metadata": {
      "needs_background": "light"
     },
     "output_type": "display_data"
    }
   ],
   "source": [
    "#Using boxplot to check the distribution of the time coulmn. \n",
    "sns.displot(data=sample_df, x=\"Time\", kde=True)\n",
    "plt.title('Distribution of Time')\n",
    "plt.xlabel('Time')\n",
    "plt.ylabel('Frequency')\n",
    "plt.show()"
   ]
  },
  {
   "cell_type": "markdown",
   "id": "E_Oz5zQp3Fc0",
   "metadata": {
    "id": "E_Oz5zQp3Fc0"
   },
   "source": [
    "**Observation**\n",
    "\n",
    "By seeing the graph, we can see there are two peaks in the graph and even there are some local peaks. We can think of these as the time of the day like the peak is the day time when most people do the transactions and the depth is the night time when most people sleep."
   ]
  },
  {
   "cell_type": "code",
   "execution_count": 37,
   "id": "QqYiM5VZC48r",
   "metadata": {
    "colab": {
     "base_uri": "https://localhost:8080/"
    },
    "id": "QqYiM5VZC48r",
    "outputId": "ceafa4d4-d70a-4365-cffb-63c630b8a2a9"
   },
   "outputs": [
    {
     "data": {
      "text/plain": [
       "count        25.000000\n",
       "mean      89614.000000\n",
       "std       45407.904945\n",
       "min       17520.000000\n",
       "25%       48884.000000\n",
       "50%       87883.000000\n",
       "75%      133184.000000\n",
       "max      155359.000000\n",
       "Name: Time, dtype: float64"
      ]
     },
     "execution_count": 37,
     "metadata": {},
     "output_type": "execute_result"
    }
   ],
   "source": [
    "#Checking the descriptive statistics for Fraudulent cases\n",
    "is_fraud[\"Time\"].describe()"
   ]
  },
  {
   "cell_type": "code",
   "execution_count": 38,
   "id": "EhrcHR1rDDOQ",
   "metadata": {
    "colab": {
     "base_uri": "https://localhost:8080/"
    },
    "id": "EhrcHR1rDDOQ",
    "outputId": "00af32d9-156a-44f2-b906-3756c77d6e26"
   },
   "outputs": [
    {
     "data": {
      "text/plain": [
       "count     14161.000000\n",
       "mean      94972.031848\n",
       "std       47362.856141\n",
       "min          12.000000\n",
       "25%       54463.000000\n",
       "50%       84751.000000\n",
       "75%      139551.000000\n",
       "max      172759.000000\n",
       "Name: Time, dtype: float64"
      ]
     },
     "execution_count": 38,
     "metadata": {},
     "output_type": "execute_result"
    }
   ],
   "source": [
    "#Checking the descriptive statistics for Fraudulent cases\n",
    "no_fraud[\"Time\"].describe()"
   ]
  },
  {
   "cell_type": "code",
   "execution_count": 39,
   "id": "Tkuw0Fzv3_66",
   "metadata": {
    "colab": {
     "base_uri": "https://localhost:8080/",
     "height": 295
    },
    "id": "Tkuw0Fzv3_66",
    "outputId": "8d71aa66-63ed-49bf-e72e-184c8f67d2c3"
   },
   "outputs": [
    {
     "data": {
      "image/png": "[encoded data removed]",
      "text/plain": [
       "<Figure size 1152x288 with 2 Axes>"
      ]
     },
     "metadata": {
      "needs_background": "light"
     },
     "output_type": "display_data"
    }
   ],
   "source": [
    "fig, axs = plt.subplots(ncols=2, figsize=(16,4))\n",
    "\n",
    "sns.distplot(sample_df[(sample_df['Class'] == 1)]['Time'], bins=100, color='red', ax=axs[0])\n",
    "axs[0].set_title(\"Distribution of Fraud Transactions\")\n",
    "\n",
    "sns.distplot(sample_df[(sample_df['Class'] == 0)]['Time'], bins=100, color='blue', ax=axs[1])\n",
    "axs[1].set_title(\"Distribution of No Fraud Transactions\")\n",
    "\n",
    "plt.show()"
   ]
  },
  {
   "cell_type": "markdown",
   "id": "cZUhAVf03L0t",
   "metadata": {
    "id": "cZUhAVf03L0t"
   },
   "source": [
    "### **Multi-variate Analysis**"
   ]
  },
  {
   "cell_type": "markdown",
   "id": "wdkd3d033ngo",
   "metadata": {
    "id": "wdkd3d033ngo"
   },
   "source": [
    "#### **Relationship Between Time and Amount**"
   ]
  },
  {
   "cell_type": "code",
   "execution_count": null,
   "id": "l0P6YIpJ778d",
   "metadata": {
    "colab": {
     "base_uri": "https://localhost:8080/",
     "height": 404
    },
    "id": "l0P6YIpJ778d",
    "outputId": "2ac40a4d-8e20-47b6-e288-2c99077548fc"
   },
   "outputs": [
    {
     "data": {
      "image/png": "[encoded data removed]",
      "text/plain": [
       "<Figure size 1152x432 with 2 Axes>"
      ]
     },
     "metadata": {
      "needs_background": "light"
     },
     "output_type": "display_data"
    }
   ],
   "source": [
    "fig, axs = plt.subplots(nrows=2,sharex=True,figsize=(16,6))\n",
    "\n",
    "sns.scatterplot(x='Time',y='Amount', data=is_fraud, ax=axs[0],color=\"red\",alpha = 0.5)\n",
    "axs[0].set_title(\"Distribution of Fraud Transactions\")\n",
    "\n",
    "sns.scatterplot(x='Time',y='Amount', data=no_fraud, ax=axs[1],color=\"blue\",alpha = 0.5)\n",
    "axs[1].set_title(\"Distribution of No Fraud Transactions\")\n",
    "\n",
    "plt.show()"
   ]
  },
  {
   "cell_type": "markdown",
   "id": "rhS4Bk804l86",
   "metadata": {
    "id": "rhS4Bk804l86"
   },
   "source": [
    "**Observation**\n",
    "\n",
    "It is observed that there is a wide varation between the different points in the fraud dataset. However, the genuine transactions have little varation between the data points, except points with amount greater than 2500. "
   ]
  },
  {
   "cell_type": "markdown",
   "id": "lKH6j3WEB0_U",
   "metadata": {
    "id": "lKH6j3WEB0_U"
   },
   "source": [
    "## **Data-preprocessing-for-modelling**"
   ]
  },
  {
   "cell_type": "markdown",
   "id": "MMsRauKQ4xOl",
   "metadata": {
    "id": "MMsRauKQ4xOl"
   },
   "source": [
    "### **Seperating target variable and predictors**"
   ]
  },
  {
   "cell_type": "code",
   "execution_count": 40,
   "id": "NDAjtuhm5s9j",
   "metadata": {
    "id": "NDAjtuhm5s9j"
   },
   "outputs": [],
   "source": [
    "#predictor\n",
    "X = sample_df.drop(\"Class\", axis=1)\n",
    "\n",
    "#target variable\n",
    "y = sample_df[\"Class\"]"
   ]
  },
  {
   "cell_type": "code",
   "execution_count": 41,
   "id": "aN-ceMqu6vau",
   "metadata": {
    "colab": {
     "base_uri": "https://localhost:8080/",
     "height": 299
    },
    "id": "aN-ceMqu6vau",
    "outputId": "47cae942-5539-431a-86af-2eb231915768"
   },
   "outputs": [
    {
     "data": {
      "text/html": [
       "<div>\n",
       "<style scoped>\n",
       "    .dataframe tbody tr th:only-of-type {\n",
       "        vertical-align: middle;\n",
       "    }\n",
       "\n",
       "    .dataframe tbody tr th {\n",
       "        vertical-align: top;\n",
       "    }\n",
       "\n",
       "    .dataframe thead th {\n",
       "        text-align: right;\n",
       "    }\n",
       "</style>\n",
       "<table border=\"1\" class=\"dataframe\">\n",
       "  <thead>\n",
       "    <tr style=\"text-align: right;\">\n",
       "      <th></th>\n",
       "      <th>Time</th>\n",
       "      <th>V1</th>\n",
       "      <th>V2</th>\n",
       "      <th>V3</th>\n",
       "      <th>V4</th>\n",
       "      <th>V5</th>\n",
       "      <th>V6</th>\n",
       "      <th>V7</th>\n",
       "      <th>V8</th>\n",
       "      <th>V9</th>\n",
       "      <th>...</th>\n",
       "      <th>V20</th>\n",
       "      <th>V21</th>\n",
       "      <th>V22</th>\n",
       "      <th>V23</th>\n",
       "      <th>V24</th>\n",
       "      <th>V25</th>\n",
       "      <th>V26</th>\n",
       "      <th>V27</th>\n",
       "      <th>V28</th>\n",
       "      <th>Amount</th>\n",
       "    </tr>\n",
       "  </thead>\n",
       "  <tbody>\n",
       "    <tr>\n",
       "      <th>104697</th>\n",
       "      <td>69195.0</td>\n",
       "      <td>1.054379</td>\n",
       "      <td>-0.764756</td>\n",
       "      <td>0.160168</td>\n",
       "      <td>0.665587</td>\n",
       "      <td>1.113466</td>\n",
       "      <td>4.771656</td>\n",
       "      <td>-1.536609</td>\n",
       "      <td>1.306483</td>\n",
       "      <td>1.565054</td>\n",
       "      <td>...</td>\n",
       "      <td>0.050995</td>\n",
       "      <td>-0.097138</td>\n",
       "      <td>-0.029759</td>\n",
       "      <td>-0.171596</td>\n",
       "      <td>1.047201</td>\n",
       "      <td>0.698595</td>\n",
       "      <td>-0.217939</td>\n",
       "      <td>0.101970</td>\n",
       "      <td>0.040152</td>\n",
       "      <td>56.42</td>\n",
       "    </tr>\n",
       "    <tr>\n",
       "      <th>134356</th>\n",
       "      <td>80769.0</td>\n",
       "      <td>-4.805134</td>\n",
       "      <td>4.351191</td>\n",
       "      <td>-0.916135</td>\n",
       "      <td>-0.900752</td>\n",
       "      <td>-0.870777</td>\n",
       "      <td>-0.782946</td>\n",
       "      <td>0.328104</td>\n",
       "      <td>0.582501</td>\n",
       "      <td>2.749336</td>\n",
       "      <td>...</td>\n",
       "      <td>2.160193</td>\n",
       "      <td>-0.854486</td>\n",
       "      <td>-0.758266</td>\n",
       "      <td>0.147005</td>\n",
       "      <td>-0.021274</td>\n",
       "      <td>0.552660</td>\n",
       "      <td>0.008318</td>\n",
       "      <td>0.431835</td>\n",
       "      <td>-0.436239</td>\n",
       "      <td>9.82</td>\n",
       "    </tr>\n",
       "    <tr>\n",
       "      <th>42637</th>\n",
       "      <td>41182.0</td>\n",
       "      <td>-1.549833</td>\n",
       "      <td>-0.261143</td>\n",
       "      <td>1.556289</td>\n",
       "      <td>-2.037817</td>\n",
       "      <td>-0.366315</td>\n",
       "      <td>-1.334314</td>\n",
       "      <td>0.165406</td>\n",
       "      <td>-0.025782</td>\n",
       "      <td>-1.472751</td>\n",
       "      <td>...</td>\n",
       "      <td>-0.347365</td>\n",
       "      <td>-0.405656</td>\n",
       "      <td>-0.951005</td>\n",
       "      <td>-0.147752</td>\n",
       "      <td>0.424100</td>\n",
       "      <td>0.081845</td>\n",
       "      <td>1.103559</td>\n",
       "      <td>-0.502271</td>\n",
       "      <td>-0.248822</td>\n",
       "      <td>46.08</td>\n",
       "    </tr>\n",
       "    <tr>\n",
       "      <th>882</th>\n",
       "      <td>666.0</td>\n",
       "      <td>0.216344</td>\n",
       "      <td>0.663182</td>\n",
       "      <td>1.303520</td>\n",
       "      <td>0.169219</td>\n",
       "      <td>-0.404266</td>\n",
       "      <td>-0.517288</td>\n",
       "      <td>-0.036938</td>\n",
       "      <td>-0.838221</td>\n",
       "      <td>-0.528675</td>\n",
       "      <td>...</td>\n",
       "      <td>-0.184929</td>\n",
       "      <td>0.552788</td>\n",
       "      <td>-0.961206</td>\n",
       "      <td>-0.014642</td>\n",
       "      <td>0.525962</td>\n",
       "      <td>0.750877</td>\n",
       "      <td>0.141543</td>\n",
       "      <td>0.045107</td>\n",
       "      <td>0.127321</td>\n",
       "      <td>3.58</td>\n",
       "    </tr>\n",
       "    <tr>\n",
       "      <th>263275</th>\n",
       "      <td>160870.0</td>\n",
       "      <td>-0.273365</td>\n",
       "      <td>0.825649</td>\n",
       "      <td>0.555674</td>\n",
       "      <td>0.384915</td>\n",
       "      <td>1.343842</td>\n",
       "      <td>1.984159</td>\n",
       "      <td>0.321808</td>\n",
       "      <td>0.510275</td>\n",
       "      <td>-0.891463</td>\n",
       "      <td>...</td>\n",
       "      <td>0.172188</td>\n",
       "      <td>0.346482</td>\n",
       "      <td>1.162889</td>\n",
       "      <td>-0.557535</td>\n",
       "      <td>-0.896146</td>\n",
       "      <td>0.503553</td>\n",
       "      <td>0.555129</td>\n",
       "      <td>0.129099</td>\n",
       "      <td>0.047571</td>\n",
       "      <td>2.84</td>\n",
       "    </tr>\n",
       "  </tbody>\n",
       "</table>\n",
       "<p>5 rows × 30 columns</p>\n",
       "</div>"
      ],
      "text/plain": [
       "            Time        V1        V2        V3        V4        V5        V6  \\\n",
       "104697   69195.0  1.054379 -0.764756  0.160168  0.665587  1.113466  4.771656   \n",
       "134356   80769.0 -4.805134  4.351191 -0.916135 -0.900752 -0.870777 -0.782946   \n",
       "42637    41182.0 -1.549833 -0.261143  1.556289 -2.037817 -0.366315 -1.334314   \n",
       "882        666.0  0.216344  0.663182  1.303520  0.169219 -0.404266 -0.517288   \n",
       "263275  160870.0 -0.273365  0.825649  0.555674  0.384915  1.343842  1.984159   \n",
       "\n",
       "              V7        V8        V9  ...       V20       V21       V22  \\\n",
       "104697 -1.536609  1.306483  1.565054  ...  0.050995 -0.097138 -0.029759   \n",
       "134356  0.328104  0.582501  2.749336  ...  2.160193 -0.854486 -0.758266   \n",
       "42637   0.165406 -0.025782 -1.472751  ... -0.347365 -0.405656 -0.951005   \n",
       "882    -0.036938 -0.838221 -0.528675  ... -0.184929  0.552788 -0.961206   \n",
       "263275  0.321808  0.510275 -0.891463  ...  0.172188  0.346482  1.162889   \n",
       "\n",
       "             V23       V24       V25       V26       V27       V28  Amount  \n",
       "104697 -0.171596  1.047201  0.698595 -0.217939  0.101970  0.040152   56.42  \n",
       "134356  0.147005 -0.021274  0.552660  0.008318  0.431835 -0.436239    9.82  \n",
       "42637  -0.147752  0.424100  0.081845  1.103559 -0.502271 -0.248822   46.08  \n",
       "882    -0.014642  0.525962  0.750877  0.141543  0.045107  0.127321    3.58  \n",
       "263275 -0.557535 -0.896146  0.503553  0.555129  0.129099  0.047571    2.84  \n",
       "\n",
       "[5 rows x 30 columns]"
      ]
     },
     "execution_count": 41,
     "metadata": {},
     "output_type": "execute_result"
    }
   ],
   "source": [
    "X.head()"
   ]
  },
  {
   "cell_type": "code",
   "execution_count": 42,
   "id": "0AngvUuG7h8Q",
   "metadata": {
    "colab": {
     "base_uri": "https://localhost:8080/"
    },
    "id": "0AngvUuG7h8Q",
    "outputId": "664282f0-6f38-4343-a0ae-a6df3b501a5b"
   },
   "outputs": [
    {
     "data": {
      "text/plain": [
       "104697    0\n",
       "134356    0\n",
       "42637     0\n",
       "882       0\n",
       "263275    0\n",
       "Name: Class, dtype: int64"
      ]
     },
     "execution_count": 42,
     "metadata": {},
     "output_type": "execute_result"
    }
   ],
   "source": [
    "y.head()"
   ]
  },
  {
   "cell_type": "markdown",
   "id": "1hhKAqsR7lTq",
   "metadata": {
    "id": "1hhKAqsR7lTq"
   },
   "source": [
    "### **Splitting the data into train_set and test_set**"
   ]
  },
  {
   "cell_type": "code",
   "execution_count": 43,
   "id": "SM8FGroc73KB",
   "metadata": {
    "id": "SM8FGroc73KB"
   },
   "outputs": [],
   "source": [
    "#split 80 - 20. 80 for training and 20 for testing\n",
    "X_train, X_test, y_train, y_test = train_test_split(X, y, test_size = 0.2, stratify = y, random_state=42)"
   ]
  },
  {
   "cell_type": "markdown",
   "id": "kjzdwFBX8opH",
   "metadata": {
    "id": "kjzdwFBX8opH"
   },
   "source": [
    "### **Checking whether the target variable is balanced or not**"
   ]
  },
  {
   "cell_type": "code",
   "execution_count": 44,
   "id": "dl-9QA0-D7tM",
   "metadata": {
    "colab": {
     "base_uri": "https://localhost:8080/",
     "height": 295
    },
    "id": "dl-9QA0-D7tM",
    "outputId": "c5297c44-01d4-4111-8522-c966ba377196"
   },
   "outputs": [
    {
     "data": {
      "image/png": "[encoded data removed]",
      "text/plain": [
       "<Figure size 432x288 with 1 Axes>"
      ]
     },
     "metadata": {
      "needs_background": "light"
     },
     "output_type": "display_data"
    }
   ],
   "source": [
    "sns.countplot(y_train,palette= [\"#0000FF\",\"#FF0000\"],alpha=0.7)\n",
    "plt.title('Count plot before oversampling')\n",
    "plt.show()"
   ]
  },
  {
   "cell_type": "markdown",
   "id": "9D5Y98RJEDeE",
   "metadata": {
    "id": "9D5Y98RJEDeE"
   },
   "source": [
    "**Observation**\n",
    "\n",
    "The graph above shows that the class target variable is highly imbalanced. Building a model with imbalanced data can lead to bias towards the class target variable with higher variables.\n",
    "\n",
    "When dealing with imbalance data, accuracy is not necessarily the appropriate metric. Therefore, accuracy would not be a useful criterion for evaluating the effectiveness of models developed using this data.\n",
    "\n",
    "In this situation, alternative metrics must be used, or the data must be balanced statistically. It is highly recommended to balance the data to avoid bias."
   ]
  },
  {
   "cell_type": "code",
   "execution_count": 45,
   "id": "yM4g6u7Bdewl",
   "metadata": {
    "colab": {
     "base_uri": "https://localhost:8080/"
    },
    "id": "yM4g6u7Bdewl",
    "outputId": "aa4ad02f-e61e-47b3-fb39-f7261495a5ee"
   },
   "outputs": [
    {
     "name": "stdout",
     "output_type": "stream",
     "text": [
      "X_train -  (11348, 30)\n",
      "y_train -  (11348,)\n",
      "X_test -  (2838, 30)\n",
      "y_test -  (2838,)\n"
     ]
    }
   ],
   "source": [
    "# Quick sanity check with the shapes of Training and testing datasets\n",
    "print(\"X_train - \",X_train.shape)\n",
    "print(\"y_train - \",y_train.shape)\n",
    "print(\"X_test - \",X_test.shape)\n",
    "print(\"y_test - \",y_test.shape)"
   ]
  },
  {
   "cell_type": "markdown",
   "id": "L13a0K2-KZDy",
   "metadata": {
    "id": "L13a0K2-KZDy"
   },
   "source": [
    "### **Correcting imbalance data**\n",
    "\n",
    "When we talk about imbalanced data, we usually mean a classification issue where the classes are not equally represented. When classifiers are applied to the dataset, everything is likely to be predicted as belonging to the dominant class. This is frequently considered a challenge when learning from severely unbalanced datasets.\n",
    "\n",
    "**Techniques** used to correct the imbalanced dataset is Random Oversampling Technique"
   ]
  },
  {
   "cell_type": "markdown",
   "id": "Dei6rywZKfHo",
   "metadata": {
    "id": "Dei6rywZKfHo"
   },
   "source": [
    "**Inistantiating Sampling Technique**"
   ]
  },
  {
   "cell_type": "code",
   "execution_count": 46,
   "id": "nTPA0x3JaTbD",
   "metadata": {
    "colab": {
     "base_uri": "https://localhost:8080/"
    },
    "id": "nTPA0x3JaTbD",
    "outputId": "c71e3860-fdac-402b-f72e-c53516c61299"
   },
   "outputs": [
    {
     "name": "stdout",
     "output_type": "stream",
     "text": [
      "Before RandomOverSampler: Counter({0: 11328, 1: 20})\n",
      "After RandomOverSampler: Counter({0: 11328, 1: 11328})\n"
     ]
    }
   ],
   "source": [
    "#Instantiating ROS\n",
    "ros = RandomOverSampler(random_state = 42)\n",
    "X_train_ros, y_train_ros = ros.fit_resample(X_train,y_train)\n",
    "\n",
    "print(\"Before RandomOverSampler:\", Counter(y_train))\n",
    "print(\"After RandomOverSampler:\", Counter(y_train_ros))"
   ]
  },
  {
   "cell_type": "code",
   "execution_count": 47,
   "id": "WFA4zF7QJ-EN",
   "metadata": {
    "colab": {
     "base_uri": "https://localhost:8080/",
     "height": 295
    },
    "id": "WFA4zF7QJ-EN",
    "outputId": "3e15ab2a-4339-4700-fab6-9f3d8b4f7179"
   },
   "outputs": [
    {
     "data": {
      "image/png": "[encoded data removed]",
      "text/plain": [
       "<Figure size 432x288 with 1 Axes>"
      ]
     },
     "metadata": {
      "needs_background": "light"
     },
     "output_type": "display_data"
    }
   ],
   "source": [
    "sns.countplot(y_train_ros,palette= [\"#0000FF\",\"#FF0000\"],alpha=0.7)\n",
    "plt.title('Count plot after oversampling')\n",
    "plt.show()"
   ]
  },
  {
   "cell_type": "markdown",
   "id": "aez4VK7V5Xso",
   "metadata": {
    "id": "aez4VK7V5Xso"
   },
   "source": [
    "[Back to the top](#Project-Overview)"
   ]
  },
  {
   "cell_type": "markdown",
   "id": "e5GdXqx6DaGQ",
   "metadata": {
    "id": "e5GdXqx6DaGQ"
   },
   "source": [
    "## **Building of Model**"
   ]
  },
  {
   "cell_type": "markdown",
   "id": "zH6v9C0UDl6k",
   "metadata": {
    "id": "zH6v9C0UDl6k"
   },
   "source": [
    "**Models**\n",
    "\n",
    "1. K nearest neighbors\n",
    "2. Logistic regression\n",
    "3. SVC or SVM\n",
    "4. Decision trees\n",
    "5. Voting Classifier\n",
    "6. Bagging (Boostrap Aggregation)\n",
    "7. Random forest\n",
    "8. AdaBoost\n",
    "9. Gradient boost\n",
    "10. XGBoost\n",
    "11. Cat Boost\n",
    "\n",
    "**In order to optimize the models, gridsearch with cross validation is applied to tune the hyperparameters of the different algorithms. Then, we test the balanced dataset's performance once more with the best parameters.**"
   ]
  },
  {
   "cell_type": "markdown",
   "id": "hAGxDeMpF3z_",
   "metadata": {
    "id": "hAGxDeMpF3z_"
   },
   "source": [
    "### **1. Using K Nearest Neighbors as the based model**"
   ]
  },
  {
   "cell_type": "markdown",
   "id": "oXShIc-N1NpQ",
   "metadata": {
    "id": "oXShIc-N1NpQ"
   },
   "source": [
    "**1.1 Hyperparameter tuning for KNN using Random Oversampling Data**"
   ]
  },
  {
   "cell_type": "code",
   "execution_count": 48,
   "id": "doKYGCQwFc3u",
   "metadata": {
    "colab": {
     "base_uri": "https://localhost:8080/"
    },
    "id": "doKYGCQwFc3u",
    "outputId": "34f2ba43-5c6d-4706-fca1-4a6bdb896f5c"
   },
   "outputs": [
    {
     "name": "stdout",
     "output_type": "stream",
     "text": [
      "Best cross-validation acuracy: 1.00\n",
      "Best test score: 0.44\n",
      "Best parameters: {'knn__n_neighbors': 1}\n"
     ]
    }
   ],
   "source": [
    "#Instantiating the model and setting up grid\n",
    "steps = [('scaler', StandardScaler()),('knn',KNeighborsClassifier())]\n",
    "pipeline =Pipeline(steps)\n",
    "parameters ={'knn__n_neighbors': np.arange(1,35)}\n",
    "grid_knn = GridSearchCV(pipeline,param_grid=parameters,cv=5, scoring=\"f1\")\n",
    "\n",
    "#Fitting the model with X_train, y_train\n",
    "grid_knn.fit(X_train_ros,y_train_ros)\n",
    "\n",
    "#checking for the test score, best parameters and cross-validation accuracies\n",
    "print('Best cross-validation acuracy: {:.2f}'.format(grid_knn.best_score_))\n",
    "print('Best test score: {:.2f}'.format(grid_knn.score(X_test,y_test)))\n",
    "print('Best parameters:',grid_knn.best_params_)"
   ]
  },
  {
   "cell_type": "markdown",
   "id": "pQxZ4KszxNVz",
   "metadata": {
    "id": "pQxZ4KszxNVz"
   },
   "source": [
    "**1.2 K-Nearest Neighbors Model**"
   ]
  },
  {
   "cell_type": "code",
   "execution_count": 49,
   "id": "GHSaRpNrxRAD",
   "metadata": {
    "colab": {
     "base_uri": "https://localhost:8080/"
    },
    "id": "GHSaRpNrxRAD",
    "outputId": "33d7b9c4-be8a-45ef-9d62-273281225e79"
   },
   "outputs": [
    {
     "name": "stdout",
     "output_type": "stream",
     "text": [
      "Test score:1.00\n",
      "Train score:1.00\n",
      "\n",
      "Classifcation report:\n",
      "               precision    recall  f1-score   support\n",
      "\n",
      "           0       1.00      1.00      1.00      2833\n",
      "           1       0.50      0.60      0.55         5\n",
      "\n",
      "    accuracy                           1.00      2838\n",
      "   macro avg       0.75      0.80      0.77      2838\n",
      "weighted avg       1.00      1.00      1.00      2838\n",
      "\n",
      "Confusion matrix:\n",
      " [[2830    3]\n",
      " [   2    3]]\n",
      "\n",
      "\n",
      "Accuracy :1.00\n",
      "AUC : 0.80\n",
      "Precision : 0.50\n",
      "Recall : 0.60\n",
      "F1 : 0.55\n",
      "\n",
      "\n"
     ]
    }
   ],
   "source": [
    "#Instantiating a pipeline\n",
    "steps = [('scaler', StandardScaler()),('knn',KNeighborsClassifier(n_neighbors=11))]\n",
    "pipeline_knn =Pipeline(steps)\n",
    "\n",
    "#Fitting the model with X_train_ros, y_train_ros\n",
    "pipeline_knn.fit(X_train_ros, y_train_ros)\n",
    "knn_y_pred_ros = pipeline_knn.predict(X_test)\n",
    "\n",
    "#checking for the test and train accuracies\n",
    "print(\"Test score:{:.2f}\".format(pipeline_knn.score(X_test,y_test)))\n",
    "print(\"Train score:{:.2f}\\n\".format(pipeline_knn.score(X_train_ros,y_train_ros)))\n",
    "\n",
    "# Obtain the results from the classification report and confusion matrix \n",
    "print('Classifcation report:\\n', classification_report(y_test, knn_y_pred_ros))\n",
    "print(\"Confusion matrix:\\n\",confusion_matrix(y_true=y_test, y_pred=knn_y_pred_ros))\n",
    "\n",
    "print(\"\\n\")\n",
    "# Obtain metrics\n",
    "print('Accuracy :{0:0.2f}'.format(accuracy_score(knn_y_pred_ros , y_test))) \n",
    "print('AUC : {0:0.2f}'.format(roc_auc_score(y_test , knn_y_pred_ros)))\n",
    "print('Precision : {0:0.2f}'.format(precision_score(y_test , knn_y_pred_ros)))\n",
    "print('Recall : {0:0.2f}'.format(recall_score(y_test , knn_y_pred_ros)))\n",
    "print('F1 : {0:0.2f}'.format(f1_score(y_test , knn_y_pred_ros)))\n",
    "print(\"\\n\")"
   ]
  },
  {
   "cell_type": "markdown",
   "id": "iyA7Ls1_GKd5",
   "metadata": {
    "id": "iyA7Ls1_GKd5"
   },
   "source": [
    "### **2. Logistic regression**"
   ]
  },
  {
   "cell_type": "markdown",
   "id": "6Glh6RjmQ6Qf",
   "metadata": {
    "id": "6Glh6RjmQ6Qf"
   },
   "source": [
    "**2.1 Hyperparameter tuning for Logistic Regression using Random Oversampling Data**"
   ]
  },
  {
   "cell_type": "code",
   "execution_count": 50,
   "id": "PCcBxlyhGVkL",
   "metadata": {
    "colab": {
     "base_uri": "https://localhost:8080/"
    },
    "id": "PCcBxlyhGVkL",
    "outputId": "41c79940-f658-47fe-cacf-5e8ce6ec1615"
   },
   "outputs": [
    {
     "name": "stdout",
     "output_type": "stream",
     "text": [
      "Best cross-validation acuracy: 1.00\n",
      "Best test score: 0.62\n",
      "Best parameters: {'lr__C': 100, 'lr__class_weight': None}\n"
     ]
    }
   ],
   "source": [
    "#Instantiating the model and setting up grid\n",
    "steps = [('scaler', StandardScaler()),('lr',LogisticRegression())]\n",
    "pipeline =Pipeline(steps)\n",
    "\n",
    "param_grid = {'lr__C': [100, 10, 1.0, 0.1, 0.01], 'lr__class_weight': [None,'balanced']}\n",
    "grid_logit = GridSearchCV(pipeline, param_grid=param_grid, cv=5, scoring = 'f1', n_jobs=-1)\n",
    "\n",
    "#Fitting the model with X_train, y_train\n",
    "grid_logit.fit(X_train_ros,y_train_ros)\n",
    "\n",
    "#checking for the test score, best parameters and cross-validation accuracies\n",
    "print('Best cross-validation acuracy: {:.2f}'.format(grid_logit.best_score_))\n",
    "print('Best test score: {:.2f}'.format(grid_logit.score(X_test,y_test)))\n",
    "print('Best parameters:',grid_logit.best_params_)"
   ]
  },
  {
   "cell_type": "markdown",
   "id": "0s4EG9pFRncn",
   "metadata": {
    "id": "0s4EG9pFRncn"
   },
   "source": [
    "**2.2 Logistic Regression Model**"
   ]
  },
  {
   "cell_type": "code",
   "execution_count": 51,
   "id": "AuBdICVloKd8",
   "metadata": {
    "colab": {
     "base_uri": "https://localhost:8080/"
    },
    "id": "AuBdICVloKd8",
    "outputId": "d78d48c6-e53f-4357-cf62-47bcc80adc0d"
   },
   "outputs": [
    {
     "name": "stdout",
     "output_type": "stream",
     "text": [
      "Test score:1.00\n",
      "Train score:1.00\n",
      "\n",
      "Classifcation report:\n",
      "               precision    recall  f1-score   support\n",
      "\n",
      "           0       1.00      1.00      1.00      2833\n",
      "           1       0.45      1.00      0.62         5\n",
      "\n",
      "    accuracy                           1.00      2838\n",
      "   macro avg       0.73      1.00      0.81      2838\n",
      "weighted avg       1.00      1.00      1.00      2838\n",
      "\n",
      "Confusion matrix:\n",
      " [[2827    6]\n",
      " [   0    5]]\n",
      "\n",
      "\n",
      "Accuracy :1.00\n",
      "AUC : 1.00\n",
      "Precision : 0.45\n",
      "Recall : 1.00\n",
      "F1 : 0.62\n",
      "\n",
      "\n"
     ]
    }
   ],
   "source": [
    "#Instantiating the model with best parameters\n",
    "steps = [('scaler', StandardScaler()),('logit',LogisticRegression(C=100, class_weight='balanced'))]\n",
    "pipeline_lr =Pipeline(steps)\n",
    "\n",
    "#Fitting the model with X_train_ros, y_train_ros\n",
    "pipeline_lr.fit(X_train_ros, y_train_ros)\n",
    "logit_y_pred_ros = pipeline_lr.predict(X_test)\n",
    "\n",
    "#checking for the test and train accuracies\n",
    "print(\"Test score:{:.2f}\".format(pipeline_lr.score(X_test,y_test)))\n",
    "print(\"Train score:{:.2f}\\n\".format(pipeline_lr.score(X_train_ros,y_train_ros)))\n",
    "\n",
    "# Obtain the results from the classification report and confusion matrix \n",
    "print('Classifcation report:\\n', classification_report(y_test, logit_y_pred_ros))\n",
    "print(\"Confusion matrix:\\n\",confusion_matrix(y_true=y_test, y_pred=logit_y_pred_ros))\n",
    "\n",
    "print(\"\\n\")\n",
    "# Obtain metrics\n",
    "print('Accuracy :{0:0.2f}'.format(accuracy_score(logit_y_pred_ros , y_test))) \n",
    "print('AUC : {0:0.2f}'.format(roc_auc_score(y_test ,logit_y_pred_ros)))\n",
    "print('Precision : {0:0.2f}'.format(precision_score(y_test , logit_y_pred_ros)))\n",
    "print('Recall : {0:0.2f}'.format(recall_score(y_test , logit_y_pred_ros)))\n",
    "print('F1 : {0:0.2f}'.format(f1_score(y_test , logit_y_pred_ros)))\n",
    "print(\"\\n\")"
   ]
  },
  {
   "cell_type": "markdown",
   "id": "nsa_sK0WGX9h",
   "metadata": {
    "id": "nsa_sK0WGX9h"
   },
   "source": [
    "### **3. Support Vector Machine**"
   ]
  },
  {
   "cell_type": "markdown",
   "id": "CP7o6FDHp4OB",
   "metadata": {
    "id": "CP7o6FDHp4OB"
   },
   "source": [
    "**3.1 Hyperparameter tuning for Support Vector Classifier using Random Oversampling Data**"
   ]
  },
  {
   "cell_type": "code",
   "execution_count": 52,
   "id": "Oubk10dpY4hj",
   "metadata": {
    "colab": {
     "base_uri": "https://localhost:8080/"
    },
    "id": "Oubk10dpY4hj",
    "outputId": "3dafbcc4-2f37-4212-b203-bb65511c6189"
   },
   "outputs": [
    {
     "name": "stdout",
     "output_type": "stream",
     "text": [
      "Best cross-validation acuracy: 1.00\n",
      "Best test score: 0.00\n",
      "Best parameters: {'SVC__C': 0.01, 'SVC__gamma': 1}\n"
     ]
    }
   ],
   "source": [
    "#Instantiating the model and setting up grid search\n",
    "pipe = Pipeline([('Scaler',StandardScaler()),('SVC',SVC(probability=True))])\n",
    "param_grid = {'SVC__C':[0.001,0.01,0.1,1,10],\n",
    "            'SVC__gamma':[0.001,0.01,0.1,1,10]}\n",
    "grid_svc = GridSearchCV(pipe, param_grid = param_grid,cv =5,scoring=\"f1\")\n",
    "\n",
    "#Fitting the model with X_train, y_train\n",
    "grid_svc.fit(X_train_ros,y_train_ros)\n",
    "\n",
    "#checking for the test score, best parameters and cross-validation accuracies\n",
    "print('Best cross-validation acuracy: {:.2f}'.format(grid_svc.best_score_))\n",
    "print('Best test score: {:.2f}'.format(grid_svc.score(X_test,y_test)))\n",
    "print('Best parameters:',grid_svc.best_params_)"
   ]
  },
  {
   "cell_type": "markdown",
   "id": "iMvorvYIQnJP",
   "metadata": {
    "id": "iMvorvYIQnJP"
   },
   "source": [
    "**3.2 Support Vector Classifier Model**"
   ]
  },
  {
   "cell_type": "code",
   "execution_count": 53,
   "id": "IHVVadMIQy_H",
   "metadata": {
    "colab": {
     "base_uri": "https://localhost:8080/"
    },
    "id": "IHVVadMIQy_H",
    "outputId": "626e838d-6580-4a37-91da-ec413e3f59a0"
   },
   "outputs": [
    {
     "name": "stdout",
     "output_type": "stream",
     "text": [
      "Test score:1.00\n",
      "Train score:1.00\n",
      "\n",
      "Classifcation report:\n",
      "               precision    recall  f1-score   support\n",
      "\n",
      "           0       1.00      1.00      1.00      2833\n",
      "           1       0.00      0.00      0.00         5\n",
      "\n",
      "    accuracy                           1.00      2838\n",
      "   macro avg       0.50      0.50      0.50      2838\n",
      "weighted avg       1.00      1.00      1.00      2838\n",
      "\n",
      "Confusion matrix:\n",
      " [[2833    0]\n",
      " [   5    0]]\n",
      "\n",
      "\n",
      "Accuracy :1.00\n",
      "AUC : 0.50\n",
      "Precision : 0.00\n",
      "Recall : 0.00\n",
      "F1 : 0.00\n",
      "\n",
      "\n"
     ]
    }
   ],
   "source": [
    "#Instantiating the model with best parameters\n",
    "pipeline_svc = Pipeline([('Scaler',StandardScaler()),('SVC',SVC(C= 0.01,gamma =1,probability=True))])\n",
    "\n",
    "#Fitting the model with X_train_ros, y_train_ros\n",
    "pipeline_svc.fit(X_train_ros, y_train_ros)\n",
    "svc_y_pred_ros = pipeline_svc.predict(X_test)\n",
    "\n",
    "#checking for the test and train accuracies\n",
    "print(\"Test score:{:.2f}\".format(pipeline_svc.score(X_test,y_test)))\n",
    "print(\"Train score:{:.2f}\\n\".format(pipeline_svc.score(X_train_ros,y_train_ros)))\n",
    "\n",
    "# Obtain the results from the classification report and confusion matrix \n",
    "print('Classifcation report:\\n', classification_report(y_test, svc_y_pred_ros))\n",
    "print(\"Confusion matrix:\\n\",confusion_matrix(y_true=y_test, y_pred=svc_y_pred_ros))\n",
    "\n",
    "print(\"\\n\")\n",
    "# Obtain metrics\n",
    "print('Accuracy :{0:0.2f}'.format(accuracy_score(svc_y_pred_ros , y_test))) \n",
    "print('AUC : {0:0.2f}'.format(roc_auc_score(y_test ,svc_y_pred_ros)))\n",
    "print('Precision : {0:0.2f}'.format(precision_score(y_test , svc_y_pred_ros)))\n",
    "print('Recall : {0:0.2f}'.format(recall_score(y_test , svc_y_pred_ros)))\n",
    "print('F1 : {0:0.2f}'.format(f1_score(y_test , svc_y_pred_ros)))\n",
    "print(\"\\n\")"
   ]
  },
  {
   "cell_type": "markdown",
   "id": "y6RzQCkpGrcy",
   "metadata": {
    "id": "y6RzQCkpGrcy"
   },
   "source": [
    "### **4. Decision Tree**"
   ]
  },
  {
   "cell_type": "markdown",
   "id": "2UlEEAy02Wah",
   "metadata": {
    "id": "2UlEEAy02Wah"
   },
   "source": [
    "**4.1 Hyperparameter tuning for Decision Tree using Random Oversampling Data**"
   ]
  },
  {
   "cell_type": "code",
   "execution_count": 54,
   "id": "V6sYd9WXLe2H",
   "metadata": {
    "colab": {
     "base_uri": "https://localhost:8080/"
    },
    "id": "V6sYd9WXLe2H",
    "outputId": "9a441d54-3bb1-4395-fa12-9a430df9a54a"
   },
   "outputs": [
    {
     "name": "stdout",
     "output_type": "stream",
     "text": [
      "Best cross-validation acuracy: 0.98\n",
      "Best test score: 0.08\n",
      "Best parameters: {'max_depth': 3, 'max_features': 0.8, 'min_samples_leaf': 0.04}\n"
     ]
    }
   ],
   "source": [
    "#Instantiating the model and setting up grid search\n",
    "dt = DecisionTreeClassifier(random_state=42)\n",
    "params_dt = {'max_depth': [3, 4,5, 6],'min_samples_leaf': [0.04, 0.06, 0.08],'max_features': [0.2, 0.4,0.6, 0.8]}\n",
    "grid_tree = GridSearchCV(estimator=dt,param_grid=params_dt,scoring='f1',cv=5,n_jobs=-1)\n",
    "\n",
    "#Fitting the model with X_train_smote, y_train_smote\n",
    "grid_tree.fit(X_train_ros,y_train_ros)\n",
    "\n",
    "#checking for the test score, best parameters and cross-validation accuracies\n",
    "print('Best cross-validation acuracy: {:.2f}'.format(grid_tree.best_score_))\n",
    "print('Best test score: {:.2f}'.format(grid_tree.score(X_test,y_test)))\n",
    "print('Best parameters:',grid_tree.best_params_)"
   ]
  },
  {
   "cell_type": "markdown",
   "id": "uWLfvlVLkQlB",
   "metadata": {
    "id": "uWLfvlVLkQlB"
   },
   "source": [
    "**4.2 Decision Tree Model**"
   ]
  },
  {
   "cell_type": "code",
   "execution_count": 55,
   "id": "sxqcb6rOkXgy",
   "metadata": {
    "colab": {
     "base_uri": "https://localhost:8080/"
    },
    "id": "sxqcb6rOkXgy",
    "outputId": "4d7a6b26-9d0f-46cf-a8db-b09c3e154e30"
   },
   "outputs": [
    {
     "name": "stdout",
     "output_type": "stream",
     "text": [
      "Test score:0.98\n",
      "Train score:0.99\n",
      "\n",
      "Classifcation report:\n",
      "               precision    recall  f1-score   support\n",
      "\n",
      "           0       1.00      0.98      0.99      2833\n",
      "           1       0.07      1.00      0.14         5\n",
      "\n",
      "    accuracy                           0.98      2838\n",
      "   macro avg       0.54      0.99      0.56      2838\n",
      "weighted avg       1.00      0.98      0.99      2838\n",
      "\n",
      "Confusion matrix:\n",
      " [[2769   64]\n",
      " [   0    5]]\n",
      "\n",
      "\n",
      "Accuracy :0.98\n",
      "AUC : 0.99\n",
      "Precision : 0.07\n",
      "Recall : 1.00\n",
      "F1 : 0.14\n",
      "\n",
      "\n"
     ]
    }
   ],
   "source": [
    "#Instantiating the model with best parameters\n",
    "tree= DecisionTreeClassifier(max_depth=3, min_samples_leaf=0.04, max_features=0.8)\n",
    "\n",
    "#Fitting the model with X_train_ros, y_train_ros\n",
    "tree.fit(X_train_ros, y_train_ros)\n",
    "tree_y_pred_ros = tree.predict(X_test)\n",
    "\n",
    "#checking for the test and train accuracies\n",
    "print(\"Test score:{:.2f}\".format(tree.score(X_test,y_test)))\n",
    "print(\"Train score:{:.2f}\\n\".format(tree.score(X_train_ros,y_train_ros)))\n",
    "\n",
    "# Obtain the results from the classification report and confusion matrix \n",
    "print('Classifcation report:\\n', classification_report(y_test, tree_y_pred_ros))\n",
    "print(\"Confusion matrix:\\n\",confusion_matrix(y_true=y_test, y_pred=tree_y_pred_ros))\n",
    "\n",
    "print(\"\\n\")\n",
    "# Obtain metrics\n",
    "print('Accuracy :{0:0.2f}'.format(accuracy_score(tree_y_pred_ros , y_test))) \n",
    "print('AUC : {0:0.2f}'.format(roc_auc_score(y_test ,tree_y_pred_ros)))\n",
    "print('Precision : {0:0.2f}'.format(precision_score(y_test , tree_y_pred_ros)))\n",
    "print('Recall : {0:0.2f}'.format(recall_score(y_test , tree_y_pred_ros)))\n",
    "print('F1 : {0:0.2f}'.format(f1_score(y_test , tree_y_pred_ros)))\n",
    "print(\"\\n\")"
   ]
  },
  {
   "cell_type": "markdown",
   "id": "gZQ2eMvbLs_G",
   "metadata": {
    "id": "gZQ2eMvbLs_G"
   },
   "source": [
    "### **5. Random Forest**"
   ]
  },
  {
   "cell_type": "markdown",
   "id": "mEEx0cxXIEJJ",
   "metadata": {
    "id": "mEEx0cxXIEJJ"
   },
   "source": [
    "**5.1 Hyperparameter tuning for Random Forest using Random Oversampling Data**"
   ]
  },
  {
   "cell_type": "code",
   "execution_count": 56,
   "id": "DCq2lVw_IQ8b",
   "metadata": {
    "colab": {
     "base_uri": "https://localhost:8080/"
    },
    "id": "DCq2lVw_IQ8b",
    "outputId": "a41b2833-e0e8-4476-ebaf-9ee396c40025"
   },
   "outputs": [
    {
     "name": "stdout",
     "output_type": "stream",
     "text": [
      "Best cross-validation acuracy: 1.00\n",
      "Best test score: 0.91\n",
      "Best parameters: {'max_features': 5, 'max_leaf_nodes': 9}\n"
     ]
    }
   ],
   "source": [
    "#Instantiating the model and setting up grid search\n",
    "rf = RandomForestClassifier(random_state = 42)\n",
    "param_grid = {'max_features': [1,2,3,4,5,6,7,8,9,10],\n",
    "              'max_leaf_nodes':[1,2, 3,4,5,6,7,8,9,10]}\n",
    "grid_rfc = GridSearchCV(rf, param_grid = param_grid,cv =5,scoring = 'f1', n_jobs=-1)\n",
    "\n",
    "#Fitting the model with X_train, y_train\n",
    "grid_rfc.fit(X_train_ros,y_train_ros)\n",
    "\n",
    "#checking for the test score, best parameters and cross-validation accuracies\n",
    "print('Best cross-validation acuracy: {:.2f}'.format(grid_rfc.best_score_))\n",
    "print('Best test score: {:.2f}'.format(grid_rfc.score(X_test,y_test)))\n",
    "print('Best parameters:',grid_rfc.best_params_)"
   ]
  },
  {
   "cell_type": "markdown",
   "id": "qkMNQ1YlJHxd",
   "metadata": {
    "id": "qkMNQ1YlJHxd"
   },
   "source": [
    "**5.2 Random Forest Model**"
   ]
  },
  {
   "cell_type": "code",
   "execution_count": 57,
   "id": "Hqdng0NaJGaP",
   "metadata": {
    "colab": {
     "base_uri": "https://localhost:8080/"
    },
    "id": "Hqdng0NaJGaP",
    "outputId": "5cc9e7b9-4a6d-47e9-e361-3e22fce9827e"
   },
   "outputs": [
    {
     "name": "stdout",
     "output_type": "stream",
     "text": [
      "Test score:1.00\n",
      "Train score:1.00\n",
      "\n",
      "Classifcation report:\n",
      "               precision    recall  f1-score   support\n",
      "\n",
      "           0       1.00      1.00      1.00      2833\n",
      "           1       0.83      1.00      0.91         5\n",
      "\n",
      "    accuracy                           1.00      2838\n",
      "   macro avg       0.92      1.00      0.95      2838\n",
      "weighted avg       1.00      1.00      1.00      2838\n",
      "\n",
      "Confusion matrix:\n",
      " [[2832    1]\n",
      " [   0    5]]\n",
      "\n",
      "\n",
      "Accuracy :1.00\n",
      "AUC : 1.00\n",
      "Precision : 0.83\n",
      "Recall : 1.00\n",
      "F1 : 0.91\n",
      "\n",
      "\n"
     ]
    }
   ],
   "source": [
    "#Instantiating the model with best parameters\n",
    "rfc = RandomForestClassifier(max_features = 3, max_leaf_nodes =10, random_state = 42)\n",
    "\n",
    "#Fitting the model with X_train_ros, y_train_ros\n",
    "rfc.fit(X_train_ros, y_train_ros)\n",
    "rfc_y_pred_ros = rfc.predict(X_test)\n",
    "\n",
    "#checking for the test and train accuracies\n",
    "print(\"Test score:{:.2f}\".format(rfc.score(X_test,y_test)))\n",
    "print(\"Train score:{:.2f}\\n\".format(rfc.score(X_train_ros,y_train_ros)))\n",
    "\n",
    "# Obtain the results from the classification report and confusion matrix \n",
    "print('Classifcation report:\\n', classification_report(y_test, rfc_y_pred_ros))\n",
    "print(\"Confusion matrix:\\n\",confusion_matrix(y_true=y_test, y_pred=rfc_y_pred_ros))\n",
    "\n",
    "print(\"\\n\")\n",
    "# Obtain metrics\n",
    "print('Accuracy :{0:0.2f}'.format(accuracy_score(rfc_y_pred_ros , y_test))) \n",
    "print('AUC : {0:0.2f}'.format(roc_auc_score(y_test ,rfc_y_pred_ros)))\n",
    "print('Precision : {0:0.2f}'.format(precision_score(y_test , rfc_y_pred_ros)))\n",
    "print('Recall : {0:0.2f}'.format(recall_score(y_test , rfc_y_pred_ros)))\n",
    "print('F1 : {0:0.2f}'.format(f1_score(y_test , rfc_y_pred_ros)))\n",
    "print(\"\\n\")"
   ]
  },
  {
   "cell_type": "markdown",
   "id": "A8X8s-BkLmin",
   "metadata": {
    "id": "A8X8s-BkLmin"
   },
   "source": [
    "### **6. Bagging (Boostrap Aggregation)**\n",
    "bagging (bootstrap aggregation) uses a technique known as the bootstrap, where the ensemble is formed by models that use the same training data. These models are not trained on the entire training set. Instead, each model is trained on a different subset of the data. Overall, Bagging has the effect of reducing the variance of individual models in the ensemble.\n",
    "In the training phase, bagging consists of drawing N different bootstrap samples from the training set. Each of these bootstrap samples are then used to train N models that use the same algorithm\n",
    "We will instantiate DecisionTreeClassifier as our base estimator."
   ]
  },
  {
   "cell_type": "markdown",
   "id": "BGIKQRjyvXhC",
   "metadata": {
    "id": "BGIKQRjyvXhC"
   },
   "source": [
    "**6.1 Bagging Model**"
   ]
  },
  {
   "cell_type": "code",
   "execution_count": 58,
   "id": "14G2Ofu2xdd1",
   "metadata": {
    "colab": {
     "base_uri": "https://localhost:8080/"
    },
    "id": "14G2Ofu2xdd1",
    "outputId": "60c3bacf-99e9-4ee3-e417-215f1ee247e1"
   },
   "outputs": [
    {
     "name": "stdout",
     "output_type": "stream",
     "text": [
      "Test score:1.00\n",
      "Train score:1.00\n",
      "\n",
      "Classifcation report:\n",
      "               precision    recall  f1-score   support\n",
      "\n",
      "           0       1.00      1.00      1.00      2833\n",
      "           1       0.67      0.80      0.73         5\n",
      "\n",
      "    accuracy                           1.00      2838\n",
      "   macro avg       0.83      0.90      0.86      2838\n",
      "weighted avg       1.00      1.00      1.00      2838\n",
      "\n",
      "Confusion matrix:\n",
      " [[2831    2]\n",
      " [   1    4]]\n",
      "\n",
      "\n",
      "Accuracy :1.00\n",
      "AUC : 0.90\n",
      "Precision : 0.67\n",
      "Recall : 0.80\n",
      "F1 : 0.73\n",
      "\n",
      "\n"
     ]
    }
   ],
   "source": [
    "# instantiate a base model as DecisionTreeClassifier and Bagging classifier\n",
    "dt = DecisionTreeClassifier(random_state =123)\n",
    "bc = BaggingClassifier(base_estimator=dt,n_estimators=400,n_jobs = -1)\n",
    "# fit model on training data\n",
    "bc.fit(X_train_ros,y_train_ros)\n",
    "\n",
    "# predict model and calculate accuracy\n",
    "bc_y_pred_ros = bc.predict(X_test)\n",
    "\n",
    "\n",
    "#checking for the test and train accuracies\n",
    "print(\"Test score:{:.2f}\".format(bc.score(X_test,y_test)))\n",
    "print(\"Train score:{:.2f}\\n\".format(bc.score(X_train_ros,y_train_ros)))\n",
    "\n",
    "# Obtain the results from the classification report and confusion matrix \n",
    "print('Classifcation report:\\n', classification_report(y_test, bc_y_pred_ros))\n",
    "print(\"Confusion matrix:\\n\",confusion_matrix(y_true=y_test, y_pred=bc_y_pred_ros))\n",
    "\n",
    "print(\"\\n\")\n",
    "# Obtain metrics\n",
    "print('Accuracy :{0:0.2f}'.format(accuracy_score(bc_y_pred_ros , y_test))) \n",
    "print('AUC : {0:0.2f}'.format(roc_auc_score(y_test ,bc_y_pred_ros)))\n",
    "print('Precision : {0:0.2f}'.format(precision_score(y_test , bc_y_pred_ros)))\n",
    "print('Recall : {0:0.2f}'.format(recall_score(y_test , bc_y_pred_ros)))\n",
    "print('F1 : {0:0.2f}'.format(f1_score(y_test , bc_y_pred_ros)))\n",
    "print(\"\\n\")"
   ]
  },
  {
   "cell_type": "markdown",
   "id": "5usN3iIer4Nu",
   "metadata": {
    "id": "5usN3iIer4Nu"
   },
   "source": [
    "Out of bag evaluation. In bagging, some instances may be sampled several times for one model while others may not be sampled at all. The instances that are not sampled are called out of bag instances. Since OOB instances are not seen by a model during training, these can be used to estimate the performance of the ensemble without the need for cross-validation. This method is called out of bag evaluation(OOB evaluation).\n",
    "Finally, evaluate the OOB-accuracy of bc by extracting the attribute oob_score_ from the trained instance"
   ]
  },
  {
   "cell_type": "markdown",
   "id": "C3I14Sjbhxi1",
   "metadata": {
    "id": "C3I14Sjbhxi1"
   },
   "source": [
    "**6.2 Out Of Bagging Model**"
   ]
  },
  {
   "cell_type": "code",
   "execution_count": 59,
   "id": "C_ypKsR2iyka",
   "metadata": {
    "colab": {
     "base_uri": "https://localhost:8080/"
    },
    "id": "C_ypKsR2iyka",
    "outputId": "312692fb-99d3-4590-f8e7-fce339656c3a"
   },
   "outputs": [
    {
     "name": "stdout",
     "output_type": "stream",
     "text": [
      "Test set accuracy: 0.999\n",
      "OOB accuracy: 1.000\n",
      "Classifcation report:\n",
      "               precision    recall  f1-score   support\n",
      "\n",
      "           0       1.00      1.00      1.00      2833\n",
      "           1       0.67      0.80      0.73         5\n",
      "\n",
      "    accuracy                           1.00      2838\n",
      "   macro avg       0.83      0.90      0.86      2838\n",
      "weighted avg       1.00      1.00      1.00      2838\n",
      "\n",
      "Confusion matrix:\n",
      " [[2831    2]\n",
      " [   1    4]]\n",
      "\n",
      "\n",
      "Accuracy :1.00\n",
      "AUC : 0.90\n",
      "Precision : 0.67\n",
      "Recall : 0.80\n",
      "F1 : 0.73\n",
      "\n",
      "\n"
     ]
    }
   ],
   "source": [
    "# instantiate a base model as DecisionTreeClassifier and Bagging classifier. \n",
    "#Add parameter oob_score to True in order to evaluate the OOB-accuracy of bc after training.\n",
    "dt = DecisionTreeClassifier(random_state =123)\n",
    "bc = BaggingClassifier(base_estimator=dt,n_estimators=400,n_jobs = -1, oob_score=True)\n",
    "# fit model on training data\n",
    "bc.fit(X_train_ros,y_train_ros)\n",
    "\n",
    "# predict model and calculate accuracy\n",
    "y_pred_oob_ros = bc.predict(X_test)\n",
    "# Evaluate test set accuracy\n",
    "test_accuracy = accuracy_score(y_test, y_pred_oob_ros)\n",
    "# Extract the OOB accuracy from 'bc'\n",
    "oob_accuracy = bc.oob_score_\n",
    "# Print test set accuracy\n",
    "print('Test set accuracy: {:.3f}'.format(test_accuracy))\n",
    "# Print OOB accuracy\n",
    "print('OOB accuracy: {:.3f}'.format(oob_accuracy))\n",
    "\n",
    "# Obtain the results from the classification report and confusion matrix \n",
    "print('Classifcation report:\\n', classification_report(y_test, y_pred_oob_ros))\n",
    "print(\"Confusion matrix:\\n\",confusion_matrix(y_true=y_test, y_pred=y_pred_oob_ros))\n",
    "\n",
    "print(\"\\n\")\n",
    "# Obtain metrics\n",
    "print('Accuracy :{0:0.2f}'.format(accuracy_score(y_pred_oob_ros , y_test))) \n",
    "print('AUC : {0:0.2f}'.format(roc_auc_score(y_test ,y_pred_oob_ros)))\n",
    "print('Precision : {0:0.2f}'.format(precision_score(y_test , y_pred_oob_ros)))\n",
    "print('Recall : {0:0.2f}'.format(recall_score(y_test , y_pred_oob_ros)))\n",
    "print('F1 : {0:0.2f}'.format(f1_score(y_test , y_pred_oob_ros)))\n",
    "print(\"\\n\")"
   ]
  },
  {
   "cell_type": "markdown",
   "id": "rhdaw2wnL5a8",
   "metadata": {
    "id": "rhdaw2wnL5a8"
   },
   "source": [
    "### **7. AdaBoost**"
   ]
  },
  {
   "cell_type": "markdown",
   "id": "aPXgBYYyQwwO",
   "metadata": {
    "id": "aPXgBYYyQwwO"
   },
   "source": [
    "The core principle of AdaBoost is to fit a sequence of weak learners (i.e., models that are only slightly better than random guessing, such as small decision trees) on repeatedly modified versions of the data"
   ]
  },
  {
   "cell_type": "markdown",
   "id": "MAMXpnxGjGpp",
   "metadata": {
    "id": "MAMXpnxGjGpp"
   },
   "source": [
    "**7.1 AdaBoost Model**"
   ]
  },
  {
   "cell_type": "code",
   "execution_count": 60,
   "id": "GdjKelpjjDtw",
   "metadata": {
    "colab": {
     "base_uri": "https://localhost:8080/"
    },
    "id": "GdjKelpjjDtw",
    "outputId": "8225ec1a-3556-4ff1-e171-64c3bb159baa"
   },
   "outputs": [
    {
     "name": "stdout",
     "output_type": "stream",
     "text": [
      "Test score:1.00\n",
      "Train score:1.00\n",
      "\n",
      "Classifcation report:\n",
      "               precision    recall  f1-score   support\n",
      "\n",
      "           0       1.00      1.00      1.00      2833\n",
      "           1       0.75      0.60      0.67         5\n",
      "\n",
      "    accuracy                           1.00      2838\n",
      "   macro avg       0.87      0.80      0.83      2838\n",
      "weighted avg       1.00      1.00      1.00      2838\n",
      "\n",
      "Confusion matrix:\n",
      " [[2832    1]\n",
      " [   2    3]]\n",
      "\n",
      "\n",
      "Accuracy :1.00\n",
      "AUC : 0.80\n",
      "Precision : 0.75\n",
      "Recall : 0.60\n",
      "F1 : 0.67\n",
      "\n",
      "\n"
     ]
    }
   ],
   "source": [
    "# Instantiate a decition tree classifier as the weaker model\n",
    "dtc= DecisionTreeClassifier(max_depth=3, min_samples_leaf=0.04, max_features=0.2)\n",
    "\n",
    "#Instantiating and fitting the model\n",
    "adb = AdaBoostClassifier(base_estimator = dtc,n_estimators=100, random_state=42)\n",
    "adb.fit(X_train_ros,y_train_ros)\n",
    "adb_y_pred_ros = adb.predict(X_test)\n",
    "\n",
    "#checking for the test and train accuracies\n",
    "print(\"Test score:{:.2f}\".format(adb.score(X_test,y_test)))\n",
    "print(\"Train score:{:.2f}\\n\".format(adb.score(X_train_ros,y_train_ros)))\n",
    "\n",
    "# Obtain the results from the classification report and confusion matrix \n",
    "print('Classifcation report:\\n', classification_report(y_test, adb_y_pred_ros))\n",
    "print(\"Confusion matrix:\\n\",confusion_matrix(y_true=y_test, y_pred=adb_y_pred_ros))\n",
    "\n",
    "print(\"\\n\")\n",
    "# Obtain metrics\n",
    "print('Accuracy :{0:0.2f}'.format(accuracy_score(adb_y_pred_ros , y_test))) \n",
    "print('AUC : {0:0.2f}'.format(roc_auc_score(y_test , adb_y_pred_ros)))\n",
    "print('Precision : {0:0.2f}'.format(precision_score(y_test , adb_y_pred_ros)))\n",
    "print('Recall : {0:0.2f}'.format(recall_score(y_test , adb_y_pred_ros)))\n",
    "print('F1 : {0:0.2f}'.format(f1_score(y_test , adb_y_pred_ros)))\n",
    "print(\"\\n\")"
   ]
  },
  {
   "cell_type": "markdown",
   "id": "EpYYScEzMFDh",
   "metadata": {
    "id": "EpYYScEzMFDh"
   },
   "source": [
    "### **8. Gradient boost**"
   ]
  },
  {
   "cell_type": "markdown",
   "id": "TyD9eys_M-Gz",
   "metadata": {
    "id": "TyD9eys_M-Gz"
   },
   "source": [
    "**8.1 Hyperparameter for Gradient Boosting Classifier using Random Oversampling**"
   ]
  },
  {
   "cell_type": "code",
   "execution_count": 61,
   "id": "V3GEu9qINCq9",
   "metadata": {
    "colab": {
     "base_uri": "https://localhost:8080/"
    },
    "id": "V3GEu9qINCq9",
    "outputId": "a0eaed44-68a3-4f08-d502-0f349424e6e7"
   },
   "outputs": [
    {
     "name": "stdout",
     "output_type": "stream",
     "text": [
      "Best cross-validation acuracy: 1.00\n",
      "Best test score: 0.77\n",
      "Best parameters: {'max_features': 2, 'max_leaf_nodes': 2}\n"
     ]
    }
   ],
   "source": [
    "#Instantiating the model and setting up grid search\n",
    "graboost = GradientBoostingClassifier(n_estimators=300, max_depth=1, random_state=42)\n",
    "param_grid = {'max_features': [1,2,3,4,5,6,7,8,9,10],'max_leaf_nodes':[1,2, 3,4,5,6,7,8,9,10]}\n",
    "grid_gbc = GridSearchCV(graboost, param_grid = param_grid,cv =5,scoring=\"f1\",n_jobs=-1)\n",
    "\n",
    "#Fitting the model with X_train, y_train\n",
    "grid_gbc.fit(X_train_ros,y_train_ros)\n",
    "\n",
    "#checking for the test score, best parameters and cross-validation accuracies\n",
    "print('Best cross-validation acuracy: {:.2f}'.format(grid_gbc.best_score_))\n",
    "print('Best test score: {:.2f}'.format(grid_gbc.score(X_test,y_test)))\n",
    "print('Best parameters:',grid_gbc.best_params_)"
   ]
  },
  {
   "cell_type": "markdown",
   "id": "rFcgTknHPjZt",
   "metadata": {
    "id": "rFcgTknHPjZt"
   },
   "source": [
    "**8.2 Gradient Boosting Classifier Model**"
   ]
  },
  {
   "cell_type": "code",
   "execution_count": 62,
   "id": "88JDFCKlPtU0",
   "metadata": {
    "colab": {
     "base_uri": "https://localhost:8080/"
    },
    "id": "88JDFCKlPtU0",
    "outputId": "bf86bc03-b62e-4b46-b007-773b62153170"
   },
   "outputs": [
    {
     "name": "stdout",
     "output_type": "stream",
     "text": [
      "Test score:1.00\n",
      "Train score:1.00\n",
      "\n",
      "Classifcation report:\n",
      "               precision    recall  f1-score   support\n",
      "\n",
      "           0       1.00      1.00      1.00      2833\n",
      "           1       0.62      1.00      0.77         5\n",
      "\n",
      "    accuracy                           1.00      2838\n",
      "   macro avg       0.81      1.00      0.88      2838\n",
      "weighted avg       1.00      1.00      1.00      2838\n",
      "\n",
      "Confusion matrix:\n",
      " [[2830    3]\n",
      " [   0    5]]\n",
      "\n",
      "\n",
      "Accuracy :1.00\n",
      "AUC : 1.00\n",
      "Precision : 0.62\n",
      "Recall : 1.00\n",
      "F1 : 0.77\n",
      "\n",
      "\n"
     ]
    }
   ],
   "source": [
    "#Instantiating the model with best parameters\n",
    "gbc = GradientBoostingClassifier(n_estimators=300,max_features=2, max_leaf_nodes= 2, random_state=42)\n",
    "\n",
    "#Fitting the model with X_train_ros, y_train_ros\n",
    "gbc.fit(X_train_ros, y_train_ros)\n",
    "gbc_y_pred_ros = gbc.predict(X_test)\n",
    "\n",
    "#checking for the test and train accuracies\n",
    "print(\"Test score:{:.2f}\".format(gbc.score(X_test,y_test)))\n",
    "print(\"Train score:{:.2f}\\n\".format(gbc.score(X_train_ros,y_train_ros)))\n",
    "\n",
    "# Obtain the results from the classification report and confusion matrix \n",
    "print('Classifcation report:\\n', classification_report(y_test, gbc_y_pred_ros))\n",
    "print(\"Confusion matrix:\\n\",confusion_matrix(y_true=y_test, y_pred=gbc_y_pred_ros))\n",
    "\n",
    "print(\"\\n\")\n",
    "# Obtain metrics\n",
    "print('Accuracy :{0:0.2f}'.format(accuracy_score(gbc_y_pred_ros , y_test))) \n",
    "print('AUC : {0:0.2f}'.format(roc_auc_score(y_test , gbc_y_pred_ros)))\n",
    "print('Precision : {0:0.2f}'.format(precision_score(y_test , gbc_y_pred_ros)))\n",
    "print('Recall : {0:0.2f}'.format(recall_score(y_test , gbc_y_pred_ros)))\n",
    "print('F1 : {0:0.2f}'.format(f1_score(y_test , gbc_y_pred_ros)))\n",
    "print(\"\\n\")"
   ]
  },
  {
   "cell_type": "markdown",
   "id": "YupALLV2LfOK",
   "metadata": {
    "id": "YupALLV2LfOK"
   },
   "source": [
    "### **9. Voting Classifier**"
   ]
  },
  {
   "cell_type": "code",
   "execution_count": 63,
   "id": "p3PVhOL5LlbB",
   "metadata": {
    "id": "p3PVhOL5LlbB"
   },
   "outputs": [],
   "source": [
    "# Instantiate individual classifiers\n",
    "lr = LogisticRegression(C=0.1, class_weight=None, random_state=42)\n",
    "knn = KNeighborsClassifier(n_neighbors =3)\n",
    "rfc = RandomForestClassifier(max_features = 9, max_leaf_nodes =7, random_state = 42)\n",
    "dtr = DecisionTreeClassifier(max_depth=6, min_samples_leaf=0.04, max_features=0.2, random_state=42)\n",
    "svc = SVC(C= 1,gamma =0.001)\n",
    "# Define a list called classifier that contains the tuples (classifier_name, classifier)\n",
    "classifiers = [('Logistic Regression', lr),\n",
    "('K Nearest Neighbors', knn),\n",
    "('Random Forest', rfc),\n",
    "('Decision Tree', dtr), ('SVC', svc)]\n"
   ]
  },
  {
   "cell_type": "markdown",
   "id": "C3xBkWC6-wme",
   "metadata": {
    "id": "C3xBkWC6-wme"
   },
   "source": [
    "**9.1 Checking the accuracies with Random Oversampling Technique**"
   ]
  },
  {
   "cell_type": "code",
   "execution_count": 64,
   "id": "43WHlNaU_L7Q",
   "metadata": {
    "colab": {
     "base_uri": "https://localhost:8080/"
    },
    "id": "43WHlNaU_L7Q",
    "outputId": "623d7697-a87c-42c9-8eb8-e075ce63c5aa"
   },
   "outputs": [
    {
     "name": "stdout",
     "output_type": "stream",
     "text": [
      "Logistic Regression : 0.97\n",
      "K Nearest Neighbors : 1.00\n",
      "Random Forest : 1.00\n",
      "Decision Tree : 0.93\n",
      "SVC : 1.00\n"
     ]
    }
   ],
   "source": [
    "# Iterate over the defined list of tuples containing the classifiers\n",
    "for model_name, model in classifiers:\n",
    "        #fit model to the training set (ROS)\n",
    "        model.fit(X_train_ros,y_train_ros)\n",
    "        # Predict the labels of the test set\n",
    "        model_y_pred_ros = model.predict(X_test)\n",
    "        # Evaluate the accuracy of model on the test set\n",
    "        print('{:s} : {:.2f}'.format(model_name, accuracy_score(y_test, model_y_pred_ros)))"
   ]
  },
  {
   "cell_type": "markdown",
   "id": "8Xh6wSWv_hWS",
   "metadata": {
    "id": "8Xh6wSWv_hWS"
   },
   "source": [
    "**9.2 Building Voting Classifier Model with Random Oversapled data**"
   ]
  },
  {
   "cell_type": "code",
   "execution_count": 65,
   "id": "0tpEBjpyLmEh",
   "metadata": {
    "colab": {
     "base_uri": "https://localhost:8080/"
    },
    "id": "0tpEBjpyLmEh",
    "outputId": "e06750e2-888c-4712-ed7d-b98969c45029"
   },
   "outputs": [
    {
     "name": "stdout",
     "output_type": "stream",
     "text": [
      "Test score:1.00\n",
      "Train score:1.00\n",
      "\n",
      "Classifcation report:\n",
      "               precision    recall  f1-score   support\n",
      "\n",
      "           0       1.00      1.00      1.00      2833\n",
      "           1       0.80      0.80      0.80         5\n",
      "\n",
      "    accuracy                           1.00      2838\n",
      "   macro avg       0.90      0.90      0.90      2838\n",
      "weighted avg       1.00      1.00      1.00      2838\n",
      "\n",
      "Confusion matrix:\n",
      " [[2832    1]\n",
      " [   1    4]]\n",
      "\n",
      "\n",
      "Accuracy :1.00\n",
      "AUC : 0.90\n",
      "Precision : 0.80\n",
      "Recall : 0.80\n",
      "F1 : 0.80\n",
      "\n",
      "\n"
     ]
    }
   ],
   "source": [
    "#Instantiating  votting classifier model \n",
    "vc = VotingClassifier(estimators=classifiers,voting = 'hard')\n",
    "\n",
    "# Fit 'vc' to the traing set and predict test set labels (ROS)\n",
    "vc.fit(X_train_ros, y_train_ros)\n",
    "vc_y_pred_ros = vc.predict(X_test)\n",
    "\n",
    "#checking for the test and train accuracies\n",
    "print(\"Test score:{:.2f}\".format(vc.score(X_test,y_test)))\n",
    "print(\"Train score:{:.2f}\\n\".format(vc.score(X_train_ros,y_train_ros)))\n",
    "\n",
    "# Obtain the results from the classification report and confusion matrix \n",
    "print('Classifcation report:\\n', classification_report(y_test, vc_y_pred_ros))\n",
    "print(\"Confusion matrix:\\n\",confusion_matrix(y_true=y_test, y_pred=vc_y_pred_ros))\n",
    "\n",
    "print(\"\\n\")\n",
    "# Obtain metrics\n",
    "print('Accuracy :{0:0.2f}'.format(accuracy_score(vc_y_pred_ros , y_test))) \n",
    "print('AUC : {0:0.2f}'.format(roc_auc_score(y_test , vc_y_pred_ros)))\n",
    "print('Precision : {0:0.2f}'.format(precision_score(y_test , vc_y_pred_ros)))\n",
    "print('Recall : {0:0.2f}'.format(recall_score(y_test , vc_y_pred_ros)))\n",
    "print('F1 : {0:0.2f}'.format(f1_score(y_test , vc_y_pred_ros)))\n",
    "print(\"\\n\")"
   ]
  },
  {
   "cell_type": "markdown",
   "id": "xq9fuYx5eWw5",
   "metadata": {
    "id": "xq9fuYx5eWw5"
   },
   "source": [
    "### **10. XGBOOST** "
   ]
  },
  {
   "cell_type": "markdown",
   "id": "_l7zqdLdeegg",
   "metadata": {
    "id": "_l7zqdLdeegg"
   },
   "source": [
    "**XGBOSST Model**"
   ]
  },
  {
   "cell_type": "code",
   "execution_count": 66,
   "id": "uNHG7951elfa",
   "metadata": {
    "colab": {
     "base_uri": "https://localhost:8080/"
    },
    "id": "uNHG7951elfa",
    "outputId": "b50b4e57-d811-4340-d3ef-7dbe9fc70a22"
   },
   "outputs": [
    {
     "name": "stdout",
     "output_type": "stream",
     "text": [
      "Test score:1.00\n",
      "Train score:1.00\n",
      "\n",
      "Classifcation report:\n",
      "               precision    recall  f1-score   support\n",
      "\n",
      "           0       1.00      1.00      1.00      2833\n",
      "           1       0.83      1.00      0.91         5\n",
      "\n",
      "    accuracy                           1.00      2838\n",
      "   macro avg       0.92      1.00      0.95      2838\n",
      "weighted avg       1.00      1.00      1.00      2838\n",
      "\n",
      "Confusion matrix:\n",
      " [[2832    1]\n",
      " [   0    5]]\n",
      "\n",
      "\n",
      "Accuracy :1.00\n",
      "AUC : 1.00\n",
      "Precision : 0.83\n",
      "Recall : 1.00\n",
      "F1 : 0.91\n",
      "\n",
      "\n"
     ]
    }
   ],
   "source": [
    "#instantiating and fitting the model\n",
    "xgboost = XGBClassifier()\n",
    "xgboost.fit(X_train_ros, y_train_ros)\n",
    "xgb_pred_ros = xgboost.predict(X_test)\n",
    "\n",
    "#checking for the test and train accuracies\n",
    "print(\"Test score:{:.2f}\".format(xgboost.score(X_test,y_test)))\n",
    "print(\"Train score:{:.2f}\\n\".format(xgboost.score(X_train_ros,y_train_ros)))\n",
    "\n",
    "# Obtain the results from the classification report and confusion matrix \n",
    "print('Classifcation report:\\n', classification_report(y_test, xgb_pred_ros))\n",
    "print(\"Confusion matrix:\\n\",confusion_matrix(y_true=y_test, y_pred=xgb_pred_ros))\n",
    "\n",
    "print(\"\\n\")\n",
    "# Obtain metrics\n",
    "print('Accuracy :{0:0.2f}'.format(accuracy_score(xgb_pred_ros , y_test)))\n",
    "print('AUC : {0:0.2f}'.format(roc_auc_score(y_test , xgb_pred_ros)))\n",
    "print('Precision : {0:0.2f}'.format(precision_score(y_test , xgb_pred_ros)))\n",
    "print('Recall : {0:0.2f}'.format(recall_score(y_test , xgb_pred_ros)))\n",
    "print('F1 : {0:0.2f}'.format(f1_score(y_test , xgb_pred_ros)))\n",
    "print(\"\\n\")"
   ]
  },
  {
   "cell_type": "markdown",
   "id": "Hp5zPNuoftL1",
   "metadata": {
    "id": "Hp5zPNuoftL1"
   },
   "source": [
    "### **11. CAT BOOST**"
   ]
  },
  {
   "cell_type": "code",
   "execution_count": 68,
   "id": "raKUdMRJfoPu",
   "metadata": {
    "colab": {
     "base_uri": "https://localhost:8080/"
    },
    "id": "raKUdMRJfoPu",
    "outputId": "28cf70b7-83f4-40fb-e348-1abee3a3d4d0"
   },
   "outputs": [
    {
     "name": "stdout",
     "output_type": "stream",
     "text": [
      "Learning rate set to 0.039048\n",
      "0:\tlearn: 0.5617509\ttotal: 15.5ms\tremaining: 15.5s\n",
      "1:\tlearn: 0.4689814\ttotal: 30.1ms\tremaining: 15s\n",
      "2:\tlearn: 0.3855013\ttotal: 44.9ms\tremaining: 14.9s\n",
      "3:\tlearn: 0.3236469\ttotal: 58.8ms\tremaining: 14.6s\n",
      "4:\tlearn: 0.2683055\ttotal: 71.9ms\tremaining: 14.3s\n",
      "5:\tlearn: 0.2204382\ttotal: 85.1ms\tremaining: 14.1s\n",
      "6:\tlearn: 0.1834053\ttotal: 97.7ms\tremaining: 13.9s\n",
      "7:\tlearn: 0.1488866\ttotal: 111ms\tremaining: 13.7s\n",
      "8:\tlearn: 0.1270774\ttotal: 124ms\tremaining: 13.7s\n",
      "9:\tlearn: 0.1043962\ttotal: 137ms\tremaining: 13.6s\n",
      "10:\tlearn: 0.0908844\ttotal: 150ms\tremaining: 13.5s\n",
      "11:\tlearn: 0.0749886\ttotal: 163ms\tremaining: 13.5s\n",
      "12:\tlearn: 0.0648330\ttotal: 177ms\tremaining: 13.4s\n",
      "13:\tlearn: 0.0552431\ttotal: 190ms\tremaining: 13.4s\n",
      "14:\tlearn: 0.0467045\ttotal: 203ms\tremaining: 13.3s\n",
      "15:\tlearn: 0.0398856\ttotal: 216ms\tremaining: 13.3s\n",
      "16:\tlearn: 0.0341295\ttotal: 229ms\tremaining: 13.2s\n",
      "17:\tlearn: 0.0301109\ttotal: 242ms\tremaining: 13.2s\n",
      "18:\tlearn: 0.0261790\ttotal: 255ms\tremaining: 13.2s\n",
      "19:\tlearn: 0.0223899\ttotal: 267ms\tremaining: 13.1s\n",
      "20:\tlearn: 0.0194596\ttotal: 281ms\tremaining: 13.1s\n",
      "21:\tlearn: 0.0170960\ttotal: 294ms\tremaining: 13.1s\n",
      "22:\tlearn: 0.0148233\ttotal: 307ms\tremaining: 13s\n",
      "23:\tlearn: 0.0132647\ttotal: 320ms\tremaining: 13s\n",
      "24:\tlearn: 0.0117585\ttotal: 333ms\tremaining: 13s\n",
      "25:\tlearn: 0.0104975\ttotal: 346ms\tremaining: 13s\n",
      "26:\tlearn: 0.0093911\ttotal: 359ms\tremaining: 12.9s\n",
      "27:\tlearn: 0.0085751\ttotal: 372ms\tremaining: 12.9s\n",
      "28:\tlearn: 0.0078478\ttotal: 385ms\tremaining: 12.9s\n",
      "29:\tlearn: 0.0071511\ttotal: 399ms\tremaining: 12.9s\n",
      "30:\tlearn: 0.0065275\ttotal: 413ms\tremaining: 12.9s\n",
      "31:\tlearn: 0.0059327\ttotal: 426ms\tremaining: 12.9s\n",
      "32:\tlearn: 0.0054866\ttotal: 441ms\tremaining: 12.9s\n",
      "33:\tlearn: 0.0050713\ttotal: 455ms\tremaining: 12.9s\n",
      "34:\tlearn: 0.0045815\ttotal: 470ms\tremaining: 12.9s\n",
      "35:\tlearn: 0.0041993\ttotal: 486ms\tremaining: 13s\n",
      "36:\tlearn: 0.0038956\ttotal: 504ms\tremaining: 13.1s\n",
      "37:\tlearn: 0.0036515\ttotal: 520ms\tremaining: 13.2s\n",
      "38:\tlearn: 0.0033734\ttotal: 533ms\tremaining: 13.1s\n",
      "39:\tlearn: 0.0031578\ttotal: 547ms\tremaining: 13.1s\n",
      "40:\tlearn: 0.0029045\ttotal: 561ms\tremaining: 13.1s\n",
      "41:\tlearn: 0.0027317\ttotal: 575ms\tremaining: 13.1s\n",
      "42:\tlearn: 0.0025485\ttotal: 590ms\tremaining: 13.1s\n",
      "43:\tlearn: 0.0024124\ttotal: 603ms\tremaining: 13.1s\n",
      "44:\tlearn: 0.0022922\ttotal: 617ms\tremaining: 13.1s\n",
      "45:\tlearn: 0.0021536\ttotal: 630ms\tremaining: 13.1s\n",
      "46:\tlearn: 0.0020425\ttotal: 642ms\tremaining: 13s\n",
      "47:\tlearn: 0.0019379\ttotal: 655ms\tremaining: 13s\n",
      "48:\tlearn: 0.0018538\ttotal: 668ms\tremaining: 13s\n",
      "49:\tlearn: 0.0017766\ttotal: 681ms\tremaining: 12.9s\n",
      "50:\tlearn: 0.0017069\ttotal: 694ms\tremaining: 12.9s\n",
      "51:\tlearn: 0.0016335\ttotal: 707ms\tremaining: 12.9s\n",
      "52:\tlearn: 0.0015732\ttotal: 721ms\tremaining: 12.9s\n",
      "53:\tlearn: 0.0015241\ttotal: 734ms\tremaining: 12.9s\n",
      "54:\tlearn: 0.0014531\ttotal: 747ms\tremaining: 12.8s\n",
      "55:\tlearn: 0.0014099\ttotal: 760ms\tremaining: 12.8s\n",
      "56:\tlearn: 0.0013704\ttotal: 773ms\tremaining: 12.8s\n",
      "57:\tlearn: 0.0013211\ttotal: 786ms\tremaining: 12.8s\n",
      "58:\tlearn: 0.0012656\ttotal: 800ms\tremaining: 12.8s\n",
      "59:\tlearn: 0.0012188\ttotal: 814ms\tremaining: 12.8s\n",
      "60:\tlearn: 0.0011935\ttotal: 828ms\tremaining: 12.7s\n",
      "61:\tlearn: 0.0011582\ttotal: 840ms\tremaining: 12.7s\n",
      "62:\tlearn: 0.0011281\ttotal: 853ms\tremaining: 12.7s\n",
      "63:\tlearn: 0.0010969\ttotal: 866ms\tremaining: 12.7s\n",
      "64:\tlearn: 0.0010652\ttotal: 879ms\tremaining: 12.6s\n",
      "65:\tlearn: 0.0010297\ttotal: 892ms\tremaining: 12.6s\n",
      "66:\tlearn: 0.0010059\ttotal: 905ms\tremaining: 12.6s\n",
      "67:\tlearn: 0.0009921\ttotal: 917ms\tremaining: 12.6s\n",
      "68:\tlearn: 0.0009665\ttotal: 930ms\tremaining: 12.5s\n",
      "69:\tlearn: 0.0009394\ttotal: 943ms\tremaining: 12.5s\n",
      "70:\tlearn: 0.0009266\ttotal: 956ms\tremaining: 12.5s\n",
      "71:\tlearn: 0.0009007\ttotal: 968ms\tremaining: 12.5s\n",
      "72:\tlearn: 0.0008824\ttotal: 980ms\tremaining: 12.4s\n",
      "73:\tlearn: 0.0008540\ttotal: 993ms\tremaining: 12.4s\n",
      "74:\tlearn: 0.0008405\ttotal: 1.01s\tremaining: 12.4s\n",
      "75:\tlearn: 0.0008237\ttotal: 1.02s\tremaining: 12.4s\n",
      "76:\tlearn: 0.0008085\ttotal: 1.04s\tremaining: 12.4s\n",
      "77:\tlearn: 0.0007905\ttotal: 1.05s\tremaining: 12.4s\n",
      "78:\tlearn: 0.0007777\ttotal: 1.06s\tremaining: 12.4s\n",
      "79:\tlearn: 0.0007632\ttotal: 1.07s\tremaining: 12.4s\n",
      "80:\tlearn: 0.0007394\ttotal: 1.09s\tremaining: 12.4s\n",
      "81:\tlearn: 0.0007194\ttotal: 1.1s\tremaining: 12.4s\n",
      "82:\tlearn: 0.0006996\ttotal: 1.12s\tremaining: 12.4s\n",
      "83:\tlearn: 0.0006893\ttotal: 1.13s\tremaining: 12.4s\n",
      "84:\tlearn: 0.0006682\ttotal: 1.15s\tremaining: 12.3s\n",
      "85:\tlearn: 0.0006506\ttotal: 1.16s\tremaining: 12.4s\n",
      "86:\tlearn: 0.0006345\ttotal: 1.18s\tremaining: 12.4s\n",
      "87:\tlearn: 0.0006305\ttotal: 1.2s\tremaining: 12.4s\n",
      "88:\tlearn: 0.0006117\ttotal: 1.22s\tremaining: 12.5s\n",
      "89:\tlearn: 0.0006031\ttotal: 1.24s\tremaining: 12.5s\n",
      "90:\tlearn: 0.0006031\ttotal: 1.25s\tremaining: 12.5s\n",
      "91:\tlearn: 0.0005915\ttotal: 1.27s\tremaining: 12.5s\n",
      "92:\tlearn: 0.0005793\ttotal: 1.28s\tremaining: 12.5s\n",
      "93:\tlearn: 0.0005692\ttotal: 1.3s\tremaining: 12.5s\n",
      "94:\tlearn: 0.0005666\ttotal: 1.31s\tremaining: 12.5s\n",
      "95:\tlearn: 0.0005667\ttotal: 1.32s\tremaining: 12.5s\n",
      "96:\tlearn: 0.0005529\ttotal: 1.34s\tremaining: 12.5s\n",
      "97:\tlearn: 0.0005530\ttotal: 1.35s\tremaining: 12.5s\n",
      "98:\tlearn: 0.0005530\ttotal: 1.37s\tremaining: 12.4s\n",
      "99:\tlearn: 0.0005460\ttotal: 1.38s\tremaining: 12.4s\n",
      "100:\tlearn: 0.0005461\ttotal: 1.4s\tremaining: 12.4s\n",
      "101:\tlearn: 0.0005368\ttotal: 1.42s\tremaining: 12.5s\n",
      "102:\tlearn: 0.0005243\ttotal: 1.43s\tremaining: 12.5s\n",
      "103:\tlearn: 0.0005243\ttotal: 1.45s\tremaining: 12.5s\n",
      "104:\tlearn: 0.0005243\ttotal: 1.46s\tremaining: 12.4s\n",
      "105:\tlearn: 0.0005130\ttotal: 1.47s\tremaining: 12.4s\n",
      "106:\tlearn: 0.0005130\ttotal: 1.48s\tremaining: 12.4s\n",
      "107:\tlearn: 0.0005130\ttotal: 1.49s\tremaining: 12.3s\n",
      "108:\tlearn: 0.0005130\ttotal: 1.5s\tremaining: 12.3s\n",
      "109:\tlearn: 0.0005130\ttotal: 1.51s\tremaining: 12.2s\n",
      "110:\tlearn: 0.0005130\ttotal: 1.52s\tremaining: 12.2s\n",
      "111:\tlearn: 0.0005131\ttotal: 1.53s\tremaining: 12.2s\n",
      "112:\tlearn: 0.0005038\ttotal: 1.55s\tremaining: 12.2s\n",
      "113:\tlearn: 0.0005017\ttotal: 1.56s\tremaining: 12.1s\n",
      "114:\tlearn: 0.0004943\ttotal: 1.57s\tremaining: 12.1s\n",
      "115:\tlearn: 0.0004867\ttotal: 1.58s\tremaining: 12.1s\n",
      "116:\tlearn: 0.0004793\ttotal: 1.6s\tremaining: 12.1s\n",
      "117:\tlearn: 0.0004793\ttotal: 1.61s\tremaining: 12s\n",
      "118:\tlearn: 0.0004792\ttotal: 1.62s\tremaining: 12s\n",
      "119:\tlearn: 0.0004774\ttotal: 1.63s\tremaining: 12s\n",
      "120:\tlearn: 0.0004774\ttotal: 1.64s\tremaining: 11.9s\n",
      "121:\tlearn: 0.0004773\ttotal: 1.66s\tremaining: 11.9s\n",
      "122:\tlearn: 0.0004760\ttotal: 1.67s\tremaining: 11.9s\n",
      "123:\tlearn: 0.0004645\ttotal: 1.68s\tremaining: 11.9s\n",
      "124:\tlearn: 0.0004550\ttotal: 1.69s\tremaining: 11.9s\n",
      "125:\tlearn: 0.0004435\ttotal: 1.71s\tremaining: 11.8s\n",
      "126:\tlearn: 0.0004435\ttotal: 1.72s\tremaining: 11.8s\n",
      "127:\tlearn: 0.0004351\ttotal: 1.73s\tremaining: 11.8s\n",
      "128:\tlearn: 0.0004350\ttotal: 1.75s\tremaining: 11.8s\n",
      "129:\tlearn: 0.0004350\ttotal: 1.76s\tremaining: 11.8s\n",
      "130:\tlearn: 0.0004286\ttotal: 1.77s\tremaining: 11.7s\n",
      "131:\tlearn: 0.0004174\ttotal: 1.78s\tremaining: 11.7s\n",
      "132:\tlearn: 0.0004174\ttotal: 1.79s\tremaining: 11.7s\n",
      "133:\tlearn: 0.0004174\ttotal: 1.8s\tremaining: 11.7s\n",
      "134:\tlearn: 0.0004174\ttotal: 1.81s\tremaining: 11.6s\n",
      "135:\tlearn: 0.0004174\ttotal: 1.83s\tremaining: 11.6s\n",
      "136:\tlearn: 0.0004176\ttotal: 1.84s\tremaining: 11.6s\n",
      "137:\tlearn: 0.0004174\ttotal: 1.85s\tremaining: 11.6s\n",
      "138:\tlearn: 0.0004173\ttotal: 1.86s\tremaining: 11.5s\n",
      "139:\tlearn: 0.0004173\ttotal: 1.87s\tremaining: 11.5s\n",
      "140:\tlearn: 0.0004174\ttotal: 1.88s\tremaining: 11.5s\n",
      "141:\tlearn: 0.0004174\ttotal: 1.89s\tremaining: 11.4s\n",
      "142:\tlearn: 0.0004121\ttotal: 1.9s\tremaining: 11.4s\n",
      "143:\tlearn: 0.0004121\ttotal: 1.91s\tremaining: 11.3s\n",
      "144:\tlearn: 0.0004120\ttotal: 1.92s\tremaining: 11.3s\n",
      "145:\tlearn: 0.0004024\ttotal: 1.93s\tremaining: 11.3s\n",
      "146:\tlearn: 0.0004024\ttotal: 1.94s\tremaining: 11.3s\n",
      "147:\tlearn: 0.0004024\ttotal: 1.95s\tremaining: 11.2s\n",
      "148:\tlearn: 0.0004024\ttotal: 1.96s\tremaining: 11.2s\n",
      "149:\tlearn: 0.0004024\ttotal: 1.97s\tremaining: 11.2s\n",
      "150:\tlearn: 0.0004023\ttotal: 1.98s\tremaining: 11.1s\n",
      "151:\tlearn: 0.0004025\ttotal: 1.99s\tremaining: 11.1s\n",
      "152:\tlearn: 0.0003982\ttotal: 2s\tremaining: 11.1s\n",
      "153:\tlearn: 0.0003982\ttotal: 2.01s\tremaining: 11.1s\n",
      "154:\tlearn: 0.0003913\ttotal: 2.03s\tremaining: 11s\n",
      "155:\tlearn: 0.0003913\ttotal: 2.04s\tremaining: 11s\n",
      "156:\tlearn: 0.0003913\ttotal: 2.04s\tremaining: 11s\n",
      "157:\tlearn: 0.0003913\ttotal: 2.06s\tremaining: 11s\n",
      "158:\tlearn: 0.0003913\ttotal: 2.06s\tremaining: 10.9s\n",
      "159:\tlearn: 0.0003912\ttotal: 2.08s\tremaining: 10.9s\n",
      "160:\tlearn: 0.0003912\ttotal: 2.09s\tremaining: 10.9s\n",
      "161:\tlearn: 0.0003913\ttotal: 2.1s\tremaining: 10.8s\n",
      "162:\tlearn: 0.0003913\ttotal: 2.11s\tremaining: 10.8s\n",
      "163:\tlearn: 0.0003913\ttotal: 2.12s\tremaining: 10.8s\n",
      "164:\tlearn: 0.0003912\ttotal: 2.13s\tremaining: 10.8s\n",
      "165:\tlearn: 0.0003912\ttotal: 2.14s\tremaining: 10.8s\n",
      "166:\tlearn: 0.0003912\ttotal: 2.15s\tremaining: 10.7s\n",
      "167:\tlearn: 0.0003912\ttotal: 2.16s\tremaining: 10.7s\n",
      "168:\tlearn: 0.0003912\ttotal: 2.17s\tremaining: 10.7s\n",
      "169:\tlearn: 0.0003912\ttotal: 2.18s\tremaining: 10.7s\n",
      "170:\tlearn: 0.0003912\ttotal: 2.19s\tremaining: 10.6s\n",
      "171:\tlearn: 0.0003912\ttotal: 2.2s\tremaining: 10.6s\n",
      "172:\tlearn: 0.0003912\ttotal: 2.21s\tremaining: 10.6s\n",
      "173:\tlearn: 0.0003912\ttotal: 2.23s\tremaining: 10.6s\n",
      "174:\tlearn: 0.0003912\ttotal: 2.23s\tremaining: 10.5s\n",
      "175:\tlearn: 0.0003912\ttotal: 2.24s\tremaining: 10.5s\n",
      "176:\tlearn: 0.0003913\ttotal: 2.25s\tremaining: 10.5s\n",
      "177:\tlearn: 0.0003912\ttotal: 2.26s\tremaining: 10.5s\n",
      "178:\tlearn: 0.0003853\ttotal: 2.28s\tremaining: 10.4s\n",
      "179:\tlearn: 0.0003854\ttotal: 2.29s\tremaining: 10.4s\n",
      "180:\tlearn: 0.0003853\ttotal: 2.3s\tremaining: 10.4s\n",
      "181:\tlearn: 0.0003853\ttotal: 2.31s\tremaining: 10.4s\n",
      "182:\tlearn: 0.0003853\ttotal: 2.32s\tremaining: 10.4s\n",
      "183:\tlearn: 0.0003853\ttotal: 2.33s\tremaining: 10.3s\n",
      "184:\tlearn: 0.0003853\ttotal: 2.34s\tremaining: 10.3s\n",
      "185:\tlearn: 0.0003852\ttotal: 2.35s\tremaining: 10.3s\n",
      "186:\tlearn: 0.0003852\ttotal: 2.36s\tremaining: 10.3s\n",
      "187:\tlearn: 0.0003753\ttotal: 2.37s\tremaining: 10.2s\n",
      "188:\tlearn: 0.0003753\ttotal: 2.38s\tremaining: 10.2s\n",
      "189:\tlearn: 0.0003752\ttotal: 2.4s\tremaining: 10.2s\n",
      "190:\tlearn: 0.0003752\ttotal: 2.4s\tremaining: 10.2s\n",
      "191:\tlearn: 0.0003752\ttotal: 2.42s\tremaining: 10.2s\n",
      "192:\tlearn: 0.0003753\ttotal: 2.43s\tremaining: 10.2s\n",
      "193:\tlearn: 0.0003751\ttotal: 2.44s\tremaining: 10.1s\n",
      "194:\tlearn: 0.0003752\ttotal: 2.45s\tremaining: 10.1s\n",
      "195:\tlearn: 0.0003752\ttotal: 2.46s\tremaining: 10.1s\n",
      "196:\tlearn: 0.0003752\ttotal: 2.47s\tremaining: 10.1s\n",
      "197:\tlearn: 0.0003752\ttotal: 2.48s\tremaining: 10s\n",
      "198:\tlearn: 0.0003752\ttotal: 2.49s\tremaining: 10s\n",
      "199:\tlearn: 0.0003752\ttotal: 2.5s\tremaining: 9.98s\n",
      "200:\tlearn: 0.0003752\ttotal: 2.5s\tremaining: 9.96s\n",
      "201:\tlearn: 0.0003710\ttotal: 2.51s\tremaining: 9.93s\n",
      "202:\tlearn: 0.0003711\ttotal: 2.52s\tremaining: 9.91s\n",
      "203:\tlearn: 0.0003711\ttotal: 2.53s\tremaining: 9.89s\n",
      "204:\tlearn: 0.0003711\ttotal: 2.54s\tremaining: 9.87s\n",
      "205:\tlearn: 0.0003628\ttotal: 2.56s\tremaining: 9.85s\n",
      "206:\tlearn: 0.0003628\ttotal: 2.57s\tremaining: 9.83s\n",
      "207:\tlearn: 0.0003628\ttotal: 2.58s\tremaining: 9.81s\n",
      "208:\tlearn: 0.0003628\ttotal: 2.59s\tremaining: 9.8s\n",
      "209:\tlearn: 0.0003628\ttotal: 2.6s\tremaining: 9.78s\n",
      "210:\tlearn: 0.0003614\ttotal: 2.61s\tremaining: 9.77s\n",
      "211:\tlearn: 0.0003614\ttotal: 2.62s\tremaining: 9.74s\n",
      "212:\tlearn: 0.0003613\ttotal: 2.63s\tremaining: 9.72s\n",
      "213:\tlearn: 0.0003613\ttotal: 2.64s\tremaining: 9.7s\n",
      "214:\tlearn: 0.0003613\ttotal: 2.65s\tremaining: 9.68s\n",
      "215:\tlearn: 0.0003613\ttotal: 2.66s\tremaining: 9.65s\n",
      "216:\tlearn: 0.0003614\ttotal: 2.67s\tremaining: 9.63s\n",
      "217:\tlearn: 0.0003614\ttotal: 2.68s\tremaining: 9.61s\n",
      "218:\tlearn: 0.0003552\ttotal: 2.69s\tremaining: 9.6s\n",
      "219:\tlearn: 0.0003551\ttotal: 2.7s\tremaining: 9.58s\n",
      "220:\tlearn: 0.0003552\ttotal: 2.71s\tremaining: 9.56s\n",
      "221:\tlearn: 0.0003536\ttotal: 2.72s\tremaining: 9.54s\n",
      "222:\tlearn: 0.0003536\ttotal: 2.73s\tremaining: 9.52s\n",
      "223:\tlearn: 0.0003535\ttotal: 2.74s\tremaining: 9.5s\n",
      "224:\tlearn: 0.0003535\ttotal: 2.75s\tremaining: 9.48s\n",
      "225:\tlearn: 0.0003537\ttotal: 2.76s\tremaining: 9.46s\n",
      "226:\tlearn: 0.0003537\ttotal: 2.77s\tremaining: 9.45s\n",
      "227:\tlearn: 0.0003537\ttotal: 2.78s\tremaining: 9.43s\n",
      "228:\tlearn: 0.0003537\ttotal: 2.8s\tremaining: 9.41s\n",
      "229:\tlearn: 0.0003490\ttotal: 2.81s\tremaining: 9.41s\n",
      "230:\tlearn: 0.0003489\ttotal: 2.82s\tremaining: 9.39s\n",
      "231:\tlearn: 0.0003491\ttotal: 2.83s\tremaining: 9.37s\n",
      "232:\tlearn: 0.0003491\ttotal: 2.84s\tremaining: 9.35s\n",
      "233:\tlearn: 0.0003491\ttotal: 2.85s\tremaining: 9.33s\n",
      "234:\tlearn: 0.0003491\ttotal: 2.86s\tremaining: 9.3s\n",
      "235:\tlearn: 0.0003490\ttotal: 2.87s\tremaining: 9.28s\n",
      "236:\tlearn: 0.0003490\ttotal: 2.88s\tremaining: 9.26s\n",
      "237:\tlearn: 0.0003445\ttotal: 2.89s\tremaining: 9.24s\n",
      "238:\tlearn: 0.0003445\ttotal: 2.9s\tremaining: 9.22s\n",
      "239:\tlearn: 0.0003367\ttotal: 2.91s\tremaining: 9.21s\n",
      "240:\tlearn: 0.0003366\ttotal: 2.92s\tremaining: 9.18s\n",
      "241:\tlearn: 0.0003368\ttotal: 2.92s\tremaining: 9.16s\n",
      "242:\tlearn: 0.0003367\ttotal: 2.94s\tremaining: 9.14s\n",
      "243:\tlearn: 0.0003366\ttotal: 2.95s\tremaining: 9.14s\n",
      "244:\tlearn: 0.0003292\ttotal: 2.97s\tremaining: 9.14s\n",
      "245:\tlearn: 0.0003292\ttotal: 2.98s\tremaining: 9.13s\n",
      "246:\tlearn: 0.0003292\ttotal: 2.99s\tremaining: 9.12s\n",
      "247:\tlearn: 0.0003293\ttotal: 3s\tremaining: 9.11s\n",
      "248:\tlearn: 0.0003292\ttotal: 3.01s\tremaining: 9.09s\n",
      "249:\tlearn: 0.0003292\ttotal: 3.02s\tremaining: 9.07s\n",
      "250:\tlearn: 0.0003292\ttotal: 3.04s\tremaining: 9.06s\n",
      "251:\tlearn: 0.0003292\ttotal: 3.04s\tremaining: 9.04s\n",
      "252:\tlearn: 0.0003291\ttotal: 3.06s\tremaining: 9.02s\n",
      "253:\tlearn: 0.0003291\ttotal: 3.06s\tremaining: 9s\n",
      "254:\tlearn: 0.0003292\ttotal: 3.08s\tremaining: 8.99s\n",
      "255:\tlearn: 0.0003293\ttotal: 3.08s\tremaining: 8.97s\n",
      "256:\tlearn: 0.0003292\ttotal: 3.1s\tremaining: 8.95s\n",
      "257:\tlearn: 0.0003292\ttotal: 3.1s\tremaining: 8.93s\n",
      "258:\tlearn: 0.0003292\ttotal: 3.11s\tremaining: 8.91s\n",
      "259:\tlearn: 0.0003292\ttotal: 3.12s\tremaining: 8.89s\n",
      "260:\tlearn: 0.0003292\ttotal: 3.13s\tremaining: 8.87s\n",
      "261:\tlearn: 0.0003292\ttotal: 3.14s\tremaining: 8.85s\n",
      "262:\tlearn: 0.0003292\ttotal: 3.15s\tremaining: 8.83s\n",
      "263:\tlearn: 0.0003290\ttotal: 3.16s\tremaining: 8.82s\n",
      "264:\tlearn: 0.0003289\ttotal: 3.17s\tremaining: 8.8s\n",
      "265:\tlearn: 0.0003290\ttotal: 3.19s\tremaining: 8.79s\n",
      "266:\tlearn: 0.0003289\ttotal: 3.19s\tremaining: 8.77s\n",
      "267:\tlearn: 0.0003289\ttotal: 3.2s\tremaining: 8.75s\n",
      "268:\tlearn: 0.0003289\ttotal: 3.21s\tremaining: 8.73s\n",
      "269:\tlearn: 0.0003290\ttotal: 3.22s\tremaining: 8.71s\n",
      "270:\tlearn: 0.0003290\ttotal: 3.23s\tremaining: 8.69s\n",
      "271:\tlearn: 0.0003290\ttotal: 3.24s\tremaining: 8.68s\n",
      "272:\tlearn: 0.0003289\ttotal: 3.25s\tremaining: 8.66s\n",
      "273:\tlearn: 0.0003289\ttotal: 3.26s\tremaining: 8.64s\n",
      "274:\tlearn: 0.0003289\ttotal: 3.27s\tremaining: 8.63s\n",
      "275:\tlearn: 0.0003289\ttotal: 3.28s\tremaining: 8.61s\n",
      "276:\tlearn: 0.0003289\ttotal: 3.29s\tremaining: 8.59s\n",
      "277:\tlearn: 0.0003289\ttotal: 3.3s\tremaining: 8.57s\n",
      "278:\tlearn: 0.0003289\ttotal: 3.31s\tremaining: 8.56s\n",
      "279:\tlearn: 0.0003289\ttotal: 3.32s\tremaining: 8.54s\n",
      "280:\tlearn: 0.0003289\ttotal: 3.33s\tremaining: 8.53s\n",
      "281:\tlearn: 0.0003289\ttotal: 3.34s\tremaining: 8.51s\n",
      "282:\tlearn: 0.0003289\ttotal: 3.35s\tremaining: 8.49s\n",
      "283:\tlearn: 0.0003291\ttotal: 3.36s\tremaining: 8.48s\n",
      "284:\tlearn: 0.0003289\ttotal: 3.37s\tremaining: 8.46s\n",
      "285:\tlearn: 0.0003289\ttotal: 3.38s\tremaining: 8.45s\n",
      "286:\tlearn: 0.0003290\ttotal: 3.39s\tremaining: 8.43s\n",
      "287:\tlearn: 0.0003289\ttotal: 3.4s\tremaining: 8.41s\n",
      "288:\tlearn: 0.0003289\ttotal: 3.41s\tremaining: 8.4s\n",
      "289:\tlearn: 0.0003289\ttotal: 3.42s\tremaining: 8.38s\n",
      "290:\tlearn: 0.0003290\ttotal: 3.43s\tremaining: 8.36s\n",
      "291:\tlearn: 0.0003290\ttotal: 3.44s\tremaining: 8.34s\n",
      "292:\tlearn: 0.0003289\ttotal: 3.45s\tremaining: 8.32s\n",
      "293:\tlearn: 0.0003289\ttotal: 3.46s\tremaining: 8.3s\n",
      "294:\tlearn: 0.0003289\ttotal: 3.47s\tremaining: 8.29s\n",
      "295:\tlearn: 0.0003290\ttotal: 3.48s\tremaining: 8.27s\n",
      "296:\tlearn: 0.0003289\ttotal: 3.49s\tremaining: 8.26s\n",
      "297:\tlearn: 0.0003289\ttotal: 3.5s\tremaining: 8.24s\n",
      "298:\tlearn: 0.0003289\ttotal: 3.51s\tremaining: 8.22s\n",
      "299:\tlearn: 0.0003289\ttotal: 3.52s\tremaining: 8.21s\n",
      "300:\tlearn: 0.0003289\ttotal: 3.53s\tremaining: 8.19s\n",
      "301:\tlearn: 0.0003289\ttotal: 3.54s\tremaining: 8.18s\n",
      "302:\tlearn: 0.0003289\ttotal: 3.55s\tremaining: 8.17s\n",
      "303:\tlearn: 0.0003290\ttotal: 3.56s\tremaining: 8.15s\n",
      "304:\tlearn: 0.0003290\ttotal: 3.58s\tremaining: 8.15s\n",
      "305:\tlearn: 0.0003290\ttotal: 3.58s\tremaining: 8.13s\n",
      "306:\tlearn: 0.0003289\ttotal: 3.59s\tremaining: 8.11s\n",
      "307:\tlearn: 0.0003289\ttotal: 3.6s\tremaining: 8.1s\n",
      "308:\tlearn: 0.0003240\ttotal: 3.61s\tremaining: 8.08s\n",
      "309:\tlearn: 0.0003240\ttotal: 3.62s\tremaining: 8.07s\n",
      "310:\tlearn: 0.0003241\ttotal: 3.63s\tremaining: 8.05s\n",
      "311:\tlearn: 0.0003240\ttotal: 3.64s\tremaining: 8.04s\n",
      "312:\tlearn: 0.0003240\ttotal: 3.65s\tremaining: 8.02s\n",
      "313:\tlearn: 0.0003240\ttotal: 3.66s\tremaining: 8.01s\n",
      "314:\tlearn: 0.0003240\ttotal: 3.67s\tremaining: 7.99s\n",
      "315:\tlearn: 0.0003240\ttotal: 3.69s\tremaining: 7.98s\n",
      "316:\tlearn: 0.0003240\ttotal: 3.69s\tremaining: 7.96s\n",
      "317:\tlearn: 0.0003241\ttotal: 3.71s\tremaining: 7.95s\n",
      "318:\tlearn: 0.0003240\ttotal: 3.71s\tremaining: 7.93s\n",
      "319:\tlearn: 0.0003240\ttotal: 3.72s\tremaining: 7.91s\n",
      "320:\tlearn: 0.0003240\ttotal: 3.73s\tremaining: 7.9s\n",
      "321:\tlearn: 0.0003240\ttotal: 3.75s\tremaining: 7.89s\n",
      "322:\tlearn: 0.0003239\ttotal: 3.76s\tremaining: 7.87s\n",
      "323:\tlearn: 0.0003238\ttotal: 3.77s\tremaining: 7.86s\n",
      "324:\tlearn: 0.0003238\ttotal: 3.78s\tremaining: 7.85s\n",
      "325:\tlearn: 0.0003239\ttotal: 3.79s\tremaining: 7.84s\n",
      "326:\tlearn: 0.0003239\ttotal: 3.8s\tremaining: 7.82s\n",
      "327:\tlearn: 0.0003239\ttotal: 3.81s\tremaining: 7.81s\n",
      "328:\tlearn: 0.0003240\ttotal: 3.82s\tremaining: 7.8s\n",
      "329:\tlearn: 0.0003239\ttotal: 3.83s\tremaining: 7.78s\n",
      "330:\tlearn: 0.0003240\ttotal: 3.84s\tremaining: 7.77s\n",
      "331:\tlearn: 0.0003240\ttotal: 3.85s\tremaining: 7.75s\n",
      "332:\tlearn: 0.0003240\ttotal: 3.86s\tremaining: 7.74s\n",
      "333:\tlearn: 0.0003240\ttotal: 3.87s\tremaining: 7.72s\n",
      "334:\tlearn: 0.0003240\ttotal: 3.88s\tremaining: 7.71s\n",
      "335:\tlearn: 0.0003240\ttotal: 3.89s\tremaining: 7.69s\n",
      "336:\tlearn: 0.0003239\ttotal: 3.9s\tremaining: 7.67s\n",
      "337:\tlearn: 0.0003239\ttotal: 3.91s\tremaining: 7.66s\n",
      "338:\tlearn: 0.0003239\ttotal: 3.92s\tremaining: 7.64s\n",
      "339:\tlearn: 0.0003240\ttotal: 3.93s\tremaining: 7.63s\n",
      "340:\tlearn: 0.0003239\ttotal: 3.94s\tremaining: 7.62s\n",
      "341:\tlearn: 0.0003239\ttotal: 3.95s\tremaining: 7.61s\n",
      "342:\tlearn: 0.0003238\ttotal: 3.97s\tremaining: 7.6s\n",
      "343:\tlearn: 0.0003239\ttotal: 3.98s\tremaining: 7.58s\n",
      "344:\tlearn: 0.0003240\ttotal: 3.99s\tremaining: 7.57s\n",
      "345:\tlearn: 0.0003238\ttotal: 4s\tremaining: 7.56s\n",
      "346:\tlearn: 0.0003239\ttotal: 4.01s\tremaining: 7.55s\n",
      "347:\tlearn: 0.0003239\ttotal: 4.02s\tremaining: 7.54s\n",
      "348:\tlearn: 0.0003239\ttotal: 4.03s\tremaining: 7.53s\n",
      "349:\tlearn: 0.0003239\ttotal: 4.04s\tremaining: 7.51s\n",
      "350:\tlearn: 0.0003240\ttotal: 4.05s\tremaining: 7.5s\n",
      "351:\tlearn: 0.0003240\ttotal: 4.07s\tremaining: 7.49s\n",
      "352:\tlearn: 0.0003240\ttotal: 4.08s\tremaining: 7.47s\n",
      "353:\tlearn: 0.0003240\ttotal: 4.09s\tremaining: 7.46s\n",
      "354:\tlearn: 0.0003240\ttotal: 4.1s\tremaining: 7.45s\n",
      "355:\tlearn: 0.0003240\ttotal: 4.11s\tremaining: 7.43s\n",
      "356:\tlearn: 0.0003239\ttotal: 4.12s\tremaining: 7.42s\n",
      "357:\tlearn: 0.0003239\ttotal: 4.13s\tremaining: 7.41s\n",
      "358:\tlearn: 0.0003238\ttotal: 4.14s\tremaining: 7.39s\n",
      "359:\tlearn: 0.0003239\ttotal: 4.15s\tremaining: 7.38s\n",
      "360:\tlearn: 0.0003238\ttotal: 4.16s\tremaining: 7.37s\n",
      "361:\tlearn: 0.0003239\ttotal: 4.17s\tremaining: 7.36s\n",
      "362:\tlearn: 0.0003238\ttotal: 4.18s\tremaining: 7.34s\n",
      "363:\tlearn: 0.0003239\ttotal: 4.2s\tremaining: 7.33s\n",
      "364:\tlearn: 0.0003238\ttotal: 4.21s\tremaining: 7.32s\n",
      "365:\tlearn: 0.0003239\ttotal: 4.22s\tremaining: 7.31s\n",
      "366:\tlearn: 0.0003238\ttotal: 4.23s\tremaining: 7.3s\n",
      "367:\tlearn: 0.0003238\ttotal: 4.24s\tremaining: 7.28s\n",
      "368:\tlearn: 0.0003239\ttotal: 4.25s\tremaining: 7.27s\n",
      "369:\tlearn: 0.0003238\ttotal: 4.26s\tremaining: 7.25s\n",
      "370:\tlearn: 0.0003238\ttotal: 4.27s\tremaining: 7.24s\n",
      "371:\tlearn: 0.0003238\ttotal: 4.28s\tremaining: 7.23s\n",
      "372:\tlearn: 0.0003239\ttotal: 4.29s\tremaining: 7.21s\n",
      "373:\tlearn: 0.0003239\ttotal: 4.3s\tremaining: 7.2s\n",
      "374:\tlearn: 0.0003238\ttotal: 4.31s\tremaining: 7.19s\n",
      "375:\tlearn: 0.0003239\ttotal: 4.32s\tremaining: 7.17s\n",
      "376:\tlearn: 0.0003238\ttotal: 4.33s\tremaining: 7.16s\n",
      "377:\tlearn: 0.0003239\ttotal: 4.34s\tremaining: 7.15s\n",
      "378:\tlearn: 0.0003238\ttotal: 4.36s\tremaining: 7.14s\n",
      "379:\tlearn: 0.0003239\ttotal: 4.37s\tremaining: 7.13s\n",
      "380:\tlearn: 0.0003240\ttotal: 4.38s\tremaining: 7.12s\n",
      "381:\tlearn: 0.0003238\ttotal: 4.39s\tremaining: 7.11s\n",
      "382:\tlearn: 0.0003238\ttotal: 4.41s\tremaining: 7.1s\n",
      "383:\tlearn: 0.0003237\ttotal: 4.42s\tremaining: 7.09s\n",
      "384:\tlearn: 0.0003237\ttotal: 4.43s\tremaining: 7.07s\n",
      "385:\tlearn: 0.0003237\ttotal: 4.44s\tremaining: 7.06s\n",
      "386:\tlearn: 0.0003237\ttotal: 4.45s\tremaining: 7.05s\n",
      "387:\tlearn: 0.0003238\ttotal: 4.46s\tremaining: 7.04s\n",
      "388:\tlearn: 0.0003237\ttotal: 4.47s\tremaining: 7.02s\n",
      "389:\tlearn: 0.0003238\ttotal: 4.48s\tremaining: 7.01s\n",
      "390:\tlearn: 0.0003238\ttotal: 4.49s\tremaining: 7s\n",
      "391:\tlearn: 0.0003239\ttotal: 4.5s\tremaining: 6.98s\n",
      "392:\tlearn: 0.0003238\ttotal: 4.51s\tremaining: 6.97s\n",
      "393:\tlearn: 0.0003238\ttotal: 4.52s\tremaining: 6.96s\n",
      "394:\tlearn: 0.0003238\ttotal: 4.53s\tremaining: 6.94s\n",
      "395:\tlearn: 0.0003238\ttotal: 4.54s\tremaining: 6.93s\n",
      "396:\tlearn: 0.0003237\ttotal: 4.55s\tremaining: 6.92s\n",
      "397:\tlearn: 0.0003237\ttotal: 4.56s\tremaining: 6.9s\n",
      "398:\tlearn: 0.0003238\ttotal: 4.57s\tremaining: 6.89s\n",
      "399:\tlearn: 0.0003237\ttotal: 4.58s\tremaining: 6.88s\n",
      "400:\tlearn: 0.0003238\ttotal: 4.59s\tremaining: 6.86s\n",
      "401:\tlearn: 0.0003237\ttotal: 4.6s\tremaining: 6.85s\n",
      "402:\tlearn: 0.0003238\ttotal: 4.61s\tremaining: 6.83s\n",
      "403:\tlearn: 0.0003237\ttotal: 4.62s\tremaining: 6.82s\n",
      "404:\tlearn: 0.0003237\ttotal: 4.63s\tremaining: 6.81s\n",
      "405:\tlearn: 0.0003238\ttotal: 4.64s\tremaining: 6.79s\n",
      "406:\tlearn: 0.0003236\ttotal: 4.65s\tremaining: 6.78s\n",
      "407:\tlearn: 0.0003237\ttotal: 4.67s\tremaining: 6.77s\n",
      "408:\tlearn: 0.0003237\ttotal: 4.68s\tremaining: 6.76s\n",
      "409:\tlearn: 0.0003237\ttotal: 4.69s\tremaining: 6.75s\n",
      "410:\tlearn: 0.0003237\ttotal: 4.7s\tremaining: 6.73s\n",
      "411:\tlearn: 0.0003237\ttotal: 4.71s\tremaining: 6.72s\n",
      "412:\tlearn: 0.0003237\ttotal: 4.72s\tremaining: 6.71s\n",
      "413:\tlearn: 0.0003237\ttotal: 4.73s\tremaining: 6.7s\n",
      "414:\tlearn: 0.0003237\ttotal: 4.75s\tremaining: 6.69s\n",
      "415:\tlearn: 0.0003237\ttotal: 4.76s\tremaining: 6.69s\n",
      "416:\tlearn: 0.0003235\ttotal: 4.78s\tremaining: 6.68s\n",
      "417:\tlearn: 0.0003236\ttotal: 4.79s\tremaining: 6.67s\n",
      "418:\tlearn: 0.0003236\ttotal: 4.8s\tremaining: 6.65s\n",
      "419:\tlearn: 0.0003237\ttotal: 4.81s\tremaining: 6.64s\n",
      "420:\tlearn: 0.0003236\ttotal: 4.82s\tremaining: 6.63s\n",
      "421:\tlearn: 0.0003237\ttotal: 4.83s\tremaining: 6.62s\n",
      "422:\tlearn: 0.0003236\ttotal: 4.84s\tremaining: 6.61s\n",
      "423:\tlearn: 0.0003237\ttotal: 4.85s\tremaining: 6.59s\n",
      "424:\tlearn: 0.0003236\ttotal: 4.86s\tremaining: 6.58s\n",
      "425:\tlearn: 0.0003237\ttotal: 4.88s\tremaining: 6.57s\n",
      "426:\tlearn: 0.0003237\ttotal: 4.89s\tremaining: 6.56s\n",
      "427:\tlearn: 0.0003235\ttotal: 4.9s\tremaining: 6.55s\n",
      "428:\tlearn: 0.0003236\ttotal: 4.91s\tremaining: 6.54s\n",
      "429:\tlearn: 0.0003237\ttotal: 4.92s\tremaining: 6.53s\n",
      "430:\tlearn: 0.0003236\ttotal: 4.94s\tremaining: 6.52s\n",
      "431:\tlearn: 0.0003236\ttotal: 4.95s\tremaining: 6.51s\n",
      "432:\tlearn: 0.0003235\ttotal: 4.96s\tremaining: 6.5s\n",
      "433:\tlearn: 0.0003236\ttotal: 4.97s\tremaining: 6.49s\n",
      "434:\tlearn: 0.0003235\ttotal: 4.98s\tremaining: 6.47s\n",
      "435:\tlearn: 0.0003237\ttotal: 4.99s\tremaining: 6.46s\n",
      "436:\tlearn: 0.0003235\ttotal: 5.01s\tremaining: 6.45s\n",
      "437:\tlearn: 0.0003236\ttotal: 5.02s\tremaining: 6.44s\n",
      "438:\tlearn: 0.0003236\ttotal: 5.03s\tremaining: 6.43s\n",
      "439:\tlearn: 0.0003235\ttotal: 5.04s\tremaining: 6.42s\n",
      "440:\tlearn: 0.0003235\ttotal: 5.05s\tremaining: 6.4s\n",
      "441:\tlearn: 0.0003235\ttotal: 5.06s\tremaining: 6.39s\n",
      "442:\tlearn: 0.0003236\ttotal: 5.07s\tremaining: 6.38s\n",
      "443:\tlearn: 0.0003236\ttotal: 5.09s\tremaining: 6.37s\n",
      "444:\tlearn: 0.0003236\ttotal: 5.1s\tremaining: 6.36s\n",
      "445:\tlearn: 0.0003235\ttotal: 5.12s\tremaining: 6.35s\n",
      "446:\tlearn: 0.0003235\ttotal: 5.13s\tremaining: 6.34s\n",
      "447:\tlearn: 0.0003236\ttotal: 5.14s\tremaining: 6.33s\n",
      "448:\tlearn: 0.0003236\ttotal: 5.16s\tremaining: 6.33s\n",
      "449:\tlearn: 0.0003236\ttotal: 5.17s\tremaining: 6.32s\n",
      "450:\tlearn: 0.0003235\ttotal: 5.18s\tremaining: 6.3s\n",
      "451:\tlearn: 0.0003235\ttotal: 5.19s\tremaining: 6.29s\n",
      "452:\tlearn: 0.0003235\ttotal: 5.2s\tremaining: 6.28s\n",
      "453:\tlearn: 0.0003235\ttotal: 5.21s\tremaining: 6.27s\n",
      "454:\tlearn: 0.0003235\ttotal: 5.22s\tremaining: 6.26s\n",
      "455:\tlearn: 0.0003235\ttotal: 5.23s\tremaining: 6.24s\n",
      "456:\tlearn: 0.0003235\ttotal: 5.25s\tremaining: 6.23s\n",
      "457:\tlearn: 0.0003234\ttotal: 5.26s\tremaining: 6.22s\n",
      "458:\tlearn: 0.0003234\ttotal: 5.27s\tremaining: 6.21s\n",
      "459:\tlearn: 0.0003234\ttotal: 5.28s\tremaining: 6.2s\n",
      "460:\tlearn: 0.0003235\ttotal: 5.29s\tremaining: 6.19s\n",
      "461:\tlearn: 0.0003234\ttotal: 5.31s\tremaining: 6.18s\n",
      "462:\tlearn: 0.0003235\ttotal: 5.32s\tremaining: 6.17s\n",
      "463:\tlearn: 0.0003235\ttotal: 5.33s\tremaining: 6.16s\n",
      "464:\tlearn: 0.0003235\ttotal: 5.34s\tremaining: 6.15s\n",
      "465:\tlearn: 0.0003234\ttotal: 5.35s\tremaining: 6.13s\n",
      "466:\tlearn: 0.0003234\ttotal: 5.37s\tremaining: 6.12s\n",
      "467:\tlearn: 0.0003234\ttotal: 5.38s\tremaining: 6.11s\n",
      "468:\tlearn: 0.0003234\ttotal: 5.39s\tremaining: 6.1s\n",
      "469:\tlearn: 0.0003235\ttotal: 5.4s\tremaining: 6.09s\n",
      "470:\tlearn: 0.0003235\ttotal: 5.41s\tremaining: 6.08s\n",
      "471:\tlearn: 0.0003234\ttotal: 5.42s\tremaining: 6.06s\n",
      "472:\tlearn: 0.0003234\ttotal: 5.43s\tremaining: 6.05s\n",
      "473:\tlearn: 0.0003234\ttotal: 5.44s\tremaining: 6.04s\n",
      "474:\tlearn: 0.0003234\ttotal: 5.48s\tremaining: 6.06s\n",
      "475:\tlearn: 0.0003234\ttotal: 5.51s\tremaining: 6.07s\n",
      "476:\tlearn: 0.0003234\ttotal: 5.56s\tremaining: 6.09s\n",
      "477:\tlearn: 0.0003233\ttotal: 5.57s\tremaining: 6.08s\n",
      "478:\tlearn: 0.0003235\ttotal: 5.59s\tremaining: 6.08s\n",
      "479:\tlearn: 0.0003234\ttotal: 5.61s\tremaining: 6.07s\n",
      "480:\tlearn: 0.0003233\ttotal: 5.62s\tremaining: 6.06s\n",
      "481:\tlearn: 0.0003233\ttotal: 5.63s\tremaining: 6.05s\n",
      "482:\tlearn: 0.0003233\ttotal: 5.64s\tremaining: 6.04s\n",
      "483:\tlearn: 0.0003233\ttotal: 5.65s\tremaining: 6.02s\n",
      "484:\tlearn: 0.0003233\ttotal: 5.66s\tremaining: 6.01s\n",
      "485:\tlearn: 0.0003233\ttotal: 5.67s\tremaining: 6s\n",
      "486:\tlearn: 0.0003233\ttotal: 5.68s\tremaining: 5.99s\n",
      "487:\tlearn: 0.0003233\ttotal: 5.69s\tremaining: 5.97s\n",
      "488:\tlearn: 0.0003233\ttotal: 5.71s\tremaining: 5.96s\n",
      "489:\tlearn: 0.0003233\ttotal: 5.72s\tremaining: 5.95s\n",
      "490:\tlearn: 0.0003233\ttotal: 5.73s\tremaining: 5.94s\n",
      "491:\tlearn: 0.0003233\ttotal: 5.74s\tremaining: 5.92s\n",
      "492:\tlearn: 0.0003233\ttotal: 5.75s\tremaining: 5.91s\n",
      "493:\tlearn: 0.0003233\ttotal: 5.76s\tremaining: 5.9s\n",
      "494:\tlearn: 0.0003233\ttotal: 5.77s\tremaining: 5.89s\n",
      "495:\tlearn: 0.0003233\ttotal: 5.78s\tremaining: 5.88s\n",
      "496:\tlearn: 0.0003233\ttotal: 5.79s\tremaining: 5.86s\n",
      "497:\tlearn: 0.0003233\ttotal: 5.8s\tremaining: 5.85s\n",
      "498:\tlearn: 0.0003233\ttotal: 5.81s\tremaining: 5.84s\n",
      "499:\tlearn: 0.0003233\ttotal: 5.82s\tremaining: 5.82s\n",
      "500:\tlearn: 0.0003233\ttotal: 5.83s\tremaining: 5.81s\n",
      "501:\tlearn: 0.0003233\ttotal: 5.84s\tremaining: 5.8s\n",
      "502:\tlearn: 0.0003233\ttotal: 5.85s\tremaining: 5.78s\n",
      "503:\tlearn: 0.0003233\ttotal: 5.86s\tremaining: 5.77s\n",
      "504:\tlearn: 0.0003233\ttotal: 5.87s\tremaining: 5.75s\n",
      "505:\tlearn: 0.0003233\ttotal: 5.88s\tremaining: 5.74s\n",
      "506:\tlearn: 0.0003233\ttotal: 5.89s\tremaining: 5.73s\n",
      "507:\tlearn: 0.0003233\ttotal: 5.9s\tremaining: 5.72s\n",
      "508:\tlearn: 0.0003233\ttotal: 5.91s\tremaining: 5.7s\n",
      "509:\tlearn: 0.0003233\ttotal: 5.92s\tremaining: 5.69s\n",
      "510:\tlearn: 0.0003233\ttotal: 5.93s\tremaining: 5.68s\n",
      "511:\tlearn: 0.0003233\ttotal: 5.94s\tremaining: 5.66s\n",
      "512:\tlearn: 0.0003233\ttotal: 5.95s\tremaining: 5.65s\n",
      "513:\tlearn: 0.0003233\ttotal: 5.96s\tremaining: 5.64s\n",
      "514:\tlearn: 0.0003233\ttotal: 5.97s\tremaining: 5.63s\n",
      "515:\tlearn: 0.0003233\ttotal: 5.98s\tremaining: 5.61s\n",
      "516:\tlearn: 0.0003233\ttotal: 5.99s\tremaining: 5.6s\n",
      "517:\tlearn: 0.0003233\ttotal: 6s\tremaining: 5.59s\n",
      "518:\tlearn: 0.0003233\ttotal: 6.01s\tremaining: 5.57s\n",
      "519:\tlearn: 0.0003233\ttotal: 6.02s\tremaining: 5.56s\n",
      "520:\tlearn: 0.0003233\ttotal: 6.03s\tremaining: 5.55s\n",
      "521:\tlearn: 0.0003233\ttotal: 6.04s\tremaining: 5.53s\n",
      "522:\tlearn: 0.0003233\ttotal: 6.05s\tremaining: 5.52s\n",
      "523:\tlearn: 0.0003233\ttotal: 6.06s\tremaining: 5.51s\n",
      "524:\tlearn: 0.0003233\ttotal: 6.07s\tremaining: 5.5s\n",
      "525:\tlearn: 0.0003233\ttotal: 6.08s\tremaining: 5.48s\n",
      "526:\tlearn: 0.0003233\ttotal: 6.09s\tremaining: 5.47s\n",
      "527:\tlearn: 0.0003233\ttotal: 6.1s\tremaining: 5.46s\n",
      "528:\tlearn: 0.0003233\ttotal: 6.11s\tremaining: 5.44s\n",
      "529:\tlearn: 0.0003233\ttotal: 6.13s\tremaining: 5.43s\n",
      "530:\tlearn: 0.0003233\ttotal: 6.14s\tremaining: 5.42s\n",
      "531:\tlearn: 0.0003233\ttotal: 6.15s\tremaining: 5.41s\n",
      "532:\tlearn: 0.0003233\ttotal: 6.16s\tremaining: 5.39s\n",
      "533:\tlearn: 0.0003233\ttotal: 6.17s\tremaining: 5.38s\n",
      "534:\tlearn: 0.0003233\ttotal: 6.18s\tremaining: 5.37s\n",
      "535:\tlearn: 0.0003233\ttotal: 6.18s\tremaining: 5.35s\n",
      "536:\tlearn: 0.0003233\ttotal: 6.19s\tremaining: 5.34s\n",
      "537:\tlearn: 0.0003233\ttotal: 6.2s\tremaining: 5.33s\n",
      "538:\tlearn: 0.0003233\ttotal: 6.21s\tremaining: 5.31s\n",
      "539:\tlearn: 0.0003233\ttotal: 6.22s\tremaining: 5.3s\n",
      "540:\tlearn: 0.0003233\ttotal: 6.23s\tremaining: 5.29s\n",
      "541:\tlearn: 0.0003233\ttotal: 6.24s\tremaining: 5.27s\n",
      "542:\tlearn: 0.0003233\ttotal: 6.25s\tremaining: 5.26s\n",
      "543:\tlearn: 0.0003233\ttotal: 6.26s\tremaining: 5.25s\n",
      "544:\tlearn: 0.0003233\ttotal: 6.26s\tremaining: 5.23s\n",
      "545:\tlearn: 0.0003233\ttotal: 6.28s\tremaining: 5.22s\n",
      "546:\tlearn: 0.0003233\ttotal: 6.29s\tremaining: 5.21s\n",
      "547:\tlearn: 0.0003233\ttotal: 6.3s\tremaining: 5.19s\n",
      "548:\tlearn: 0.0003233\ttotal: 6.31s\tremaining: 5.18s\n",
      "549:\tlearn: 0.0003233\ttotal: 6.32s\tremaining: 5.17s\n",
      "550:\tlearn: 0.0003233\ttotal: 6.33s\tremaining: 5.16s\n",
      "551:\tlearn: 0.0003233\ttotal: 6.34s\tremaining: 5.14s\n",
      "552:\tlearn: 0.0003233\ttotal: 6.35s\tremaining: 5.13s\n",
      "553:\tlearn: 0.0003233\ttotal: 6.36s\tremaining: 5.12s\n",
      "554:\tlearn: 0.0003233\ttotal: 6.37s\tremaining: 5.11s\n",
      "555:\tlearn: 0.0003233\ttotal: 6.38s\tremaining: 5.09s\n",
      "556:\tlearn: 0.0003233\ttotal: 6.39s\tremaining: 5.08s\n",
      "557:\tlearn: 0.0003233\ttotal: 6.4s\tremaining: 5.07s\n",
      "558:\tlearn: 0.0003233\ttotal: 6.41s\tremaining: 5.06s\n",
      "559:\tlearn: 0.0003233\ttotal: 6.42s\tremaining: 5.04s\n",
      "560:\tlearn: 0.0003233\ttotal: 6.43s\tremaining: 5.03s\n",
      "561:\tlearn: 0.0003233\ttotal: 6.44s\tremaining: 5.02s\n",
      "562:\tlearn: 0.0003233\ttotal: 6.45s\tremaining: 5.01s\n",
      "563:\tlearn: 0.0003233\ttotal: 6.46s\tremaining: 4.99s\n",
      "564:\tlearn: 0.0003233\ttotal: 6.47s\tremaining: 4.98s\n",
      "565:\tlearn: 0.0003233\ttotal: 6.48s\tremaining: 4.97s\n",
      "566:\tlearn: 0.0003233\ttotal: 6.49s\tremaining: 4.96s\n",
      "567:\tlearn: 0.0003233\ttotal: 6.5s\tremaining: 4.95s\n",
      "568:\tlearn: 0.0003233\ttotal: 6.51s\tremaining: 4.93s\n",
      "569:\tlearn: 0.0003233\ttotal: 6.53s\tremaining: 4.92s\n",
      "570:\tlearn: 0.0003233\ttotal: 6.54s\tremaining: 4.91s\n",
      "571:\tlearn: 0.0003233\ttotal: 6.55s\tremaining: 4.9s\n",
      "572:\tlearn: 0.0003233\ttotal: 6.56s\tremaining: 4.89s\n",
      "573:\tlearn: 0.0003233\ttotal: 6.57s\tremaining: 4.88s\n",
      "574:\tlearn: 0.0003233\ttotal: 6.58s\tremaining: 4.86s\n",
      "575:\tlearn: 0.0003233\ttotal: 6.59s\tremaining: 4.85s\n",
      "576:\tlearn: 0.0003233\ttotal: 6.6s\tremaining: 4.84s\n",
      "577:\tlearn: 0.0003233\ttotal: 6.62s\tremaining: 4.83s\n",
      "578:\tlearn: 0.0003233\ttotal: 6.63s\tremaining: 4.82s\n",
      "579:\tlearn: 0.0003233\ttotal: 6.64s\tremaining: 4.81s\n",
      "580:\tlearn: 0.0003233\ttotal: 6.65s\tremaining: 4.8s\n",
      "581:\tlearn: 0.0003233\ttotal: 6.66s\tremaining: 4.79s\n",
      "582:\tlearn: 0.0003233\ttotal: 6.68s\tremaining: 4.78s\n",
      "583:\tlearn: 0.0003233\ttotal: 6.69s\tremaining: 4.76s\n",
      "584:\tlearn: 0.0003233\ttotal: 6.7s\tremaining: 4.75s\n",
      "585:\tlearn: 0.0003233\ttotal: 6.71s\tremaining: 4.74s\n",
      "586:\tlearn: 0.0003233\ttotal: 6.72s\tremaining: 4.73s\n",
      "587:\tlearn: 0.0003233\ttotal: 6.73s\tremaining: 4.72s\n",
      "588:\tlearn: 0.0003233\ttotal: 6.74s\tremaining: 4.71s\n",
      "589:\tlearn: 0.0003233\ttotal: 6.75s\tremaining: 4.69s\n",
      "590:\tlearn: 0.0003233\ttotal: 6.76s\tremaining: 4.68s\n",
      "591:\tlearn: 0.0003233\ttotal: 6.78s\tremaining: 4.67s\n",
      "592:\tlearn: 0.0003233\ttotal: 6.79s\tremaining: 4.66s\n",
      "593:\tlearn: 0.0003233\ttotal: 6.8s\tremaining: 4.65s\n",
      "594:\tlearn: 0.0003233\ttotal: 6.81s\tremaining: 4.63s\n",
      "595:\tlearn: 0.0003233\ttotal: 6.82s\tremaining: 4.62s\n",
      "596:\tlearn: 0.0003233\ttotal: 6.83s\tremaining: 4.61s\n",
      "597:\tlearn: 0.0003233\ttotal: 6.84s\tremaining: 4.6s\n",
      "598:\tlearn: 0.0003233\ttotal: 6.86s\tremaining: 4.59s\n",
      "599:\tlearn: 0.0003233\ttotal: 6.87s\tremaining: 4.58s\n",
      "600:\tlearn: 0.0003233\ttotal: 6.88s\tremaining: 4.57s\n",
      "601:\tlearn: 0.0003233\ttotal: 6.89s\tremaining: 4.56s\n",
      "602:\tlearn: 0.0003233\ttotal: 6.91s\tremaining: 4.55s\n",
      "603:\tlearn: 0.0003233\ttotal: 6.92s\tremaining: 4.54s\n",
      "604:\tlearn: 0.0003233\ttotal: 6.94s\tremaining: 4.53s\n",
      "605:\tlearn: 0.0003233\ttotal: 6.95s\tremaining: 4.52s\n",
      "606:\tlearn: 0.0003233\ttotal: 6.96s\tremaining: 4.51s\n",
      "607:\tlearn: 0.0003233\ttotal: 6.97s\tremaining: 4.5s\n",
      "608:\tlearn: 0.0003233\ttotal: 6.99s\tremaining: 4.49s\n",
      "609:\tlearn: 0.0003233\ttotal: 7s\tremaining: 4.47s\n",
      "610:\tlearn: 0.0003233\ttotal: 7.01s\tremaining: 4.46s\n",
      "611:\tlearn: 0.0003233\ttotal: 7.03s\tremaining: 4.46s\n",
      "612:\tlearn: 0.0003233\ttotal: 7.04s\tremaining: 4.45s\n",
      "613:\tlearn: 0.0003233\ttotal: 7.06s\tremaining: 4.44s\n",
      "614:\tlearn: 0.0003233\ttotal: 7.07s\tremaining: 4.43s\n",
      "615:\tlearn: 0.0003233\ttotal: 7.09s\tremaining: 4.42s\n",
      "616:\tlearn: 0.0003233\ttotal: 7.1s\tremaining: 4.41s\n",
      "617:\tlearn: 0.0003233\ttotal: 7.12s\tremaining: 4.4s\n",
      "618:\tlearn: 0.0003233\ttotal: 7.13s\tremaining: 4.39s\n",
      "619:\tlearn: 0.0003233\ttotal: 7.15s\tremaining: 4.38s\n",
      "620:\tlearn: 0.0003233\ttotal: 7.16s\tremaining: 4.37s\n",
      "621:\tlearn: 0.0003233\ttotal: 7.17s\tremaining: 4.36s\n",
      "622:\tlearn: 0.0003233\ttotal: 7.19s\tremaining: 4.35s\n",
      "623:\tlearn: 0.0003233\ttotal: 7.2s\tremaining: 4.34s\n",
      "624:\tlearn: 0.0003233\ttotal: 7.22s\tremaining: 4.33s\n",
      "625:\tlearn: 0.0003233\ttotal: 7.23s\tremaining: 4.32s\n",
      "626:\tlearn: 0.0003233\ttotal: 7.24s\tremaining: 4.31s\n",
      "627:\tlearn: 0.0003233\ttotal: 7.25s\tremaining: 4.3s\n",
      "628:\tlearn: 0.0003233\ttotal: 7.27s\tremaining: 4.29s\n",
      "629:\tlearn: 0.0003233\ttotal: 7.28s\tremaining: 4.28s\n",
      "630:\tlearn: 0.0003233\ttotal: 7.29s\tremaining: 4.26s\n",
      "631:\tlearn: 0.0003233\ttotal: 7.31s\tremaining: 4.25s\n",
      "632:\tlearn: 0.0003233\ttotal: 7.32s\tremaining: 4.25s\n",
      "633:\tlearn: 0.0003233\ttotal: 7.34s\tremaining: 4.24s\n",
      "634:\tlearn: 0.0003233\ttotal: 7.35s\tremaining: 4.23s\n",
      "635:\tlearn: 0.0003233\ttotal: 7.37s\tremaining: 4.21s\n",
      "636:\tlearn: 0.0003233\ttotal: 7.38s\tremaining: 4.21s\n",
      "637:\tlearn: 0.0003233\ttotal: 7.4s\tremaining: 4.2s\n",
      "638:\tlearn: 0.0003233\ttotal: 7.41s\tremaining: 4.19s\n",
      "639:\tlearn: 0.0003233\ttotal: 7.42s\tremaining: 4.18s\n",
      "640:\tlearn: 0.0003233\ttotal: 7.44s\tremaining: 4.17s\n",
      "641:\tlearn: 0.0003233\ttotal: 7.45s\tremaining: 4.15s\n",
      "642:\tlearn: 0.0003233\ttotal: 7.46s\tremaining: 4.14s\n",
      "643:\tlearn: 0.0003233\ttotal: 7.48s\tremaining: 4.13s\n",
      "644:\tlearn: 0.0003233\ttotal: 7.49s\tremaining: 4.12s\n",
      "645:\tlearn: 0.0003233\ttotal: 7.5s\tremaining: 4.11s\n",
      "646:\tlearn: 0.0003233\ttotal: 7.51s\tremaining: 4.1s\n",
      "647:\tlearn: 0.0003233\ttotal: 7.53s\tremaining: 4.09s\n",
      "648:\tlearn: 0.0003233\ttotal: 7.54s\tremaining: 4.08s\n",
      "649:\tlearn: 0.0003233\ttotal: 7.55s\tremaining: 4.07s\n",
      "650:\tlearn: 0.0003233\ttotal: 7.56s\tremaining: 4.05s\n",
      "651:\tlearn: 0.0003233\ttotal: 7.58s\tremaining: 4.04s\n",
      "652:\tlearn: 0.0003233\ttotal: 7.58s\tremaining: 4.03s\n",
      "653:\tlearn: 0.0003233\ttotal: 7.59s\tremaining: 4.02s\n",
      "654:\tlearn: 0.0003233\ttotal: 7.61s\tremaining: 4s\n",
      "655:\tlearn: 0.0003233\ttotal: 7.62s\tremaining: 3.99s\n",
      "656:\tlearn: 0.0003233\ttotal: 7.63s\tremaining: 3.98s\n",
      "657:\tlearn: 0.0003233\ttotal: 7.64s\tremaining: 3.97s\n",
      "658:\tlearn: 0.0003233\ttotal: 7.65s\tremaining: 3.96s\n",
      "659:\tlearn: 0.0003233\ttotal: 7.66s\tremaining: 3.94s\n",
      "660:\tlearn: 0.0003233\ttotal: 7.67s\tremaining: 3.93s\n",
      "661:\tlearn: 0.0003233\ttotal: 7.68s\tremaining: 3.92s\n",
      "662:\tlearn: 0.0003233\ttotal: 7.7s\tremaining: 3.91s\n",
      "663:\tlearn: 0.0003233\ttotal: 7.71s\tremaining: 3.9s\n",
      "664:\tlearn: 0.0003233\ttotal: 7.72s\tremaining: 3.89s\n",
      "665:\tlearn: 0.0003233\ttotal: 7.73s\tremaining: 3.88s\n",
      "666:\tlearn: 0.0003233\ttotal: 7.75s\tremaining: 3.87s\n",
      "667:\tlearn: 0.0003233\ttotal: 7.77s\tremaining: 3.86s\n",
      "668:\tlearn: 0.0003233\ttotal: 7.78s\tremaining: 3.85s\n",
      "669:\tlearn: 0.0003233\ttotal: 7.8s\tremaining: 3.84s\n",
      "670:\tlearn: 0.0003233\ttotal: 7.81s\tremaining: 3.83s\n",
      "671:\tlearn: 0.0003233\ttotal: 7.82s\tremaining: 3.82s\n",
      "672:\tlearn: 0.0003233\ttotal: 7.83s\tremaining: 3.81s\n",
      "673:\tlearn: 0.0003233\ttotal: 7.84s\tremaining: 3.79s\n",
      "674:\tlearn: 0.0003233\ttotal: 7.86s\tremaining: 3.78s\n",
      "675:\tlearn: 0.0003233\ttotal: 7.87s\tremaining: 3.77s\n",
      "676:\tlearn: 0.0003233\ttotal: 7.88s\tremaining: 3.76s\n",
      "677:\tlearn: 0.0003233\ttotal: 7.9s\tremaining: 3.75s\n",
      "678:\tlearn: 0.0003233\ttotal: 7.91s\tremaining: 3.74s\n",
      "679:\tlearn: 0.0003233\ttotal: 7.92s\tremaining: 3.73s\n",
      "680:\tlearn: 0.0003233\ttotal: 7.93s\tremaining: 3.72s\n",
      "681:\tlearn: 0.0003233\ttotal: 7.95s\tremaining: 3.71s\n",
      "682:\tlearn: 0.0003233\ttotal: 7.96s\tremaining: 3.69s\n",
      "683:\tlearn: 0.0003233\ttotal: 7.98s\tremaining: 3.68s\n",
      "684:\tlearn: 0.0003233\ttotal: 7.99s\tremaining: 3.67s\n",
      "685:\tlearn: 0.0003233\ttotal: 8.01s\tremaining: 3.67s\n",
      "686:\tlearn: 0.0003233\ttotal: 8.02s\tremaining: 3.65s\n",
      "687:\tlearn: 0.0003233\ttotal: 8.03s\tremaining: 3.64s\n",
      "688:\tlearn: 0.0003233\ttotal: 8.05s\tremaining: 3.63s\n",
      "689:\tlearn: 0.0003233\ttotal: 8.06s\tremaining: 3.62s\n",
      "690:\tlearn: 0.0003233\ttotal: 8.08s\tremaining: 3.61s\n",
      "691:\tlearn: 0.0003233\ttotal: 8.09s\tremaining: 3.6s\n",
      "692:\tlearn: 0.0003233\ttotal: 8.11s\tremaining: 3.59s\n",
      "693:\tlearn: 0.0003233\ttotal: 8.12s\tremaining: 3.58s\n",
      "694:\tlearn: 0.0003233\ttotal: 8.14s\tremaining: 3.57s\n",
      "695:\tlearn: 0.0003233\ttotal: 8.15s\tremaining: 3.56s\n",
      "696:\tlearn: 0.0003233\ttotal: 8.16s\tremaining: 3.55s\n",
      "697:\tlearn: 0.0003233\ttotal: 8.17s\tremaining: 3.54s\n",
      "698:\tlearn: 0.0003233\ttotal: 8.19s\tremaining: 3.52s\n",
      "699:\tlearn: 0.0003233\ttotal: 8.2s\tremaining: 3.52s\n",
      "700:\tlearn: 0.0003233\ttotal: 8.21s\tremaining: 3.5s\n",
      "701:\tlearn: 0.0003233\ttotal: 8.23s\tremaining: 3.49s\n",
      "702:\tlearn: 0.0003233\ttotal: 8.24s\tremaining: 3.48s\n",
      "703:\tlearn: 0.0003233\ttotal: 8.25s\tremaining: 3.47s\n",
      "704:\tlearn: 0.0003233\ttotal: 8.27s\tremaining: 3.46s\n",
      "705:\tlearn: 0.0003233\ttotal: 8.28s\tremaining: 3.45s\n",
      "706:\tlearn: 0.0003233\ttotal: 8.29s\tremaining: 3.44s\n",
      "707:\tlearn: 0.0003233\ttotal: 8.31s\tremaining: 3.42s\n",
      "708:\tlearn: 0.0003233\ttotal: 8.41s\tremaining: 3.45s\n",
      "709:\tlearn: 0.0003233\ttotal: 8.44s\tremaining: 3.45s\n",
      "710:\tlearn: 0.0003233\ttotal: 8.46s\tremaining: 3.44s\n",
      "711:\tlearn: 0.0003233\ttotal: 8.5s\tremaining: 3.44s\n",
      "712:\tlearn: 0.0003233\ttotal: 8.52s\tremaining: 3.43s\n",
      "713:\tlearn: 0.0003233\ttotal: 8.55s\tremaining: 3.42s\n",
      "714:\tlearn: 0.0003233\ttotal: 8.56s\tremaining: 3.41s\n",
      "715:\tlearn: 0.0003233\ttotal: 8.57s\tremaining: 3.4s\n",
      "716:\tlearn: 0.0003233\ttotal: 8.59s\tremaining: 3.39s\n",
      "717:\tlearn: 0.0003233\ttotal: 8.6s\tremaining: 3.38s\n",
      "718:\tlearn: 0.0003233\ttotal: 8.61s\tremaining: 3.37s\n",
      "719:\tlearn: 0.0003233\ttotal: 8.63s\tremaining: 3.35s\n",
      "720:\tlearn: 0.0003233\ttotal: 8.64s\tremaining: 3.34s\n",
      "721:\tlearn: 0.0003233\ttotal: 8.65s\tremaining: 3.33s\n",
      "722:\tlearn: 0.0003233\ttotal: 8.66s\tremaining: 3.32s\n",
      "723:\tlearn: 0.0003233\ttotal: 8.68s\tremaining: 3.31s\n",
      "724:\tlearn: 0.0003233\ttotal: 8.7s\tremaining: 3.3s\n",
      "725:\tlearn: 0.0003233\ttotal: 8.71s\tremaining: 3.29s\n",
      "726:\tlearn: 0.0003233\ttotal: 8.73s\tremaining: 3.28s\n",
      "727:\tlearn: 0.0003233\ttotal: 8.74s\tremaining: 3.27s\n",
      "728:\tlearn: 0.0003233\ttotal: 8.76s\tremaining: 3.26s\n",
      "729:\tlearn: 0.0003233\ttotal: 8.77s\tremaining: 3.25s\n",
      "730:\tlearn: 0.0003233\ttotal: 8.79s\tremaining: 3.23s\n",
      "731:\tlearn: 0.0003233\ttotal: 8.8s\tremaining: 3.22s\n",
      "732:\tlearn: 0.0003233\ttotal: 8.81s\tremaining: 3.21s\n",
      "733:\tlearn: 0.0003233\ttotal: 8.83s\tremaining: 3.2s\n",
      "734:\tlearn: 0.0003233\ttotal: 8.84s\tremaining: 3.19s\n",
      "735:\tlearn: 0.0003233\ttotal: 8.85s\tremaining: 3.17s\n",
      "736:\tlearn: 0.0003233\ttotal: 8.86s\tremaining: 3.16s\n",
      "737:\tlearn: 0.0003233\ttotal: 8.88s\tremaining: 3.15s\n",
      "738:\tlearn: 0.0003233\ttotal: 8.89s\tremaining: 3.14s\n",
      "739:\tlearn: 0.0003233\ttotal: 8.9s\tremaining: 3.13s\n",
      "740:\tlearn: 0.0003233\ttotal: 8.91s\tremaining: 3.12s\n",
      "741:\tlearn: 0.0003233\ttotal: 8.93s\tremaining: 3.1s\n",
      "742:\tlearn: 0.0003233\ttotal: 8.94s\tremaining: 3.09s\n",
      "743:\tlearn: 0.0003233\ttotal: 8.95s\tremaining: 3.08s\n",
      "744:\tlearn: 0.0003233\ttotal: 8.96s\tremaining: 3.07s\n",
      "745:\tlearn: 0.0003233\ttotal: 8.98s\tremaining: 3.06s\n",
      "746:\tlearn: 0.0003233\ttotal: 8.99s\tremaining: 3.04s\n",
      "747:\tlearn: 0.0003233\ttotal: 9.01s\tremaining: 3.03s\n",
      "748:\tlearn: 0.0003233\ttotal: 9.02s\tremaining: 3.02s\n",
      "749:\tlearn: 0.0003233\ttotal: 9.04s\tremaining: 3.01s\n",
      "750:\tlearn: 0.0003233\ttotal: 9.05s\tremaining: 3s\n",
      "751:\tlearn: 0.0003233\ttotal: 9.06s\tremaining: 2.99s\n",
      "752:\tlearn: 0.0003233\ttotal: 9.07s\tremaining: 2.98s\n",
      "753:\tlearn: 0.0003233\ttotal: 9.09s\tremaining: 2.96s\n",
      "754:\tlearn: 0.0003233\ttotal: 9.1s\tremaining: 2.95s\n",
      "755:\tlearn: 0.0003233\ttotal: 9.11s\tremaining: 2.94s\n",
      "756:\tlearn: 0.0003233\ttotal: 9.12s\tremaining: 2.93s\n",
      "757:\tlearn: 0.0003233\ttotal: 9.13s\tremaining: 2.92s\n",
      "758:\tlearn: 0.0003233\ttotal: 9.14s\tremaining: 2.9s\n",
      "759:\tlearn: 0.0003233\ttotal: 9.15s\tremaining: 2.89s\n",
      "760:\tlearn: 0.0003233\ttotal: 9.16s\tremaining: 2.88s\n",
      "761:\tlearn: 0.0003233\ttotal: 9.18s\tremaining: 2.87s\n",
      "762:\tlearn: 0.0003233\ttotal: 9.19s\tremaining: 2.85s\n",
      "763:\tlearn: 0.0003233\ttotal: 9.2s\tremaining: 2.84s\n",
      "764:\tlearn: 0.0003233\ttotal: 9.21s\tremaining: 2.83s\n",
      "765:\tlearn: 0.0003233\ttotal: 9.22s\tremaining: 2.82s\n",
      "766:\tlearn: 0.0003233\ttotal: 9.23s\tremaining: 2.8s\n",
      "767:\tlearn: 0.0003233\ttotal: 9.24s\tremaining: 2.79s\n",
      "768:\tlearn: 0.0003233\ttotal: 9.26s\tremaining: 2.78s\n",
      "769:\tlearn: 0.0003233\ttotal: 9.27s\tremaining: 2.77s\n",
      "770:\tlearn: 0.0003233\ttotal: 9.29s\tremaining: 2.76s\n",
      "771:\tlearn: 0.0003233\ttotal: 9.3s\tremaining: 2.75s\n",
      "772:\tlearn: 0.0003233\ttotal: 9.31s\tremaining: 2.73s\n",
      "773:\tlearn: 0.0003233\ttotal: 9.32s\tremaining: 2.72s\n",
      "774:\tlearn: 0.0003233\ttotal: 9.33s\tremaining: 2.71s\n",
      "775:\tlearn: 0.0003233\ttotal: 9.35s\tremaining: 2.7s\n",
      "776:\tlearn: 0.0003233\ttotal: 9.36s\tremaining: 2.69s\n",
      "777:\tlearn: 0.0003233\ttotal: 9.37s\tremaining: 2.67s\n",
      "778:\tlearn: 0.0003233\ttotal: 9.38s\tremaining: 2.66s\n",
      "779:\tlearn: 0.0003233\ttotal: 9.39s\tremaining: 2.65s\n",
      "780:\tlearn: 0.0003233\ttotal: 9.41s\tremaining: 2.64s\n",
      "781:\tlearn: 0.0003233\ttotal: 9.43s\tremaining: 2.63s\n",
      "782:\tlearn: 0.0003233\ttotal: 9.44s\tremaining: 2.62s\n",
      "783:\tlearn: 0.0003233\ttotal: 9.45s\tremaining: 2.6s\n",
      "784:\tlearn: 0.0003233\ttotal: 9.46s\tremaining: 2.59s\n",
      "785:\tlearn: 0.0003233\ttotal: 9.48s\tremaining: 2.58s\n",
      "786:\tlearn: 0.0003233\ttotal: 9.49s\tremaining: 2.57s\n",
      "787:\tlearn: 0.0003233\ttotal: 9.51s\tremaining: 2.56s\n",
      "788:\tlearn: 0.0003233\ttotal: 9.52s\tremaining: 2.54s\n",
      "789:\tlearn: 0.0003233\ttotal: 9.53s\tremaining: 2.53s\n",
      "790:\tlearn: 0.0003233\ttotal: 9.54s\tremaining: 2.52s\n",
      "791:\tlearn: 0.0003233\ttotal: 9.55s\tremaining: 2.51s\n",
      "792:\tlearn: 0.0003233\ttotal: 9.56s\tremaining: 2.5s\n",
      "793:\tlearn: 0.0003233\ttotal: 9.58s\tremaining: 2.48s\n",
      "794:\tlearn: 0.0003233\ttotal: 9.59s\tremaining: 2.47s\n",
      "795:\tlearn: 0.0003233\ttotal: 9.6s\tremaining: 2.46s\n",
      "796:\tlearn: 0.0003233\ttotal: 9.61s\tremaining: 2.45s\n",
      "797:\tlearn: 0.0003233\ttotal: 9.63s\tremaining: 2.44s\n",
      "798:\tlearn: 0.0003233\ttotal: 9.64s\tremaining: 2.42s\n",
      "799:\tlearn: 0.0003233\ttotal: 9.65s\tremaining: 2.41s\n",
      "800:\tlearn: 0.0003233\ttotal: 9.67s\tremaining: 2.4s\n",
      "801:\tlearn: 0.0003233\ttotal: 9.68s\tremaining: 2.39s\n",
      "802:\tlearn: 0.0003233\ttotal: 9.69s\tremaining: 2.38s\n",
      "803:\tlearn: 0.0003233\ttotal: 9.71s\tremaining: 2.37s\n",
      "804:\tlearn: 0.0003233\ttotal: 9.72s\tremaining: 2.35s\n",
      "805:\tlearn: 0.0003233\ttotal: 9.73s\tremaining: 2.34s\n",
      "806:\tlearn: 0.0003233\ttotal: 9.74s\tremaining: 2.33s\n",
      "807:\tlearn: 0.0003233\ttotal: 9.76s\tremaining: 2.32s\n",
      "808:\tlearn: 0.0003233\ttotal: 9.77s\tremaining: 2.31s\n",
      "809:\tlearn: 0.0003233\ttotal: 9.78s\tremaining: 2.29s\n",
      "810:\tlearn: 0.0003233\ttotal: 9.8s\tremaining: 2.28s\n",
      "811:\tlearn: 0.0003233\ttotal: 9.81s\tremaining: 2.27s\n",
      "812:\tlearn: 0.0003233\ttotal: 9.83s\tremaining: 2.26s\n",
      "813:\tlearn: 0.0003233\ttotal: 9.84s\tremaining: 2.25s\n",
      "814:\tlearn: 0.0003233\ttotal: 9.85s\tremaining: 2.24s\n",
      "815:\tlearn: 0.0003233\ttotal: 9.87s\tremaining: 2.23s\n",
      "816:\tlearn: 0.0003233\ttotal: 9.88s\tremaining: 2.21s\n",
      "817:\tlearn: 0.0003233\ttotal: 9.9s\tremaining: 2.2s\n",
      "818:\tlearn: 0.0003233\ttotal: 9.91s\tremaining: 2.19s\n",
      "819:\tlearn: 0.0003233\ttotal: 9.93s\tremaining: 2.18s\n",
      "820:\tlearn: 0.0003233\ttotal: 9.94s\tremaining: 2.17s\n",
      "821:\tlearn: 0.0003233\ttotal: 9.95s\tremaining: 2.15s\n",
      "822:\tlearn: 0.0003233\ttotal: 9.97s\tremaining: 2.14s\n",
      "823:\tlearn: 0.0003233\ttotal: 9.98s\tremaining: 2.13s\n",
      "824:\tlearn: 0.0003233\ttotal: 9.99s\tremaining: 2.12s\n",
      "825:\tlearn: 0.0003233\ttotal: 10s\tremaining: 2.11s\n",
      "826:\tlearn: 0.0003233\ttotal: 10s\tremaining: 2.1s\n",
      "827:\tlearn: 0.0003233\ttotal: 10s\tremaining: 2.08s\n",
      "828:\tlearn: 0.0003233\ttotal: 10s\tremaining: 2.07s\n",
      "829:\tlearn: 0.0003233\ttotal: 10.1s\tremaining: 2.06s\n",
      "830:\tlearn: 0.0003233\ttotal: 10.1s\tremaining: 2.05s\n",
      "831:\tlearn: 0.0003233\ttotal: 10.1s\tremaining: 2.04s\n",
      "832:\tlearn: 0.0003233\ttotal: 10.1s\tremaining: 2.02s\n",
      "833:\tlearn: 0.0003233\ttotal: 10.1s\tremaining: 2.01s\n",
      "834:\tlearn: 0.0003233\ttotal: 10.1s\tremaining: 2s\n",
      "835:\tlearn: 0.0003233\ttotal: 10.1s\tremaining: 1.99s\n",
      "836:\tlearn: 0.0003233\ttotal: 10.1s\tremaining: 1.98s\n",
      "837:\tlearn: 0.0003233\ttotal: 10.2s\tremaining: 1.96s\n",
      "838:\tlearn: 0.0003233\ttotal: 10.2s\tremaining: 1.95s\n",
      "839:\tlearn: 0.0003233\ttotal: 10.2s\tremaining: 1.94s\n",
      "840:\tlearn: 0.0003233\ttotal: 10.2s\tremaining: 1.93s\n",
      "841:\tlearn: 0.0003233\ttotal: 10.2s\tremaining: 1.92s\n",
      "842:\tlearn: 0.0003233\ttotal: 10.2s\tremaining: 1.91s\n",
      "843:\tlearn: 0.0003233\ttotal: 10.2s\tremaining: 1.89s\n",
      "844:\tlearn: 0.0003233\ttotal: 10.3s\tremaining: 1.88s\n",
      "845:\tlearn: 0.0003233\ttotal: 10.3s\tremaining: 1.87s\n",
      "846:\tlearn: 0.0003233\ttotal: 10.3s\tremaining: 1.86s\n",
      "847:\tlearn: 0.0003233\ttotal: 10.3s\tremaining: 1.85s\n",
      "848:\tlearn: 0.0003233\ttotal: 10.3s\tremaining: 1.83s\n",
      "849:\tlearn: 0.0003233\ttotal: 10.3s\tremaining: 1.82s\n",
      "850:\tlearn: 0.0003233\ttotal: 10.3s\tremaining: 1.81s\n",
      "851:\tlearn: 0.0003233\ttotal: 10.4s\tremaining: 1.8s\n",
      "852:\tlearn: 0.0003233\ttotal: 10.4s\tremaining: 1.79s\n",
      "853:\tlearn: 0.0003233\ttotal: 10.4s\tremaining: 1.77s\n",
      "854:\tlearn: 0.0003233\ttotal: 10.4s\tremaining: 1.76s\n",
      "855:\tlearn: 0.0003233\ttotal: 10.4s\tremaining: 1.75s\n",
      "856:\tlearn: 0.0003233\ttotal: 10.4s\tremaining: 1.74s\n",
      "857:\tlearn: 0.0003233\ttotal: 10.4s\tremaining: 1.73s\n",
      "858:\tlearn: 0.0003233\ttotal: 10.4s\tremaining: 1.71s\n",
      "859:\tlearn: 0.0003233\ttotal: 10.5s\tremaining: 1.7s\n",
      "860:\tlearn: 0.0003233\ttotal: 10.5s\tremaining: 1.69s\n",
      "861:\tlearn: 0.0003233\ttotal: 10.5s\tremaining: 1.68s\n",
      "862:\tlearn: 0.0003233\ttotal: 10.5s\tremaining: 1.67s\n",
      "863:\tlearn: 0.0003233\ttotal: 10.5s\tremaining: 1.65s\n",
      "864:\tlearn: 0.0003233\ttotal: 10.5s\tremaining: 1.64s\n",
      "865:\tlearn: 0.0003233\ttotal: 10.5s\tremaining: 1.63s\n",
      "866:\tlearn: 0.0003233\ttotal: 10.5s\tremaining: 1.62s\n",
      "867:\tlearn: 0.0003233\ttotal: 10.6s\tremaining: 1.6s\n",
      "868:\tlearn: 0.0003233\ttotal: 10.6s\tremaining: 1.59s\n",
      "869:\tlearn: 0.0003233\ttotal: 10.6s\tremaining: 1.58s\n",
      "870:\tlearn: 0.0003233\ttotal: 10.6s\tremaining: 1.57s\n",
      "871:\tlearn: 0.0003233\ttotal: 10.6s\tremaining: 1.56s\n",
      "872:\tlearn: 0.0003233\ttotal: 10.6s\tremaining: 1.54s\n",
      "873:\tlearn: 0.0003233\ttotal: 10.6s\tremaining: 1.53s\n",
      "874:\tlearn: 0.0003233\ttotal: 10.6s\tremaining: 1.52s\n",
      "875:\tlearn: 0.0003233\ttotal: 10.7s\tremaining: 1.51s\n",
      "876:\tlearn: 0.0003233\ttotal: 10.7s\tremaining: 1.5s\n",
      "877:\tlearn: 0.0003233\ttotal: 10.7s\tremaining: 1.49s\n",
      "878:\tlearn: 0.0003233\ttotal: 10.8s\tremaining: 1.48s\n",
      "879:\tlearn: 0.0003233\ttotal: 10.8s\tremaining: 1.47s\n",
      "880:\tlearn: 0.0003233\ttotal: 10.8s\tremaining: 1.46s\n",
      "881:\tlearn: 0.0003233\ttotal: 10.8s\tremaining: 1.44s\n",
      "882:\tlearn: 0.0003233\ttotal: 10.8s\tremaining: 1.43s\n",
      "883:\tlearn: 0.0003233\ttotal: 10.8s\tremaining: 1.42s\n",
      "884:\tlearn: 0.0003233\ttotal: 10.8s\tremaining: 1.41s\n",
      "885:\tlearn: 0.0003233\ttotal: 10.8s\tremaining: 1.39s\n",
      "886:\tlearn: 0.0003233\ttotal: 10.9s\tremaining: 1.38s\n",
      "887:\tlearn: 0.0003233\ttotal: 10.9s\tremaining: 1.37s\n",
      "888:\tlearn: 0.0003233\ttotal: 10.9s\tremaining: 1.36s\n",
      "889:\tlearn: 0.0003233\ttotal: 10.9s\tremaining: 1.34s\n",
      "890:\tlearn: 0.0003233\ttotal: 10.9s\tremaining: 1.33s\n",
      "891:\tlearn: 0.0003233\ttotal: 10.9s\tremaining: 1.32s\n",
      "892:\tlearn: 0.0003233\ttotal: 10.9s\tremaining: 1.31s\n",
      "893:\tlearn: 0.0003233\ttotal: 10.9s\tremaining: 1.3s\n",
      "894:\tlearn: 0.0003233\ttotal: 11s\tremaining: 1.28s\n",
      "895:\tlearn: 0.0003233\ttotal: 11s\tremaining: 1.27s\n",
      "896:\tlearn: 0.0003233\ttotal: 11s\tremaining: 1.26s\n",
      "897:\tlearn: 0.0003233\ttotal: 11s\tremaining: 1.25s\n",
      "898:\tlearn: 0.0003233\ttotal: 11s\tremaining: 1.24s\n",
      "899:\tlearn: 0.0003233\ttotal: 11s\tremaining: 1.23s\n",
      "900:\tlearn: 0.0003233\ttotal: 11s\tremaining: 1.21s\n",
      "901:\tlearn: 0.0003233\ttotal: 11.1s\tremaining: 1.2s\n",
      "902:\tlearn: 0.0003233\ttotal: 11.1s\tremaining: 1.19s\n",
      "903:\tlearn: 0.0003233\ttotal: 11.1s\tremaining: 1.18s\n",
      "904:\tlearn: 0.0003233\ttotal: 11.1s\tremaining: 1.17s\n",
      "905:\tlearn: 0.0003233\ttotal: 11.1s\tremaining: 1.15s\n",
      "906:\tlearn: 0.0003233\ttotal: 11.1s\tremaining: 1.14s\n",
      "907:\tlearn: 0.0003233\ttotal: 11.2s\tremaining: 1.13s\n",
      "908:\tlearn: 0.0003233\ttotal: 11.2s\tremaining: 1.12s\n",
      "909:\tlearn: 0.0003233\ttotal: 11.2s\tremaining: 1.1s\n",
      "910:\tlearn: 0.0003233\ttotal: 11.2s\tremaining: 1.09s\n",
      "911:\tlearn: 0.0003233\ttotal: 11.2s\tremaining: 1.08s\n",
      "912:\tlearn: 0.0003233\ttotal: 11.2s\tremaining: 1.07s\n",
      "913:\tlearn: 0.0003233\ttotal: 11.2s\tremaining: 1.06s\n",
      "914:\tlearn: 0.0003233\ttotal: 11.2s\tremaining: 1.04s\n",
      "915:\tlearn: 0.0003233\ttotal: 11.3s\tremaining: 1.03s\n",
      "916:\tlearn: 0.0003233\ttotal: 11.3s\tremaining: 1.02s\n",
      "917:\tlearn: 0.0003233\ttotal: 11.3s\tremaining: 1.01s\n",
      "918:\tlearn: 0.0003233\ttotal: 11.3s\tremaining: 996ms\n",
      "919:\tlearn: 0.0003233\ttotal: 11.3s\tremaining: 984ms\n",
      "920:\tlearn: 0.0003233\ttotal: 11.3s\tremaining: 972ms\n",
      "921:\tlearn: 0.0003233\ttotal: 11.3s\tremaining: 960ms\n",
      "922:\tlearn: 0.0003233\ttotal: 11.4s\tremaining: 948ms\n",
      "923:\tlearn: 0.0003233\ttotal: 11.4s\tremaining: 935ms\n",
      "924:\tlearn: 0.0003233\ttotal: 11.4s\tremaining: 923ms\n",
      "925:\tlearn: 0.0003233\ttotal: 11.4s\tremaining: 911ms\n",
      "926:\tlearn: 0.0003233\ttotal: 11.4s\tremaining: 899ms\n",
      "927:\tlearn: 0.0003233\ttotal: 11.4s\tremaining: 887ms\n",
      "928:\tlearn: 0.0003233\ttotal: 11.4s\tremaining: 875ms\n",
      "929:\tlearn: 0.0003233\ttotal: 11.5s\tremaining: 862ms\n",
      "930:\tlearn: 0.0003233\ttotal: 11.5s\tremaining: 850ms\n",
      "931:\tlearn: 0.0003233\ttotal: 11.5s\tremaining: 838ms\n",
      "932:\tlearn: 0.0003233\ttotal: 11.5s\tremaining: 825ms\n",
      "933:\tlearn: 0.0003233\ttotal: 11.5s\tremaining: 813ms\n",
      "934:\tlearn: 0.0003233\ttotal: 11.5s\tremaining: 801ms\n",
      "935:\tlearn: 0.0003233\ttotal: 11.5s\tremaining: 788ms\n",
      "936:\tlearn: 0.0003233\ttotal: 11.5s\tremaining: 776ms\n",
      "937:\tlearn: 0.0003233\ttotal: 11.6s\tremaining: 764ms\n",
      "938:\tlearn: 0.0003233\ttotal: 11.6s\tremaining: 751ms\n",
      "939:\tlearn: 0.0003233\ttotal: 11.6s\tremaining: 739ms\n",
      "940:\tlearn: 0.0003233\ttotal: 11.6s\tremaining: 726ms\n",
      "941:\tlearn: 0.0003233\ttotal: 11.6s\tremaining: 714ms\n",
      "942:\tlearn: 0.0003233\ttotal: 11.6s\tremaining: 702ms\n",
      "943:\tlearn: 0.0003233\ttotal: 11.6s\tremaining: 689ms\n",
      "944:\tlearn: 0.0003233\ttotal: 11.6s\tremaining: 677ms\n",
      "945:\tlearn: 0.0003233\ttotal: 11.6s\tremaining: 665ms\n",
      "946:\tlearn: 0.0003233\ttotal: 11.7s\tremaining: 652ms\n",
      "947:\tlearn: 0.0003233\ttotal: 11.7s\tremaining: 640ms\n",
      "948:\tlearn: 0.0003233\ttotal: 11.7s\tremaining: 628ms\n",
      "949:\tlearn: 0.0003233\ttotal: 11.7s\tremaining: 615ms\n",
      "950:\tlearn: 0.0003233\ttotal: 11.7s\tremaining: 603ms\n",
      "951:\tlearn: 0.0003233\ttotal: 11.7s\tremaining: 590ms\n",
      "952:\tlearn: 0.0003233\ttotal: 11.7s\tremaining: 578ms\n",
      "953:\tlearn: 0.0003233\ttotal: 11.7s\tremaining: 566ms\n",
      "954:\tlearn: 0.0003233\ttotal: 11.7s\tremaining: 553ms\n",
      "955:\tlearn: 0.0003233\ttotal: 11.8s\tremaining: 541ms\n",
      "956:\tlearn: 0.0003233\ttotal: 11.8s\tremaining: 529ms\n",
      "957:\tlearn: 0.0003233\ttotal: 11.8s\tremaining: 516ms\n",
      "958:\tlearn: 0.0003233\ttotal: 11.8s\tremaining: 504ms\n",
      "959:\tlearn: 0.0003233\ttotal: 11.8s\tremaining: 492ms\n",
      "960:\tlearn: 0.0003233\ttotal: 11.8s\tremaining: 479ms\n",
      "961:\tlearn: 0.0003233\ttotal: 11.8s\tremaining: 467ms\n",
      "962:\tlearn: 0.0003233\ttotal: 11.8s\tremaining: 455ms\n",
      "963:\tlearn: 0.0003233\ttotal: 11.9s\tremaining: 443ms\n",
      "964:\tlearn: 0.0003233\ttotal: 11.9s\tremaining: 430ms\n",
      "965:\tlearn: 0.0003233\ttotal: 11.9s\tremaining: 418ms\n",
      "966:\tlearn: 0.0003233\ttotal: 11.9s\tremaining: 406ms\n",
      "967:\tlearn: 0.0003233\ttotal: 11.9s\tremaining: 394ms\n",
      "968:\tlearn: 0.0003233\ttotal: 11.9s\tremaining: 381ms\n",
      "969:\tlearn: 0.0003233\ttotal: 11.9s\tremaining: 369ms\n",
      "970:\tlearn: 0.0003233\ttotal: 11.9s\tremaining: 356ms\n",
      "971:\tlearn: 0.0003233\ttotal: 11.9s\tremaining: 344ms\n",
      "972:\tlearn: 0.0003233\ttotal: 12s\tremaining: 332ms\n",
      "973:\tlearn: 0.0003233\ttotal: 12s\tremaining: 319ms\n",
      "974:\tlearn: 0.0003233\ttotal: 12s\tremaining: 307ms\n",
      "975:\tlearn: 0.0003233\ttotal: 12s\tremaining: 295ms\n",
      "976:\tlearn: 0.0003233\ttotal: 12s\tremaining: 283ms\n",
      "977:\tlearn: 0.0003233\ttotal: 12s\tremaining: 270ms\n",
      "978:\tlearn: 0.0003233\ttotal: 12s\tremaining: 258ms\n",
      "979:\tlearn: 0.0003233\ttotal: 12s\tremaining: 246ms\n",
      "980:\tlearn: 0.0003233\ttotal: 12.1s\tremaining: 233ms\n",
      "981:\tlearn: 0.0003233\ttotal: 12.1s\tremaining: 221ms\n",
      "982:\tlearn: 0.0003233\ttotal: 12.1s\tremaining: 209ms\n",
      "983:\tlearn: 0.0003233\ttotal: 12.1s\tremaining: 196ms\n",
      "984:\tlearn: 0.0003233\ttotal: 12.1s\tremaining: 184ms\n",
      "985:\tlearn: 0.0003233\ttotal: 12.1s\tremaining: 172ms\n",
      "986:\tlearn: 0.0003233\ttotal: 12.1s\tremaining: 160ms\n",
      "987:\tlearn: 0.0003233\ttotal: 12.1s\tremaining: 147ms\n",
      "988:\tlearn: 0.0003233\ttotal: 12.1s\tremaining: 135ms\n",
      "989:\tlearn: 0.0003233\ttotal: 12.1s\tremaining: 123ms\n",
      "990:\tlearn: 0.0003233\ttotal: 12.2s\tremaining: 110ms\n",
      "991:\tlearn: 0.0003233\ttotal: 12.2s\tremaining: 98.1ms\n",
      "992:\tlearn: 0.0003233\ttotal: 12.2s\tremaining: 85.9ms\n",
      "993:\tlearn: 0.0003233\ttotal: 12.2s\tremaining: 73.6ms\n",
      "994:\tlearn: 0.0003233\ttotal: 12.2s\tremaining: 61.3ms\n",
      "995:\tlearn: 0.0003233\ttotal: 12.2s\tremaining: 49.1ms\n",
      "996:\tlearn: 0.0003233\ttotal: 12.2s\tremaining: 36.8ms\n",
      "997:\tlearn: 0.0003233\ttotal: 12.2s\tremaining: 24.5ms\n",
      "998:\tlearn: 0.0003233\ttotal: 12.3s\tremaining: 12.3ms\n",
      "999:\tlearn: 0.0003233\ttotal: 12.3s\tremaining: 0us\n",
      "Test score:1.00\n",
      "Train score:1.00\n",
      "\n",
      "Classifcation report:\n",
      "               precision    recall  f1-score   support\n",
      "\n",
      "           0       1.00      1.00      1.00      2833\n",
      "           1       0.83      1.00      0.91         5\n",
      "\n",
      "    accuracy                           1.00      2838\n",
      "   macro avg       0.92      1.00      0.95      2838\n",
      "weighted avg       1.00      1.00      1.00      2838\n",
      "\n",
      "Confusion matrix:\n",
      " [[2832    1]\n",
      " [   0    5]]\n",
      "\n",
      "\n",
      "Accuracy :1.00\n",
      "AUC : 1.00\n",
      "Precision : 0.83\n",
      "Recall : 1.00\n",
      "F1 : 0.91\n",
      "\n",
      "\n"
     ]
    }
   ],
   "source": [
    "#instantiating  and fitting CatBoost Model\n",
    "ctb= CatBoostClassifier()\n",
    "ctb.fit(X_train_ros,y_train_ros)\n",
    "ctb_pred_ros=ctb.predict(X_test)\n",
    "\n",
    "#checking for the test and train accuracies\n",
    "print(\"Test score:{:.2f}\".format(ctb.score(X_test,y_test)))\n",
    "print(\"Train score:{:.2f}\\n\".format(ctb.score(X_train_ros,y_train_ros)))\n",
    "\n",
    "# Obtain the results from the classification report and confusion matrix \n",
    "print('Classifcation report:\\n', classification_report(y_test, ctb_pred_ros))\n",
    "print(\"Confusion matrix:\\n\",confusion_matrix(y_true=y_test, y_pred=ctb_pred_ros))\n",
    "\n",
    "print(\"\\n\")\n",
    "# Obtain metrics\n",
    "print('Accuracy :{0:0.2f}'.format(accuracy_score(ctb_pred_ros , y_test)))\n",
    "print('AUC : {0:0.2f}'.format(roc_auc_score(y_test , ctb_pred_ros)))\n",
    "print('Precision : {0:0.2f}'.format(precision_score(y_test , ctb_pred_ros)))\n",
    "print('Recall : {0:0.2f}'.format(recall_score(y_test , ctb_pred_ros)))\n",
    "print('F1 : {0:0.2f}'.format(f1_score(y_test , ctb_pred_ros)))\n",
    "print(\"\\n\")\n"
   ]
  },
  {
   "cell_type": "markdown",
   "id": "HsL1IkUhoAFY",
   "metadata": {
    "id": "HsL1IkUhoAFY"
   },
   "source": [
    "## Model Selection"
   ]
  },
  {
   "cell_type": "markdown",
   "id": "2t-52NEJpcri",
   "metadata": {
    "id": "2t-52NEJpcri"
   },
   "source": [
    "### Creating a DataFrame with Performance measures"
   ]
  },
  {
   "cell_type": "markdown",
   "id": "qr-JCMIa6t2q",
   "metadata": {
    "id": "qr-JCMIa6t2q"
   },
   "source": [
    "**Accuracy Scores**"
   ]
  },
  {
   "cell_type": "code",
   "execution_count": 69,
   "id": "GCP-G5vE6cuH",
   "metadata": {
    "id": "GCP-G5vE6cuH"
   },
   "outputs": [],
   "source": [
    "#Accuracy Scores\n",
    "knn_ros_acc = accuracy_score(knn_y_pred_ros , y_test)\n",
    "logit_ros_acc = accuracy_score(logit_y_pred_ros , y_test)\n",
    "svc_ros_acc = accuracy_score(svc_y_pred_ros , y_test)\n",
    "tree_ros_acc = accuracy_score(tree_y_pred_ros , y_test)\n",
    "rfc_ros_acc = accuracy_score(rfc_y_pred_ros , y_test)\n",
    "bc_ros_acc = accuracy_score(bc_y_pred_ros , y_test)\n",
    "obb_ros_acc = accuracy_score(y_pred_oob_ros , y_test)\n",
    "adb_ros_acc = accuracy_score(adb_y_pred_ros , y_test)\n",
    "gbc_ros_acc = accuracy_score(gbc_y_pred_ros , y_test)\n",
    "vc_ros_acc = accuracy_score(vc_y_pred_ros , y_test)\n",
    "xgb_ros_acc = accuracy_score(xgb_pred_ros , y_test)\n",
    "ctb_ros_acc = accuracy_score(ctb_pred_ros,y_test)"
   ]
  },
  {
   "cell_type": "markdown",
   "id": "5V9YPQn26oWS",
   "metadata": {
    "id": "5V9YPQn26oWS"
   },
   "source": [
    "**Precision Scores**"
   ]
  },
  {
   "cell_type": "code",
   "execution_count": 70,
   "id": "cetXBOAVxWaz",
   "metadata": {
    "id": "cetXBOAVxWaz"
   },
   "outputs": [],
   "source": [
    "#Accuracy Scores\n",
    "knn_ros_pre = precision_score(y_test, knn_y_pred_ros)\n",
    "logit_ros_pre = precision_score(y_test, logit_y_pred_ros)\n",
    "svc_ros_pre = precision_score(y_test, svc_y_pred_ros)\n",
    "tree_ros_pre = precision_score(y_test, tree_y_pred_ros)\n",
    "rfc_ros_pre = precision_score(y_test, rfc_y_pred_ros)\n",
    "bc_ros_pre = precision_score(y_test, bc_y_pred_ros)\n",
    "obb_ros_pre = precision_score(y_test, y_pred_oob_ros)\n",
    "adb_ros_pre = precision_score(y_test, adb_y_pred_ros)\n",
    "gbc_ros_pre = precision_score(y_test, gbc_y_pred_ros)\n",
    "vc_ros_pre = precision_score(y_test, vc_y_pred_ros)\n",
    "xgb_ros_pre = precision_score(y_test, xgb_pred_ros)\n",
    "ctb_ros_pre =precision_score(y_test, ctb_pred_ros)"
   ]
  },
  {
   "cell_type": "markdown",
   "id": "KFrmQr-A-mpC",
   "metadata": {
    "id": "KFrmQr-A-mpC"
   },
   "source": [
    "**Recall Scores**"
   ]
  },
  {
   "cell_type": "code",
   "execution_count": 71,
   "id": "qKDT8QCL-bld",
   "metadata": {
    "id": "qKDT8QCL-bld"
   },
   "outputs": [],
   "source": [
    " #Recall Scores\n",
    "knn_ros_rcc = recall_score(y_test, knn_y_pred_ros)\n",
    "logit_ros_rcc = recall_score(y_test, logit_y_pred_ros)\n",
    "svc_ros_rcc = recall_score(y_test, svc_y_pred_ros)\n",
    "tree_ros_rcc = recall_score(y_test, tree_y_pred_ros)\n",
    "rfc_ros_rcc = recall_score(y_test, rfc_y_pred_ros)\n",
    "bc_ros_rcc = recall_score(y_test, bc_y_pred_ros)\n",
    "obb_ros_rcc = recall_score(y_test, y_pred_oob_ros)\n",
    "adb_ros_rcc = recall_score(y_test, adb_y_pred_ros)\n",
    "gbc_ros_rcc = recall_score(y_test, gbc_y_pred_ros)\n",
    "vc_ros_rcc = recall_score(y_test, vc_y_pred_ros)\n",
    "xgb_ros_rcc = recall_score(y_test, xgb_pred_ros)\n",
    "ctb_ros_rcc = recall_score(y_test, ctb_pred_ros)\n"
   ]
  },
  {
   "cell_type": "markdown",
   "id": "KY02Jb6-CbLi",
   "metadata": {
    "id": "KY02Jb6-CbLi"
   },
   "source": [
    "**F1 Scores**"
   ]
  },
  {
   "cell_type": "code",
   "execution_count": 72,
   "id": "uQW8_KzOCZ6M",
   "metadata": {
    "id": "uQW8_KzOCZ6M"
   },
   "outputs": [],
   "source": [
    "#Recall Scores\n",
    "knn_ros_f1 = f1_score(y_test, knn_y_pred_ros)\n",
    "logit_ros_f1 = f1_score(y_test, logit_y_pred_ros)\n",
    "svc_ros_f1 = f1_score(y_test, svc_y_pred_ros)\n",
    "tree_ros_f1 = f1_score(y_test, tree_y_pred_ros)\n",
    "rfc_ros_f1 = f1_score(y_test, rfc_y_pred_ros)\n",
    "bc_ros_f1 = f1_score(y_test, bc_y_pred_ros)\n",
    "obb_ros_f1 = f1_score(y_test, y_pred_oob_ros)\n",
    "adb_ros_f1 = f1_score(y_test, adb_y_pred_ros)\n",
    "gbc_ros_f1 = f1_score(y_test, gbc_y_pred_ros)\n",
    "vc_ros_f1 = f1_score(y_test, vc_y_pred_ros)\n",
    "xgb_ros_f1 = f1_score(y_test, xgb_pred_ros)\n",
    "ctb_ros_f1 = f1_score(y_test, ctb_pred_ros)"
   ]
  },
  {
   "cell_type": "code",
   "execution_count": 73,
   "id": "s3qccAJ1oIvX",
   "metadata": {
    "id": "s3qccAJ1oIvX"
   },
   "outputs": [],
   "source": [
    "#creating the list for models\n",
    "Model = ['KNN', 'Logit', 'SVC', 'Decision Tree','Random Forest', 'Bagging', 'OOB', \n",
    "         'AdaBoost','Gradient Boost','Voting', 'XGBOOST','CATBOOST']\n",
    "\n",
    "Accuracy_Score = [knn_ros_acc, logit_ros_acc, svc_ros_acc, tree_ros_acc, rfc_ros_acc, bc_ros_acc,\n",
    "                 obb_ros_acc, adb_ros_acc, gbc_ros_acc, vc_ros_acc, xgb_ros_acc,ctb_ros_acc]\n",
    "\n",
    "Precision_Score = [knn_ros_pre, logit_ros_pre, svc_ros_pre, tree_ros_pre, rfc_ros_pre, bc_ros_pre,\n",
    "                 obb_ros_pre, adb_ros_pre, gbc_ros_pre, vc_ros_pre, xgb_ros_pre,ctb_ros_pre]\n",
    "\n",
    "Recall_Score = [knn_ros_rcc, logit_ros_rcc, svc_ros_rcc,tree_ros_rcc, rfc_ros_rcc, bc_ros_rcc,\n",
    "                 obb_ros_rcc, adb_ros_rcc, gbc_ros_rcc, vc_ros_rcc, xgb_ros_rcc,ctb_ros_rcc] \n",
    "\n",
    "F1_Score = [knn_ros_f1, logit_ros_f1, svc_ros_f1, tree_ros_f1, rfc_ros_f1, bc_ros_f1,\n",
    "                 obb_ros_f1, adb_ros_f1, gbc_ros_f1,vc_ros_f1, xgb_ros_f1,ctb_ros_f1] "
   ]
  },
  {
   "cell_type": "code",
   "execution_count": 74,
   "id": "_5Utbi8yybBG",
   "metadata": {
    "colab": {
     "base_uri": "https://localhost:8080/",
     "height": 457
    },
    "id": "_5Utbi8yybBG",
    "outputId": "92f69cd9-92d0-47e6-f223-1fa06e25eae9"
   },
   "outputs": [
    {
     "data": {
      "text/html": [
       "<div>\n",
       "<style scoped>\n",
       "    .dataframe tbody tr th:only-of-type {\n",
       "        vertical-align: middle;\n",
       "    }\n",
       "\n",
       "    .dataframe tbody tr th {\n",
       "        vertical-align: top;\n",
       "    }\n",
       "\n",
       "    .dataframe thead th {\n",
       "        text-align: right;\n",
       "    }\n",
       "</style>\n",
       "<table border=\"1\" class=\"dataframe\">\n",
       "  <thead>\n",
       "    <tr style=\"text-align: right;\">\n",
       "      <th></th>\n",
       "      <th>Accuracy_Score</th>\n",
       "      <th>Precision_Score</th>\n",
       "      <th>Recall_Score</th>\n",
       "      <th>F1_Score</th>\n",
       "    </tr>\n",
       "    <tr>\n",
       "      <th>Model</th>\n",
       "      <th></th>\n",
       "      <th></th>\n",
       "      <th></th>\n",
       "      <th></th>\n",
       "    </tr>\n",
       "  </thead>\n",
       "  <tbody>\n",
       "    <tr>\n",
       "      <th>KNN</th>\n",
       "      <td>0.998238</td>\n",
       "      <td>0.500000</td>\n",
       "      <td>0.6</td>\n",
       "      <td>0.545455</td>\n",
       "    </tr>\n",
       "    <tr>\n",
       "      <th>Logit</th>\n",
       "      <td>0.997886</td>\n",
       "      <td>0.454545</td>\n",
       "      <td>1.0</td>\n",
       "      <td>0.625000</td>\n",
       "    </tr>\n",
       "    <tr>\n",
       "      <th>SVC</th>\n",
       "      <td>0.998238</td>\n",
       "      <td>0.000000</td>\n",
       "      <td>0.0</td>\n",
       "      <td>0.000000</td>\n",
       "    </tr>\n",
       "    <tr>\n",
       "      <th>Decision Tree</th>\n",
       "      <td>0.977449</td>\n",
       "      <td>0.072464</td>\n",
       "      <td>1.0</td>\n",
       "      <td>0.135135</td>\n",
       "    </tr>\n",
       "    <tr>\n",
       "      <th>Random Forest</th>\n",
       "      <td>0.999648</td>\n",
       "      <td>0.833333</td>\n",
       "      <td>1.0</td>\n",
       "      <td>0.909091</td>\n",
       "    </tr>\n",
       "    <tr>\n",
       "      <th>Bagging</th>\n",
       "      <td>0.998943</td>\n",
       "      <td>0.666667</td>\n",
       "      <td>0.8</td>\n",
       "      <td>0.727273</td>\n",
       "    </tr>\n",
       "    <tr>\n",
       "      <th>OOB</th>\n",
       "      <td>0.998943</td>\n",
       "      <td>0.666667</td>\n",
       "      <td>0.8</td>\n",
       "      <td>0.727273</td>\n",
       "    </tr>\n",
       "    <tr>\n",
       "      <th>AdaBoost</th>\n",
       "      <td>0.998943</td>\n",
       "      <td>0.750000</td>\n",
       "      <td>0.6</td>\n",
       "      <td>0.666667</td>\n",
       "    </tr>\n",
       "    <tr>\n",
       "      <th>Gradient Boost</th>\n",
       "      <td>0.998943</td>\n",
       "      <td>0.625000</td>\n",
       "      <td>1.0</td>\n",
       "      <td>0.769231</td>\n",
       "    </tr>\n",
       "    <tr>\n",
       "      <th>Voting</th>\n",
       "      <td>0.999295</td>\n",
       "      <td>0.800000</td>\n",
       "      <td>0.8</td>\n",
       "      <td>0.800000</td>\n",
       "    </tr>\n",
       "    <tr>\n",
       "      <th>XGBOOST</th>\n",
       "      <td>0.999648</td>\n",
       "      <td>0.833333</td>\n",
       "      <td>1.0</td>\n",
       "      <td>0.909091</td>\n",
       "    </tr>\n",
       "    <tr>\n",
       "      <th>CATBOOST</th>\n",
       "      <td>0.999648</td>\n",
       "      <td>0.833333</td>\n",
       "      <td>1.0</td>\n",
       "      <td>0.909091</td>\n",
       "    </tr>\n",
       "  </tbody>\n",
       "</table>\n",
       "</div>"
      ],
      "text/plain": [
       "                Accuracy_Score  Precision_Score  Recall_Score  F1_Score\n",
       "Model                                                                  \n",
       "KNN                   0.998238         0.500000           0.6  0.545455\n",
       "Logit                 0.997886         0.454545           1.0  0.625000\n",
       "SVC                   0.998238         0.000000           0.0  0.000000\n",
       "Decision Tree         0.977449         0.072464           1.0  0.135135\n",
       "Random Forest         0.999648         0.833333           1.0  0.909091\n",
       "Bagging               0.998943         0.666667           0.8  0.727273\n",
       "OOB                   0.998943         0.666667           0.8  0.727273\n",
       "AdaBoost              0.998943         0.750000           0.6  0.666667\n",
       "Gradient Boost        0.998943         0.625000           1.0  0.769231\n",
       "Voting                0.999295         0.800000           0.8  0.800000\n",
       "XGBOOST               0.999648         0.833333           1.0  0.909091\n",
       "CATBOOST              0.999648         0.833333           1.0  0.909091"
      ]
     },
     "execution_count": 74,
     "metadata": {},
     "output_type": "execute_result"
    }
   ],
   "source": [
    "#Creating the DataFrame\n",
    "\n",
    "performance = pd.DataFrame({'Model':Model,\n",
    "                                        'Accuracy_Score':Accuracy_Score,\n",
    "                                        'Precision_Score':Precision_Score,\n",
    "                                        'Recall_Score':Recall_Score,\n",
    "                                        'F1_Score':F1_Score})\n",
    "performance.set_index('Model')"
   ]
  },
  {
   "cell_type": "code",
   "execution_count": 75,
   "id": "JWaudgPDyQZ_",
   "metadata": {
    "id": "JWaudgPDyQZ_"
   },
   "outputs": [],
   "source": [
    "#Sorting by f1_score\n",
    "performance = performance.sort_values(['F1_Score','Recall_Score'],ascending=[False,False])\n",
    "performance = performance.reset_index(drop=True)"
   ]
  },
  {
   "cell_type": "code",
   "execution_count": 76,
   "id": "h3C5SKL4K9Vb",
   "metadata": {
    "colab": {
     "base_uri": "https://localhost:8080/",
     "height": 426
    },
    "id": "h3C5SKL4K9Vb",
    "outputId": "fe46812a-c06c-49a8-87dc-96c6906f47fb"
   },
   "outputs": [
    {
     "data": {
      "text/html": [
       "<div>\n",
       "<style scoped>\n",
       "    .dataframe tbody tr th:only-of-type {\n",
       "        vertical-align: middle;\n",
       "    }\n",
       "\n",
       "    .dataframe tbody tr th {\n",
       "        vertical-align: top;\n",
       "    }\n",
       "\n",
       "    .dataframe thead th {\n",
       "        text-align: right;\n",
       "    }\n",
       "</style>\n",
       "<table border=\"1\" class=\"dataframe\">\n",
       "  <thead>\n",
       "    <tr style=\"text-align: right;\">\n",
       "      <th></th>\n",
       "      <th>Model</th>\n",
       "      <th>Accuracy_Score</th>\n",
       "      <th>Precision_Score</th>\n",
       "      <th>Recall_Score</th>\n",
       "      <th>F1_Score</th>\n",
       "    </tr>\n",
       "  </thead>\n",
       "  <tbody>\n",
       "    <tr>\n",
       "      <th>0</th>\n",
       "      <td>Random Forest</td>\n",
       "      <td>0.999648</td>\n",
       "      <td>0.833333</td>\n",
       "      <td>1.0</td>\n",
       "      <td>0.909091</td>\n",
       "    </tr>\n",
       "    <tr>\n",
       "      <th>1</th>\n",
       "      <td>XGBOOST</td>\n",
       "      <td>0.999648</td>\n",
       "      <td>0.833333</td>\n",
       "      <td>1.0</td>\n",
       "      <td>0.909091</td>\n",
       "    </tr>\n",
       "    <tr>\n",
       "      <th>2</th>\n",
       "      <td>CATBOOST</td>\n",
       "      <td>0.999648</td>\n",
       "      <td>0.833333</td>\n",
       "      <td>1.0</td>\n",
       "      <td>0.909091</td>\n",
       "    </tr>\n",
       "    <tr>\n",
       "      <th>3</th>\n",
       "      <td>Voting</td>\n",
       "      <td>0.999295</td>\n",
       "      <td>0.800000</td>\n",
       "      <td>0.8</td>\n",
       "      <td>0.800000</td>\n",
       "    </tr>\n",
       "    <tr>\n",
       "      <th>4</th>\n",
       "      <td>Gradient Boost</td>\n",
       "      <td>0.998943</td>\n",
       "      <td>0.625000</td>\n",
       "      <td>1.0</td>\n",
       "      <td>0.769231</td>\n",
       "    </tr>\n",
       "    <tr>\n",
       "      <th>5</th>\n",
       "      <td>Bagging</td>\n",
       "      <td>0.998943</td>\n",
       "      <td>0.666667</td>\n",
       "      <td>0.8</td>\n",
       "      <td>0.727273</td>\n",
       "    </tr>\n",
       "    <tr>\n",
       "      <th>6</th>\n",
       "      <td>OOB</td>\n",
       "      <td>0.998943</td>\n",
       "      <td>0.666667</td>\n",
       "      <td>0.8</td>\n",
       "      <td>0.727273</td>\n",
       "    </tr>\n",
       "    <tr>\n",
       "      <th>7</th>\n",
       "      <td>AdaBoost</td>\n",
       "      <td>0.998943</td>\n",
       "      <td>0.750000</td>\n",
       "      <td>0.6</td>\n",
       "      <td>0.666667</td>\n",
       "    </tr>\n",
       "    <tr>\n",
       "      <th>8</th>\n",
       "      <td>Logit</td>\n",
       "      <td>0.997886</td>\n",
       "      <td>0.454545</td>\n",
       "      <td>1.0</td>\n",
       "      <td>0.625000</td>\n",
       "    </tr>\n",
       "    <tr>\n",
       "      <th>9</th>\n",
       "      <td>KNN</td>\n",
       "      <td>0.998238</td>\n",
       "      <td>0.500000</td>\n",
       "      <td>0.6</td>\n",
       "      <td>0.545455</td>\n",
       "    </tr>\n",
       "    <tr>\n",
       "      <th>10</th>\n",
       "      <td>Decision Tree</td>\n",
       "      <td>0.977449</td>\n",
       "      <td>0.072464</td>\n",
       "      <td>1.0</td>\n",
       "      <td>0.135135</td>\n",
       "    </tr>\n",
       "    <tr>\n",
       "      <th>11</th>\n",
       "      <td>SVC</td>\n",
       "      <td>0.998238</td>\n",
       "      <td>0.000000</td>\n",
       "      <td>0.0</td>\n",
       "      <td>0.000000</td>\n",
       "    </tr>\n",
       "  </tbody>\n",
       "</table>\n",
       "</div>"
      ],
      "text/plain": [
       "             Model  Accuracy_Score  Precision_Score  Recall_Score  F1_Score\n",
       "0    Random Forest        0.999648         0.833333           1.0  0.909091\n",
       "1          XGBOOST        0.999648         0.833333           1.0  0.909091\n",
       "2         CATBOOST        0.999648         0.833333           1.0  0.909091\n",
       "3           Voting        0.999295         0.800000           0.8  0.800000\n",
       "4   Gradient Boost        0.998943         0.625000           1.0  0.769231\n",
       "5          Bagging        0.998943         0.666667           0.8  0.727273\n",
       "6              OOB        0.998943         0.666667           0.8  0.727273\n",
       "7         AdaBoost        0.998943         0.750000           0.6  0.666667\n",
       "8            Logit        0.997886         0.454545           1.0  0.625000\n",
       "9              KNN        0.998238         0.500000           0.6  0.545455\n",
       "10   Decision Tree        0.977449         0.072464           1.0  0.135135\n",
       "11             SVC        0.998238         0.000000           0.0  0.000000"
      ]
     },
     "execution_count": 76,
     "metadata": {},
     "output_type": "execute_result"
    }
   ],
   "source": [
    "performance"
   ]
  },
  {
   "cell_type": "code",
   "execution_count": 77,
   "id": "kMb1oypfdDTO",
   "metadata": {
    "colab": {
     "base_uri": "https://localhost:8080/",
     "height": 335
    },
    "id": "kMb1oypfdDTO",
    "outputId": "0d2b11ec-eb6e-46a9-e7fd-d9ef556d748d"
   },
   "outputs": [
    {
     "data": {
      "image/png": "[encoded data removed]",
      "text/plain": [
       "<Figure size 720x360 with 1 Axes>"
      ]
     },
     "metadata": {
      "needs_background": "light"
     },
     "output_type": "display_data"
    }
   ],
   "source": [
    "plt.figure(figsize=(10,5))\n",
    "ax = sns.barplot(y=\"Model\", x=\"F1_Score\", data = performance, color = \"b\", alpha = 0.4)\n",
    "sns.despine(top=True, right=True, left=False, bottom=True)\n",
    "for rect in ax.patches:\n",
    "    ax.text (rect.get_width(), rect.get_y() + rect.get_height() / 2,\"%.2f\"% rect.get_width(), weight='bold',ha = 'left', va = 'center')\n",
    "plt.show()"
   ]
  },
  {
   "cell_type": "markdown",
   "id": "v-Hviuzs-vkS",
   "metadata": {
    "id": "v-Hviuzs-vkS"
   },
   "source": [
    "### ROC Curve"
   ]
  },
  {
   "cell_type": "code",
   "execution_count": 78,
   "id": "hjjRunnuPLa0",
   "metadata": {
    "id": "hjjRunnuPLa0"
   },
   "outputs": [],
   "source": [
    "# roc curve for models\n",
    "fpr1, tpr1, thresh1 = roc_curve(y_test, knn_y_pred_ros)\n",
    "fpr2, tpr2, thresh2 = roc_curve(y_test, logit_y_pred_ros)\n",
    "fpr3, tpr3, thresh3 = roc_curve(y_test, svc_y_pred_ros)\n",
    "fpr4, tpr4, thresh4 = roc_curve(y_test, tree_y_pred_ros)\n",
    "fpr5, tpr5, thresh5 = roc_curve(y_test, rfc_y_pred_ros)\n",
    "fpr6, tpr6, thresh6 = roc_curve(y_test, bc_y_pred_ros)\n",
    "fpr7, tpr7, thresh7 = roc_curve(y_test, adb_y_pred_ros)\n",
    "fpr8, tpr8, thresh8 = roc_curve(y_test, gbc_y_pred_ros)\n",
    "fpr9, tpr9, thresh9 = roc_curve(y_test, xgb_pred_ros)\n",
    "fpr10, tpr10, thresh10 = roc_curve(y_test, ctb_pred_ros)\n",
    "\n",
    "random_probs = [0 for i in range(len(y_test))]\n",
    "p_fpr, p_tpr, _ = roc_curve(y_test, random_probs, pos_label=1)"
   ]
  },
  {
   "cell_type": "code",
   "execution_count": 79,
   "id": "2nN9u0VjPNVS",
   "metadata": {
    "colab": {
     "base_uri": "https://localhost:8080/",
     "height": 518
    },
    "id": "2nN9u0VjPNVS",
    "outputId": "1123d93a-c187-4b08-80d9-cac9ae0a4a04"
   },
   "outputs": [
    {
     "data": {
      "image/png": "[encoded data removed]",
      "text/plain": [
       "<Figure size 864x576 with 1 Axes>"
      ]
     },
     "metadata": {},
     "output_type": "display_data"
    }
   ],
   "source": [
    "plt.style.use('seaborn')\n",
    "plt.figure(figsize=(12, 8))\n",
    "# plot roc curves\n",
    "plt.plot(fpr1, tpr1, linestyle='--',color='red', label='K-Nearest Neighbors')\n",
    "plt.plot(fpr2, tpr2, linestyle='--',color='orange', label='Logistic Regression')\n",
    "plt.plot(fpr3, tpr3, linestyle='--',color='black', label='SVC')\n",
    "plt.plot(fpr4, tpr4, linestyle='--',color='saddlebrown', label='Random Forest')\n",
    "plt.plot(fpr5, tpr5, linestyle='--',color='magenta', label='Decision Tree')\n",
    "plt.plot(fpr6, tpr6, linestyle='--',color='green', label='Bagging Classifier')\n",
    "plt.plot(fpr7, tpr7, linestyle='--',color='cyan', label='AdaBoost')\n",
    "plt.plot(fpr8, tpr8, linestyle='--',color='pink', label='Gradient Boost')\n",
    "plt.plot(fpr9, tpr9, linestyle='--',color='peru', label='XGBoost')\n",
    "plt.plot(fpr10, tpr10, linestyle='--',color='hotpink', label='CatBoost')\n",
    "plt.plot(p_fpr, p_tpr, color='blue')\n",
    "\n",
    "\n",
    "\n",
    "\n",
    "# title\n",
    "plt.title('ROC curve',fontdict={'fontsize':20})\n",
    "# x label\n",
    "plt.xlabel('False Positive Rate')\n",
    "# y label\n",
    "plt.ylabel('True Positive rate')\n",
    "\n",
    "plt.legend(loc='best')\n",
    "plt.savefig('ROC',dpi=300)\n",
    "plt.show();"
   ]
  },
  {
   "cell_type": "markdown",
   "id": "4VHVDoKg5XD4",
   "metadata": {
    "id": "4VHVDoKg5XD4"
   },
   "source": [
    "### **Best Model**\n",
    "\n",
    "After training each of the models, these are the final results. The scores for XGBOOST, CATBOOST and the Random Forest models are very promising for our dataset! Each model has a 100% recall scorce and high F1 score, which is exactly what we’re looking for. This means wthe models capture more fraudulent transactions, but also flag some normal transactions as fraudulent.\n",
    "\n",
    "From the ROC curve above, we can see that CATBOOST has the highest True Positive Rate. **Therefore, CatBoost is our final model, as this give highest F1 score of 90.91% and AUC = 1%.**"
   ]
  },
  {
   "cell_type": "markdown",
   "id": "fsr_PBKCWoYT",
   "metadata": {
    "id": "fsr_PBKCWoYT"
   },
   "source": [
    "## **Feature Importance**"
   ]
  },
  {
   "cell_type": "code",
   "execution_count": 80,
   "id": "-qbfZWhcJNdT",
   "metadata": {
    "colab": {
     "base_uri": "https://localhost:8080/"
    },
    "id": "-qbfZWhcJNdT",
    "outputId": "cbfe40f6-af12-4895-c235-5d42150d37fd"
   },
   "outputs": [
    {
     "data": {
      "text/plain": [
       "array([1.15585122e+00, 4.23461920e-01, 2.98485001e-01, 1.48007975e+00,\n",
       "       7.90901560e+00, 3.04881828e-03, 1.45598514e-01, 4.41466865e+00,\n",
       "       2.55680355e-01, 1.26523086e+00, 1.63406106e+00, 5.77537503e+00,\n",
       "       1.15834074e+01, 5.96516047e-01, 4.37552439e+01, 6.98855667e-01,\n",
       "       2.43810929e+00, 8.91175272e-01, 3.51126933e-01, 6.62708454e-02,\n",
       "       4.89892348e-01, 8.47403418e-01, 1.41330679e-01, 1.16946075e-06,\n",
       "       6.02993379e-01, 2.69007583e-01, 2.21082068e-01, 6.78041596e-01,\n",
       "       1.13512704e+01, 2.57715268e-01])"
      ]
     },
     "execution_count": 80,
     "metadata": {},
     "output_type": "execute_result"
    }
   ],
   "source": [
    "ctb.feature_importances_"
   ]
  },
  {
   "cell_type": "code",
   "execution_count": 81,
   "id": "YBH32SW6VVUz",
   "metadata": {
    "id": "YBH32SW6VVUz"
   },
   "outputs": [],
   "source": [
    "feature_importances = pd.DataFrame({\"Features\":X_train_ros.columns,\"Importance\":ctb.feature_importances_})"
   ]
  },
  {
   "cell_type": "code",
   "execution_count": 82,
   "id": "9ZV7A57pY0Y4",
   "metadata": {
    "id": "9ZV7A57pY0Y4"
   },
   "outputs": [],
   "source": [
    "feature_importances = feature_importances.sort_values(by = 'Importance',ascending = False)"
   ]
  },
  {
   "cell_type": "code",
   "execution_count": 83,
   "id": "EDCSgOdFZLfp",
   "metadata": {
    "colab": {
     "base_uri": "https://localhost:8080/",
     "height": 606
    },
    "id": "EDCSgOdFZLfp",
    "outputId": "d029f0cd-9972-4536-942f-93f2c7f5fa88"
   },
   "outputs": [
    {
     "data": {
      "image/png": "[encoded data removed]",
      "text/plain": [
       "<Figure size 720x720 with 1 Axes>"
      ]
     },
     "metadata": {},
     "output_type": "display_data"
    }
   ],
   "source": [
    "plt.figure(figsize=(10,10))\n",
    "ax = sns.barplot(x='Importance',y='Features',data = feature_importances, color = 'g',alpha = 0.4)\n",
    "sns.despine(top=True, right=True, left=False, bottom=True)\n",
    "\n",
    "for rect in ax.patches:\n",
    "    ax.text (rect.get_width(), rect.get_y() + rect.get_height() / 2,\"%.2f%%\"% rect.get_width(), weight='bold',ha = 'left', va = 'center')\n",
    "\n",
    "\n",
    "plt.show()"
   ]
  },
  {
   "cell_type": "markdown",
   "id": "HqTfI2Z2bp4o",
   "metadata": {
    "id": "HqTfI2Z2bp4o"
   },
   "source": [
    "From the plot above, the first 3 importance features include:\n",
    "\n",
    "1. V14\n",
    "2. V12\n",
    "3. V28\n",
    "4. V4\n",
    "5. V11\n"
   ]
  },
  {
   "cell_type": "markdown",
   "id": "_UytGSNWcGC7",
   "metadata": {
    "id": "_UytGSNWcGC7"
   },
   "source": [
    "**THANK YOU**"
   ]
  }
 ],
 "metadata": {
  "accelerator": "TPU",
  "colab": {
   "collapsed_sections": [
    "5tJgIcUq7qeB",
    "2d27558c",
    "addd248e",
    "9a1a045e",
    "8Set8rp0NnPx",
    "M0_SJCMwLFMR",
    "Re3yg9STjOdg",
    "gKYHABkPTQ0T",
    "ve1MdLhCSyCP",
    "3DdH-Lpx_tuH",
    "cZUhAVf03L0t",
    "wdkd3d033ngo",
    "MMsRauKQ4xOl",
    "1hhKAqsR7lTq",
    "kjzdwFBX8opH",
    "L13a0K2-KZDy",
    "hAGxDeMpF3z_",
    "iyA7Ls1_GKd5",
    "nsa_sK0WGX9h",
    "y6RzQCkpGrcy",
    "A8X8s-BkLmin",
    "rhdaw2wnL5a8",
    "EpYYScEzMFDh",
    "YupALLV2LfOK",
    "xq9fuYx5eWw5",
    "Hp5zPNuoftL1",
    "4VHVDoKg5XD4"
   ],
   "provenance": []
  },
  "gpuClass": "standard",
  "kernelspec": {
   "display_name": "Python 3 (ipykernel)",
   "language": "python",
   "name": "python3"
  },
  "language_info": {
   "codemirror_mode": {
    "name": "ipython",
    "version": 3
   },
   "file_extension": ".py",
   "mimetype": "text/x-python",
   "name": "python",
   "nbconvert_exporter": "python",
   "pygments_lexer": "ipython3",
   "version": "3.9.12"
  }
 },
 "nbformat": 4,
 "nbformat_minor": 5
}
